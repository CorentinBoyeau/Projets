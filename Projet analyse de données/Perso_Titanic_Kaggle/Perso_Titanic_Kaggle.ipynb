{
 "cells": [
  {
   "cell_type": "code",
   "execution_count": 1481,
   "metadata": {},
   "outputs": [],
   "source": [
    "import numpy  as np\n",
    "import matplotlib.pyplot as plt\n",
    "import pandas as pd \n",
    "import seaborn as sns\n",
    "\n",
    "import warnings; warnings.simplefilter('ignore')\n"
   ]
  },
  {
   "cell_type": "markdown",
   "metadata": {},
   "source": [
    "# Importation des données"
   ]
  },
  {
   "cell_type": "code",
   "execution_count": 1482,
   "metadata": {},
   "outputs": [],
   "source": [
    "train = pd.read_csv('train.csv')\n",
    "test = pd.read_csv('test.csv')\n",
    "full = pd.concat([train, test], sort=False)"
   ]
  },
  {
   "cell_type": "code",
   "execution_count": 1483,
   "metadata": {
    "scrolled": true
   },
   "outputs": [
    {
     "data": {
      "text/plain": [
       "(891, 12)"
      ]
     },
     "execution_count": 1483,
     "metadata": {},
     "output_type": "execute_result"
    }
   ],
   "source": [
    "train.shape"
   ]
  },
  {
   "cell_type": "code",
   "execution_count": 1484,
   "metadata": {},
   "outputs": [
    {
     "data": {
      "text/html": [
       "<div>\n",
       "<style scoped>\n",
       "    .dataframe tbody tr th:only-of-type {\n",
       "        vertical-align: middle;\n",
       "    }\n",
       "\n",
       "    .dataframe tbody tr th {\n",
       "        vertical-align: top;\n",
       "    }\n",
       "\n",
       "    .dataframe thead th {\n",
       "        text-align: right;\n",
       "    }\n",
       "</style>\n",
       "<table border=\"1\" class=\"dataframe\">\n",
       "  <thead>\n",
       "    <tr style=\"text-align: right;\">\n",
       "      <th></th>\n",
       "      <th>PassengerId</th>\n",
       "      <th>Survived</th>\n",
       "      <th>Pclass</th>\n",
       "      <th>Name</th>\n",
       "      <th>Sex</th>\n",
       "      <th>Age</th>\n",
       "      <th>SibSp</th>\n",
       "      <th>Parch</th>\n",
       "      <th>Ticket</th>\n",
       "      <th>Fare</th>\n",
       "      <th>Cabin</th>\n",
       "      <th>Embarked</th>\n",
       "    </tr>\n",
       "  </thead>\n",
       "  <tbody>\n",
       "    <tr>\n",
       "      <th>0</th>\n",
       "      <td>1</td>\n",
       "      <td>0</td>\n",
       "      <td>3</td>\n",
       "      <td>Braund, Mr. Owen Harris</td>\n",
       "      <td>male</td>\n",
       "      <td>22.0</td>\n",
       "      <td>1</td>\n",
       "      <td>0</td>\n",
       "      <td>A/5 21171</td>\n",
       "      <td>7.2500</td>\n",
       "      <td>NaN</td>\n",
       "      <td>S</td>\n",
       "    </tr>\n",
       "    <tr>\n",
       "      <th>1</th>\n",
       "      <td>2</td>\n",
       "      <td>1</td>\n",
       "      <td>1</td>\n",
       "      <td>Cumings, Mrs. John Bradley (Florence Briggs Th...</td>\n",
       "      <td>female</td>\n",
       "      <td>38.0</td>\n",
       "      <td>1</td>\n",
       "      <td>0</td>\n",
       "      <td>PC 17599</td>\n",
       "      <td>71.2833</td>\n",
       "      <td>C85</td>\n",
       "      <td>C</td>\n",
       "    </tr>\n",
       "    <tr>\n",
       "      <th>2</th>\n",
       "      <td>3</td>\n",
       "      <td>1</td>\n",
       "      <td>3</td>\n",
       "      <td>Heikkinen, Miss. Laina</td>\n",
       "      <td>female</td>\n",
       "      <td>26.0</td>\n",
       "      <td>0</td>\n",
       "      <td>0</td>\n",
       "      <td>STON/O2. 3101282</td>\n",
       "      <td>7.9250</td>\n",
       "      <td>NaN</td>\n",
       "      <td>S</td>\n",
       "    </tr>\n",
       "    <tr>\n",
       "      <th>3</th>\n",
       "      <td>4</td>\n",
       "      <td>1</td>\n",
       "      <td>1</td>\n",
       "      <td>Futrelle, Mrs. Jacques Heath (Lily May Peel)</td>\n",
       "      <td>female</td>\n",
       "      <td>35.0</td>\n",
       "      <td>1</td>\n",
       "      <td>0</td>\n",
       "      <td>113803</td>\n",
       "      <td>53.1000</td>\n",
       "      <td>C123</td>\n",
       "      <td>S</td>\n",
       "    </tr>\n",
       "    <tr>\n",
       "      <th>4</th>\n",
       "      <td>5</td>\n",
       "      <td>0</td>\n",
       "      <td>3</td>\n",
       "      <td>Allen, Mr. William Henry</td>\n",
       "      <td>male</td>\n",
       "      <td>35.0</td>\n",
       "      <td>0</td>\n",
       "      <td>0</td>\n",
       "      <td>373450</td>\n",
       "      <td>8.0500</td>\n",
       "      <td>NaN</td>\n",
       "      <td>S</td>\n",
       "    </tr>\n",
       "  </tbody>\n",
       "</table>\n",
       "</div>"
      ],
      "text/plain": [
       "   PassengerId  Survived  Pclass  \\\n",
       "0            1         0       3   \n",
       "1            2         1       1   \n",
       "2            3         1       3   \n",
       "3            4         1       1   \n",
       "4            5         0       3   \n",
       "\n",
       "                                                Name     Sex   Age  SibSp  \\\n",
       "0                            Braund, Mr. Owen Harris    male  22.0      1   \n",
       "1  Cumings, Mrs. John Bradley (Florence Briggs Th...  female  38.0      1   \n",
       "2                             Heikkinen, Miss. Laina  female  26.0      0   \n",
       "3       Futrelle, Mrs. Jacques Heath (Lily May Peel)  female  35.0      1   \n",
       "4                           Allen, Mr. William Henry    male  35.0      0   \n",
       "\n",
       "   Parch            Ticket     Fare Cabin Embarked  \n",
       "0      0         A/5 21171   7.2500   NaN        S  \n",
       "1      0          PC 17599  71.2833   C85        C  \n",
       "2      0  STON/O2. 3101282   7.9250   NaN        S  \n",
       "3      0            113803  53.1000  C123        S  \n",
       "4      0            373450   8.0500   NaN        S  "
      ]
     },
     "execution_count": 1484,
     "metadata": {},
     "output_type": "execute_result"
    }
   ],
   "source": [
    "train.head()"
   ]
  },
  {
   "cell_type": "code",
   "execution_count": 1485,
   "metadata": {},
   "outputs": [
    {
     "data": {
      "text/plain": [
       "PassengerId      int64\n",
       "Survived         int64\n",
       "Pclass           int64\n",
       "Name            object\n",
       "Sex             object\n",
       "Age            float64\n",
       "SibSp            int64\n",
       "Parch            int64\n",
       "Ticket          object\n",
       "Fare           float64\n",
       "Cabin           object\n",
       "Embarked        object\n",
       "dtype: object"
      ]
     },
     "execution_count": 1485,
     "metadata": {},
     "output_type": "execute_result"
    }
   ],
   "source": [
    "train.dtypes"
   ]
  },
  {
   "cell_type": "code",
   "execution_count": 1486,
   "metadata": {},
   "outputs": [
    {
     "data": {
      "text/html": [
       "<div>\n",
       "<style scoped>\n",
       "    .dataframe tbody tr th:only-of-type {\n",
       "        vertical-align: middle;\n",
       "    }\n",
       "\n",
       "    .dataframe tbody tr th {\n",
       "        vertical-align: top;\n",
       "    }\n",
       "\n",
       "    .dataframe thead th {\n",
       "        text-align: right;\n",
       "    }\n",
       "</style>\n",
       "<table border=\"1\" class=\"dataframe\">\n",
       "  <thead>\n",
       "    <tr style=\"text-align: right;\">\n",
       "      <th></th>\n",
       "      <th>PassengerId</th>\n",
       "      <th>Survived</th>\n",
       "      <th>Pclass</th>\n",
       "      <th>Age</th>\n",
       "      <th>SibSp</th>\n",
       "      <th>Parch</th>\n",
       "      <th>Fare</th>\n",
       "    </tr>\n",
       "  </thead>\n",
       "  <tbody>\n",
       "    <tr>\n",
       "      <th>count</th>\n",
       "      <td>891.000000</td>\n",
       "      <td>891.000000</td>\n",
       "      <td>891.000000</td>\n",
       "      <td>714.000000</td>\n",
       "      <td>891.000000</td>\n",
       "      <td>891.000000</td>\n",
       "      <td>891.000000</td>\n",
       "    </tr>\n",
       "    <tr>\n",
       "      <th>mean</th>\n",
       "      <td>446.000000</td>\n",
       "      <td>0.383838</td>\n",
       "      <td>2.308642</td>\n",
       "      <td>29.699118</td>\n",
       "      <td>0.523008</td>\n",
       "      <td>0.381594</td>\n",
       "      <td>32.204208</td>\n",
       "    </tr>\n",
       "    <tr>\n",
       "      <th>std</th>\n",
       "      <td>257.353842</td>\n",
       "      <td>0.486592</td>\n",
       "      <td>0.836071</td>\n",
       "      <td>14.526497</td>\n",
       "      <td>1.102743</td>\n",
       "      <td>0.806057</td>\n",
       "      <td>49.693429</td>\n",
       "    </tr>\n",
       "    <tr>\n",
       "      <th>min</th>\n",
       "      <td>1.000000</td>\n",
       "      <td>0.000000</td>\n",
       "      <td>1.000000</td>\n",
       "      <td>0.420000</td>\n",
       "      <td>0.000000</td>\n",
       "      <td>0.000000</td>\n",
       "      <td>0.000000</td>\n",
       "    </tr>\n",
       "    <tr>\n",
       "      <th>25%</th>\n",
       "      <td>223.500000</td>\n",
       "      <td>0.000000</td>\n",
       "      <td>2.000000</td>\n",
       "      <td>20.125000</td>\n",
       "      <td>0.000000</td>\n",
       "      <td>0.000000</td>\n",
       "      <td>7.910400</td>\n",
       "    </tr>\n",
       "    <tr>\n",
       "      <th>50%</th>\n",
       "      <td>446.000000</td>\n",
       "      <td>0.000000</td>\n",
       "      <td>3.000000</td>\n",
       "      <td>28.000000</td>\n",
       "      <td>0.000000</td>\n",
       "      <td>0.000000</td>\n",
       "      <td>14.454200</td>\n",
       "    </tr>\n",
       "    <tr>\n",
       "      <th>75%</th>\n",
       "      <td>668.500000</td>\n",
       "      <td>1.000000</td>\n",
       "      <td>3.000000</td>\n",
       "      <td>38.000000</td>\n",
       "      <td>1.000000</td>\n",
       "      <td>0.000000</td>\n",
       "      <td>31.000000</td>\n",
       "    </tr>\n",
       "    <tr>\n",
       "      <th>max</th>\n",
       "      <td>891.000000</td>\n",
       "      <td>1.000000</td>\n",
       "      <td>3.000000</td>\n",
       "      <td>80.000000</td>\n",
       "      <td>8.000000</td>\n",
       "      <td>6.000000</td>\n",
       "      <td>512.329200</td>\n",
       "    </tr>\n",
       "  </tbody>\n",
       "</table>\n",
       "</div>"
      ],
      "text/plain": [
       "       PassengerId    Survived      Pclass         Age       SibSp  \\\n",
       "count   891.000000  891.000000  891.000000  714.000000  891.000000   \n",
       "mean    446.000000    0.383838    2.308642   29.699118    0.523008   \n",
       "std     257.353842    0.486592    0.836071   14.526497    1.102743   \n",
       "min       1.000000    0.000000    1.000000    0.420000    0.000000   \n",
       "25%     223.500000    0.000000    2.000000   20.125000    0.000000   \n",
       "50%     446.000000    0.000000    3.000000   28.000000    0.000000   \n",
       "75%     668.500000    1.000000    3.000000   38.000000    1.000000   \n",
       "max     891.000000    1.000000    3.000000   80.000000    8.000000   \n",
       "\n",
       "            Parch        Fare  \n",
       "count  891.000000  891.000000  \n",
       "mean     0.381594   32.204208  \n",
       "std      0.806057   49.693429  \n",
       "min      0.000000    0.000000  \n",
       "25%      0.000000    7.910400  \n",
       "50%      0.000000   14.454200  \n",
       "75%      0.000000   31.000000  \n",
       "max      6.000000  512.329200  "
      ]
     },
     "execution_count": 1486,
     "metadata": {},
     "output_type": "execute_result"
    }
   ],
   "source": [
    "train.describe()"
   ]
  },
  {
   "cell_type": "markdown",
   "metadata": {},
   "source": [
    "On remarque qu'il nous manque des variables Age ! "
   ]
  },
  {
   "cell_type": "markdown",
   "metadata": {},
   "source": [
    "# Première analyse statistique\n",
    "\n",
    "## Graphiquement"
   ]
  },
  {
   "cell_type": "code",
   "execution_count": 1487,
   "metadata": {},
   "outputs": [
    {
     "data": {
      "text/plain": [
       "<seaborn.axisgrid.FacetGrid at 0x1ba0f40a4e0>"
      ]
     },
     "execution_count": 1487,
     "metadata": {},
     "output_type": "execute_result"
    },
    {
     "data": {
      "image/png": "[encoded data removed]",
      "text/plain": [
       "<Figure size 402.375x360 with 1 Axes>"
      ]
     },
     "metadata": {
      "needs_background": "light"
     },
     "output_type": "display_data"
    }
   ],
   "source": [
    "sns.catplot(x='Sex', y='Survived', hue='Pclass', kind='bar', data=train)"
   ]
  },
  {
   "cell_type": "code",
   "execution_count": 1488,
   "metadata": {},
   "outputs": [
    {
     "data": {
      "text/plain": [
       "<matplotlib.legend.Legend at 0x1ba1042ea20>"
      ]
     },
     "execution_count": 1488,
     "metadata": {},
     "output_type": "execute_result"
    },
    {
     "data": {
      "image/png": "[encoded data removed]",
      "text/plain": [
       "<Figure size 432x288 with 1 Axes>"
      ]
     },
     "metadata": {
      "needs_background": "light"
     },
     "output_type": "display_data"
    }
   ],
   "source": [
    "sns.distplot(train['Age'][train['Survived']==0].dropna(axis=0), kde=False, bins=25,label= \"Not Survived\")\n",
    "sns.distplot(train['Age'][train['Survived']==1].dropna(axis=0), kde=False, bins=25,label= \"Survived\")\n",
    "plt.legend()"
   ]
  },
  {
   "cell_type": "code",
   "execution_count": 1489,
   "metadata": {},
   "outputs": [
    {
     "data": {
      "text/plain": [
       "<seaborn.axisgrid.FacetGrid at 0x1ba0f05c5f8>"
      ]
     },
     "execution_count": 1489,
     "metadata": {},
     "output_type": "execute_result"
    },
    {
     "data": {
      "image/png": "[encoded data removed]",
      "text/plain": [
       "<Figure size 360x360 with 1 Axes>"
      ]
     },
     "metadata": {
      "needs_background": "light"
     },
     "output_type": "display_data"
    }
   ],
   "source": [
    "sns.catplot(x='Embarked', y='Survived', kind='bar', data=train)"
   ]
  },
  {
   "cell_type": "code",
   "execution_count": 1490,
   "metadata": {},
   "outputs": [
    {
     "data": {
      "text/plain": [
       "<matplotlib.legend.Legend at 0x1ba105749b0>"
      ]
     },
     "execution_count": 1490,
     "metadata": {},
     "output_type": "execute_result"
    },
    {
     "data": {
      "image/png": "[encoded data removed]",
      "text/plain": [
       "<Figure size 432x288 with 1 Axes>"
      ]
     },
     "metadata": {
      "needs_background": "light"
     },
     "output_type": "display_data"
    }
   ],
   "source": [
    "sns.distplot(train['Fare'][train['Survived']==0][train['Fare']<300].dropna(axis=0), kde=False, label= \"Not Survived\")\n",
    "sns.distplot(train['Fare'][train['Survived']==1][train['Fare']<300].dropna(axis=0), kde=False, label= \"Survived\")\n",
    "plt.legend()"
   ]
  },
  {
   "cell_type": "markdown",
   "metadata": {},
   "source": [
    "## Tableaux"
   ]
  },
  {
   "cell_type": "code",
   "execution_count": 1491,
   "metadata": {},
   "outputs": [
    {
     "data": {
      "text/plain": [
       "26"
      ]
     },
     "execution_count": 1491,
     "metadata": {},
     "output_type": "execute_result"
    }
   ],
   "source": [
    "np.sum([train['Age']>=60])"
   ]
  },
  {
   "cell_type": "code",
   "execution_count": 1492,
   "metadata": {},
   "outputs": [
    {
     "data": {
      "text/html": [
       "<div>\n",
       "<style scoped>\n",
       "    .dataframe tbody tr th:only-of-type {\n",
       "        vertical-align: middle;\n",
       "    }\n",
       "\n",
       "    .dataframe tbody tr th {\n",
       "        vertical-align: top;\n",
       "    }\n",
       "\n",
       "    .dataframe thead th {\n",
       "        text-align: right;\n",
       "    }\n",
       "</style>\n",
       "<table border=\"1\" class=\"dataframe\">\n",
       "  <thead>\n",
       "    <tr style=\"text-align: right;\">\n",
       "      <th></th>\n",
       "      <th></th>\n",
       "      <th>PassengerId</th>\n",
       "      <th>Survived</th>\n",
       "      <th>Age</th>\n",
       "      <th>SibSp</th>\n",
       "      <th>Parch</th>\n",
       "      <th>Fare</th>\n",
       "    </tr>\n",
       "    <tr>\n",
       "      <th>Sex</th>\n",
       "      <th>Pclass</th>\n",
       "      <th></th>\n",
       "      <th></th>\n",
       "      <th></th>\n",
       "      <th></th>\n",
       "      <th></th>\n",
       "      <th></th>\n",
       "    </tr>\n",
       "  </thead>\n",
       "  <tbody>\n",
       "    <tr>\n",
       "      <th rowspan=\"2\" valign=\"top\">female</th>\n",
       "      <th>1</th>\n",
       "      <td>491.000000</td>\n",
       "      <td>1.000000</td>\n",
       "      <td>61.666667</td>\n",
       "      <td>0.666667</td>\n",
       "      <td>0.00</td>\n",
       "      <td>77.736100</td>\n",
       "    </tr>\n",
       "    <tr>\n",
       "      <th>3</th>\n",
       "      <td>484.000000</td>\n",
       "      <td>1.000000</td>\n",
       "      <td>63.000000</td>\n",
       "      <td>0.000000</td>\n",
       "      <td>0.00</td>\n",
       "      <td>9.587500</td>\n",
       "    </tr>\n",
       "    <tr>\n",
       "      <th rowspan=\"3\" valign=\"top\">male</th>\n",
       "      <th>1</th>\n",
       "      <td>453.857143</td>\n",
       "      <td>0.142857</td>\n",
       "      <td>65.428571</td>\n",
       "      <td>0.214286</td>\n",
       "      <td>0.50</td>\n",
       "      <td>56.239886</td>\n",
       "    </tr>\n",
       "    <tr>\n",
       "      <th>2</th>\n",
       "      <td>490.750000</td>\n",
       "      <td>0.250000</td>\n",
       "      <td>64.500000</td>\n",
       "      <td>0.250000</td>\n",
       "      <td>0.25</td>\n",
       "      <td>17.625000</td>\n",
       "    </tr>\n",
       "    <tr>\n",
       "      <th>3</th>\n",
       "      <td>394.250000</td>\n",
       "      <td>0.000000</td>\n",
       "      <td>67.625000</td>\n",
       "      <td>0.000000</td>\n",
       "      <td>0.00</td>\n",
       "      <td>7.378125</td>\n",
       "    </tr>\n",
       "  </tbody>\n",
       "</table>\n",
       "</div>"
      ],
      "text/plain": [
       "               PassengerId  Survived        Age     SibSp  Parch       Fare\n",
       "Sex    Pclass                                                              \n",
       "female 1        491.000000  1.000000  61.666667  0.666667   0.00  77.736100\n",
       "       3        484.000000  1.000000  63.000000  0.000000   0.00   9.587500\n",
       "male   1        453.857143  0.142857  65.428571  0.214286   0.50  56.239886\n",
       "       2        490.750000  0.250000  64.500000  0.250000   0.25  17.625000\n",
       "       3        394.250000  0.000000  67.625000  0.000000   0.00   7.378125"
      ]
     },
     "execution_count": 1492,
     "metadata": {},
     "output_type": "execute_result"
    }
   ],
   "source": [
    "train[train['Age']>=60].groupby(['Sex', 'Pclass']).mean()"
   ]
  },
  {
   "cell_type": "markdown",
   "metadata": {},
   "source": [
    "Le sexe et la classe a aussi une importance chez les mineurs ! Seulement 23% des garçons de 3eme classe ont survécu, contre 54% des filles de troisième classe"
   ]
  },
  {
   "cell_type": "code",
   "execution_count": 1493,
   "metadata": {
    "scrolled": true
   },
   "outputs": [
    {
     "data": {
      "text/html": [
       "<div>\n",
       "<style scoped>\n",
       "    .dataframe tbody tr th:only-of-type {\n",
       "        vertical-align: middle;\n",
       "    }\n",
       "\n",
       "    .dataframe tbody tr th {\n",
       "        vertical-align: top;\n",
       "    }\n",
       "\n",
       "    .dataframe thead th {\n",
       "        text-align: right;\n",
       "    }\n",
       "</style>\n",
       "<table border=\"1\" class=\"dataframe\">\n",
       "  <thead>\n",
       "    <tr style=\"text-align: right;\">\n",
       "      <th></th>\n",
       "      <th></th>\n",
       "      <th>PassengerId</th>\n",
       "      <th>Survived</th>\n",
       "      <th>Age</th>\n",
       "      <th>SibSp</th>\n",
       "      <th>Parch</th>\n",
       "      <th>Fare</th>\n",
       "    </tr>\n",
       "    <tr>\n",
       "      <th>Sex</th>\n",
       "      <th>Pclass</th>\n",
       "      <th></th>\n",
       "      <th></th>\n",
       "      <th></th>\n",
       "      <th></th>\n",
       "      <th></th>\n",
       "      <th></th>\n",
       "    </tr>\n",
       "  </thead>\n",
       "  <tbody>\n",
       "    <tr>\n",
       "      <th rowspan=\"3\" valign=\"top\">female</th>\n",
       "      <th>1</th>\n",
       "      <td>473.887097</td>\n",
       "      <td>0.983871</td>\n",
       "      <td>32.225806</td>\n",
       "      <td>0.532258</td>\n",
       "      <td>0.500000</td>\n",
       "      <td>112.657461</td>\n",
       "    </tr>\n",
       "    <tr>\n",
       "      <th>2</th>\n",
       "      <td>455.964286</td>\n",
       "      <td>0.910714</td>\n",
       "      <td>30.526786</td>\n",
       "      <td>0.517857</td>\n",
       "      <td>0.517857</td>\n",
       "      <td>21.660343</td>\n",
       "    </tr>\n",
       "    <tr>\n",
       "      <th>3</th>\n",
       "      <td>422.060606</td>\n",
       "      <td>0.409091</td>\n",
       "      <td>28.189394</td>\n",
       "      <td>0.439394</td>\n",
       "      <td>0.909091</td>\n",
       "      <td>14.457892</td>\n",
       "    </tr>\n",
       "    <tr>\n",
       "      <th rowspan=\"3\" valign=\"top\">male</th>\n",
       "      <th>1</th>\n",
       "      <td>452.220588</td>\n",
       "      <td>0.441176</td>\n",
       "      <td>35.551471</td>\n",
       "      <td>0.411765</td>\n",
       "      <td>0.205882</td>\n",
       "      <td>74.181557</td>\n",
       "    </tr>\n",
       "    <tr>\n",
       "      <th>2</th>\n",
       "      <td>433.560000</td>\n",
       "      <td>0.066667</td>\n",
       "      <td>30.000000</td>\n",
       "      <td>0.360000</td>\n",
       "      <td>0.160000</td>\n",
       "      <td>21.247611</td>\n",
       "    </tr>\n",
       "    <tr>\n",
       "      <th>3</th>\n",
       "      <td>463.840000</td>\n",
       "      <td>0.140000</td>\n",
       "      <td>28.450000</td>\n",
       "      <td>0.175000</td>\n",
       "      <td>0.110000</td>\n",
       "      <td>10.115433</td>\n",
       "    </tr>\n",
       "  </tbody>\n",
       "</table>\n",
       "</div>"
      ],
      "text/plain": [
       "               PassengerId  Survived        Age     SibSp     Parch  \\\n",
       "Sex    Pclass                                                         \n",
       "female 1        473.887097  0.983871  32.225806  0.532258  0.500000   \n",
       "       2        455.964286  0.910714  30.526786  0.517857  0.517857   \n",
       "       3        422.060606  0.409091  28.189394  0.439394  0.909091   \n",
       "male   1        452.220588  0.441176  35.551471  0.411765  0.205882   \n",
       "       2        433.560000  0.066667  30.000000  0.360000  0.160000   \n",
       "       3        463.840000  0.140000  28.450000  0.175000  0.110000   \n",
       "\n",
       "                     Fare  \n",
       "Sex    Pclass              \n",
       "female 1       112.657461  \n",
       "       2        21.660343  \n",
       "       3        14.457892  \n",
       "male   1        74.181557  \n",
       "       2        21.247611  \n",
       "       3        10.115433  "
      ]
     },
     "execution_count": 1493,
     "metadata": {},
     "output_type": "execute_result"
    }
   ],
   "source": [
    "train[(train['Age']>=18)&(train['Age']<50)].groupby(['Sex', 'Pclass']).mean()"
   ]
  },
  {
   "cell_type": "markdown",
   "metadata": {},
   "source": [
    "On voit clairement l'impact de l'âge dans la chance de survie, 13% de survie chez les hommes de 3eme classe contre 23% chez les mineurs de la même classe. Et 42% de survie chez les femmes de 3eme classe contre 54% chez les mineurs de la même classe"
   ]
  },
  {
   "cell_type": "markdown",
   "metadata": {},
   "source": [
    "# Création d'une nouvelle variable\n",
    "\n",
    "## Variable Title"
   ]
  },
  {
   "cell_type": "markdown",
   "metadata": {},
   "source": [
    "On va extraire le titre présent dans le nom des personnes"
   ]
  },
  {
   "cell_type": "code",
   "execution_count": 1494,
   "metadata": {},
   "outputs": [],
   "source": [
    "import re\n",
    "Title = np.array([])\n",
    "for i in range (full.shape[0]):\n",
    "    Title=np.append(Title, re.search(\", [A-Za-z]*(\\s[A-Za-z]*.|.)\",full[\"Name\"].values[i])[0][2:-1])\n",
    "\n",
    "full['Title']= Title"
   ]
  },
  {
   "cell_type": "code",
   "execution_count": 1495,
   "metadata": {},
   "outputs": [
    {
     "data": {
      "text/plain": [
       "Mr              757\n",
       "Miss            260\n",
       "Mrs             197\n",
       "Master           61\n",
       "Dr                8\n",
       "Rev               8\n",
       "Col               4\n",
       "Mlle              2\n",
       "Ms                2\n",
       "Major             2\n",
       "Lady              1\n",
       "Sir               1\n",
       "Dona              1\n",
       "the Countess      1\n",
       "Mme               1\n",
       "Jonkheer          1\n",
       "Capt              1\n",
       "Don               1\n",
       "Name: Title, dtype: int64"
      ]
     },
     "execution_count": 1495,
     "metadata": {},
     "output_type": "execute_result"
    }
   ],
   "source": [
    "full['Title'].value_counts()"
   ]
  },
  {
   "cell_type": "markdown",
   "metadata": {},
   "source": [
    "Il y a trop de petits titres on va essayer de rassembler certains titres"
   ]
  },
  {
   "cell_type": "code",
   "execution_count": 1496,
   "metadata": {},
   "outputs": [],
   "source": [
    "miss = pd.Series(['Ms', 'Mlle'])\n",
    "royalty = pd.Series(['the Countess', 'Dona', 'Lady', 'Jonkheer', 'Sir'])\n",
    "officer = pd.Series(['Dr', 'Rev', 'Col', 'Major', 'Don', 'Capt'])\n",
    "\n",
    "full['Title'][full['Title'].isin(miss)] = 'Miss'\n",
    "full['Title'][full['Title'].isin(royalty)] = 'royalty'\n",
    "full['Title'][full['Title'].isin(officer)] = 'officer'\n",
    "\n",
    "full['Title'][full['Title']=='Mme'] = 'Mrs'"
   ]
  },
  {
   "cell_type": "markdown",
   "metadata": {},
   "source": [
    "## Variable FamilySize"
   ]
  },
  {
   "cell_type": "code",
   "execution_count": 1497,
   "metadata": {
    "scrolled": true
   },
   "outputs": [
    {
     "data": {
      "text/plain": [
       "<seaborn.axisgrid.FacetGrid at 0x1ba106b4160>"
      ]
     },
     "execution_count": 1497,
     "metadata": {},
     "output_type": "execute_result"
    },
    {
     "data": {
      "image/png": "[encoded data removed]",
      "text/plain": [
       "<Figure size 360x360 with 1 Axes>"
      ]
     },
     "metadata": {
      "needs_background": "light"
     },
     "output_type": "display_data"
    }
   ],
   "source": [
    "full[\"FamilySize\"] = full[\"SibSp\"]+full[\"Parch\"]\n",
    "train_temp =full.loc[:890,:]\n",
    "\n",
    "sns.catplot(x='FamilySize', y='Survived', kind='bar', data=train_temp)\n"
   ]
  },
  {
   "cell_type": "markdown",
   "metadata": {},
   "source": [
    "On remarque que les chances de survie augmentent de manière significative pour les familles entre 1 et 3 personnes (donc des familles de 2 à 4 personnes). On peut donc créer une variable catégorielle en fonction de la taille de la famille.\n"
   ]
  },
  {
   "cell_type": "code",
   "execution_count": 1498,
   "metadata": {},
   "outputs": [],
   "source": [
    "full['FSizeCat']=''\n",
    "\n",
    "full['FSizeCat'][full['FamilySize']<2]= 'Small'\n",
    "full['FSizeCat'][(full['FamilySize']>1 )& (full['FamilySize']<4)]= 'Medium'\n",
    "full['FSizeCat'][full['FamilySize']>3]= 'Big'"
   ]
  },
  {
   "cell_type": "markdown",
   "metadata": {},
   "source": [
    "# Comptabilisation et remplacement des NA"
   ]
  },
  {
   "cell_type": "code",
   "execution_count": 1499,
   "metadata": {
    "scrolled": true
   },
   "outputs": [
    {
     "data": {
      "text/plain": [
       "PassengerId       0\n",
       "Survived        418\n",
       "Pclass            0\n",
       "Name              0\n",
       "Sex               0\n",
       "Age             263\n",
       "SibSp             0\n",
       "Parch             0\n",
       "Ticket            0\n",
       "Fare              1\n",
       "Cabin          1014\n",
       "Embarked          2\n",
       "Title             0\n",
       "FamilySize        0\n",
       "FSizeCat          0\n",
       "dtype: int64"
      ]
     },
     "execution_count": 1499,
     "metadata": {},
     "output_type": "execute_result"
    }
   ],
   "source": [
    "full.isnull().sum()"
   ]
  },
  {
   "cell_type": "markdown",
   "metadata": {},
   "source": [
    "Il manque évidemment 418 variables Survived correspondant au dataset test. Il manque 263 variables Age, 1 variables Fare et 2 variables Embarked qu'on pourra remplacer. Trop de NA dans la variable Cabin, on la supprime"
   ]
  },
  {
   "cell_type": "markdown",
   "metadata": {},
   "source": [
    "## Remplacement NA dans Embarked"
   ]
  },
  {
   "cell_type": "code",
   "execution_count": 1500,
   "metadata": {},
   "outputs": [
    {
     "data": {
      "text/plain": [
       "Pclass  Embarked\n",
       "1       S           177\n",
       "        C           141\n",
       "        Q             3\n",
       "2       S           242\n",
       "        C            28\n",
       "        Q             7\n",
       "3       S           495\n",
       "        Q           113\n",
       "        C           101\n",
       "Name: Embarked, dtype: int64"
      ]
     },
     "execution_count": 1500,
     "metadata": {},
     "output_type": "execute_result"
    }
   ],
   "source": [
    "full['Embarked'].groupby(full['Pclass']).value_counts()"
   ]
  },
  {
   "cell_type": "markdown",
   "metadata": {},
   "source": [
    "L'embarquement dépend beaucoup de la classe, on peut remplacer les valeurs manquantes par les médianes pour chaque classe, il s'agit ici de S pour les 3 classes."
   ]
  },
  {
   "cell_type": "code",
   "execution_count": 1501,
   "metadata": {
    "scrolled": true
   },
   "outputs": [],
   "source": [
    "full['Embarked'][full['Embarked'].isnull()] = 'S'"
   ]
  },
  {
   "cell_type": "markdown",
   "metadata": {},
   "source": [
    "## Remplacement NA dans Fare"
   ]
  },
  {
   "cell_type": "markdown",
   "metadata": {},
   "source": [
    "Il nous manque une valeur, on va remplacer par la valeur médiane du prix d'un ticket en fonction de la classe du passager en question."
   ]
  },
  {
   "cell_type": "code",
   "execution_count": 1502,
   "metadata": {},
   "outputs": [
    {
     "data": {
      "text/plain": [
       "Pclass\n",
       "1    60.0000\n",
       "2    15.0458\n",
       "3     8.0500\n",
       "Name: Fare, dtype: float64"
      ]
     },
     "execution_count": 1502,
     "metadata": {},
     "output_type": "execute_result"
    }
   ],
   "source": [
    "med = full['Fare'].groupby(full['Pclass']).median()\n",
    "med"
   ]
  },
  {
   "cell_type": "code",
   "execution_count": 1503,
   "metadata": {},
   "outputs": [],
   "source": [
    "full['Fare'][full['Fare'].isna()] = med[full['Pclass'][full['Fare'].isna()]]"
   ]
  },
  {
   "cell_type": "code",
   "execution_count": 1504,
   "metadata": {},
   "outputs": [
    {
     "data": {
      "text/plain": [
       "PassengerId       0\n",
       "Survived        418\n",
       "Pclass            0\n",
       "Name              0\n",
       "Sex               0\n",
       "Age             263\n",
       "SibSp             0\n",
       "Parch             0\n",
       "Ticket            0\n",
       "Fare              0\n",
       "Cabin          1014\n",
       "Embarked          0\n",
       "Title             0\n",
       "FamilySize        0\n",
       "FSizeCat          0\n",
       "dtype: int64"
      ]
     },
     "execution_count": 1504,
     "metadata": {},
     "output_type": "execute_result"
    }
   ],
   "source": [
    "full.isnull().sum()"
   ]
  },
  {
   "cell_type": "markdown",
   "metadata": {},
   "source": [
    "## Remplacement NA dans Age"
   ]
  },
  {
   "cell_type": "markdown",
   "metadata": {},
   "source": [
    "Le nom nous donne une bonne information sur l'âge des personnes, puisque le titre est présent dedans"
   ]
  },
  {
   "cell_type": "code",
   "execution_count": 1505,
   "metadata": {},
   "outputs": [
    {
     "data": {
      "text/plain": [
       "Title\n",
       "Master      4.0\n",
       "Miss       22.0\n",
       "Mr         29.0\n",
       "Mrs        35.0\n",
       "officer    49.0\n",
       "royalty    39.0\n",
       "Name: Age, dtype: float64"
      ]
     },
     "execution_count": 1505,
     "metadata": {},
     "output_type": "execute_result"
    }
   ],
   "source": [
    "median_age = full['Age'].groupby(full['Title']).median()\n",
    "median_age"
   ]
  },
  {
   "cell_type": "code",
   "execution_count": 1506,
   "metadata": {},
   "outputs": [],
   "source": [
    "full['Age'][full['Age'].isna()] = median_age[full['Title'][full['Age'].isna()]].values"
   ]
  },
  {
   "cell_type": "markdown",
   "metadata": {},
   "source": [
    "## Création variable Child"
   ]
  },
  {
   "cell_type": "code",
   "execution_count": 1507,
   "metadata": {},
   "outputs": [],
   "source": [
    "full['Child']=''\n",
    "full['Child'][full['Age']<18]= 1\n",
    "full['Child'][full['Age']>=18]= 0"
   ]
  },
  {
   "cell_type": "markdown",
   "metadata": {},
   "source": [
    "# Suppression variables"
   ]
  },
  {
   "cell_type": "code",
   "execution_count": 1508,
   "metadata": {},
   "outputs": [],
   "source": [
    "full = full.drop(['PassengerId', 'Ticket', 'Cabin'], axis=1)\n"
   ]
  },
  {
   "cell_type": "markdown",
   "metadata": {},
   "source": [
    "# Transformation des facteurs textes en chiffres"
   ]
  },
  {
   "cell_type": "markdown",
   "metadata": {},
   "source": [
    "## Encodage ordinal\n",
    "\n",
    "Transforme les facteurs en entier positif. Attention ce n'est pas toujours cohérent lorsqu'il y a plus de 2 facteurs, car cela introduit des relations d'ordres entre les facteurs (0,1,2,3...), l'encodage OneHot est dans ce cas une meilleur idée. Il semble cependant que l'encodage OneHot ne soit pas le meilleur dans certains cas, dans le cas du RandomForrest l'encodage ordinal semble fournir de meilleurs résultats"
   ]
  },
  {
   "cell_type": "code",
   "execution_count": 1509,
   "metadata": {},
   "outputs": [],
   "source": [
    "from sklearn.preprocessing import LabelEncoder \n",
    "\n",
    "encoder = LabelEncoder()\n",
    "full['Sex']=encoder.fit_transform(full['Sex'])  #1 si homme et 0 si femme\n"
   ]
  },
  {
   "cell_type": "code",
   "execution_count": null,
   "metadata": {},
   "outputs": [],
   "source": []
  },
  {
   "cell_type": "markdown",
   "metadata": {},
   "source": [
    "## Encodage OneHot\n",
    "\n",
    "Création d'autant de variables binaires qu'il y a de facteur, une colonne par facteurs = 1 si facteur est présent, 0 sinon\n",
    "\n",
    "### Variable Embarked"
   ]
  },
  {
   "cell_type": "code",
   "execution_count": 1510,
   "metadata": {},
   "outputs": [],
   "source": [
    "from sklearn.preprocessing import LabelBinarizer\n",
    "\n",
    "encoder=LabelBinarizer()\n",
    "EmbarkedOH = pd.DataFrame(encoder.fit_transform(full['Embarked']), columns = ['C', 'Q', 'S'])\n",
    "full =pd.concat([full.reset_index(), EmbarkedOH], axis=1, join='inner')  #axis = 1 on veut ajouter des colonnes et non des lignes"
   ]
  },
  {
   "cell_type": "markdown",
   "metadata": {},
   "source": [
    "### Variable Title"
   ]
  },
  {
   "cell_type": "code",
   "execution_count": 1511,
   "metadata": {},
   "outputs": [],
   "source": [
    "\n",
    "encoder=LabelBinarizer()\n",
    "TitleOH = pd.DataFrame(encoder.fit_transform(full['Title']), columns=['Master','Miss','Mr','Mrs','officer','royalty'])\n",
    "full =pd.concat([full.reset_index(), TitleOH], axis=1, join='inner')\n"
   ]
  },
  {
   "cell_type": "markdown",
   "metadata": {},
   "source": [
    "## Variable FSizeCat"
   ]
  },
  {
   "cell_type": "code",
   "execution_count": 1512,
   "metadata": {},
   "outputs": [],
   "source": [
    "\n",
    "encoder=LabelBinarizer()\n",
    "FSizeCatOH = pd.DataFrame(encoder.fit_transform(full['FSizeCat']), columns=['Small', 'Medium', 'Big'])\n",
    "full =pd.concat([full, FSizeCatOH], axis=1, join='inner')\n"
   ]
  },
  {
   "cell_type": "markdown",
   "metadata": {},
   "source": [
    "## Encodage ordinal nécessaire pour certains algos"
   ]
  },
  {
   "cell_type": "code",
   "execution_count": 1513,
   "metadata": {},
   "outputs": [],
   "source": [
    "encoder = LabelEncoder()\n",
    "full['Embarked']=encoder.fit_transform(full['Embarked'])\n",
    "\n",
    "encoder = LabelEncoder()\n",
    "full['Title']=encoder.fit_transform(full['Title'])\n",
    "\n",
    "encoder = LabelEncoder()\n",
    "full['FSizeCat']=encoder.fit_transform(full['FSizeCat'])"
   ]
  },
  {
   "cell_type": "code",
   "execution_count": 1514,
   "metadata": {},
   "outputs": [],
   "source": [
    "full = full.drop(['level_0', 'index'], axis=1)"
   ]
  },
  {
   "cell_type": "markdown",
   "metadata": {},
   "source": [
    "# Normalisation des données (Pas utile pour tous les algos)"
   ]
  },
  {
   "cell_type": "markdown",
   "metadata": {},
   "source": [
    "La normalisation n'est pas utile pour tous les algos, inutile pour Random Forest par exemple, mais pour certains elle augmente considérablement les résultats, comme pour l'ago KNN."
   ]
  },
  {
   "cell_type": "code",
   "execution_count": 1515,
   "metadata": {},
   "outputs": [],
   "source": [
    "from sklearn.preprocessing import RobustScaler\n"
   ]
  },
  {
   "cell_type": "code",
   "execution_count": 1562,
   "metadata": {},
   "outputs": [
    {
     "data": {
      "text/html": [
       "<div>\n",
       "<style scoped>\n",
       "    .dataframe tbody tr th:only-of-type {\n",
       "        vertical-align: middle;\n",
       "    }\n",
       "\n",
       "    .dataframe tbody tr th {\n",
       "        vertical-align: top;\n",
       "    }\n",
       "\n",
       "    .dataframe thead th {\n",
       "        text-align: right;\n",
       "    }\n",
       "</style>\n",
       "<table border=\"1\" class=\"dataframe\">\n",
       "  <thead>\n",
       "    <tr style=\"text-align: right;\">\n",
       "      <th></th>\n",
       "      <th>Survived</th>\n",
       "      <th>Pclass</th>\n",
       "      <th>Name</th>\n",
       "      <th>Sex</th>\n",
       "      <th>Age</th>\n",
       "      <th>SibSp</th>\n",
       "      <th>Parch</th>\n",
       "      <th>Fare</th>\n",
       "      <th>Embarked</th>\n",
       "      <th>Title</th>\n",
       "      <th>...</th>\n",
       "      <th>S</th>\n",
       "      <th>Master</th>\n",
       "      <th>Miss</th>\n",
       "      <th>Mr</th>\n",
       "      <th>Mrs</th>\n",
       "      <th>officer</th>\n",
       "      <th>royalty</th>\n",
       "      <th>Small</th>\n",
       "      <th>Medium</th>\n",
       "      <th>Big</th>\n",
       "    </tr>\n",
       "  </thead>\n",
       "  <tbody>\n",
       "    <tr>\n",
       "      <th>0</th>\n",
       "      <td>0.0</td>\n",
       "      <td>3</td>\n",
       "      <td>Braund, Mr. Owen Harris</td>\n",
       "      <td>1</td>\n",
       "      <td>-0.538462</td>\n",
       "      <td>1</td>\n",
       "      <td>0</td>\n",
       "      <td>-0.308146</td>\n",
       "      <td>2</td>\n",
       "      <td>2</td>\n",
       "      <td>...</td>\n",
       "      <td>1</td>\n",
       "      <td>0</td>\n",
       "      <td>0</td>\n",
       "      <td>1</td>\n",
       "      <td>0</td>\n",
       "      <td>0</td>\n",
       "      <td>0</td>\n",
       "      <td>0</td>\n",
       "      <td>0</td>\n",
       "      <td>1</td>\n",
       "    </tr>\n",
       "    <tr>\n",
       "      <th>1</th>\n",
       "      <td>1.0</td>\n",
       "      <td>1</td>\n",
       "      <td>Cumings, Mrs. John Bradley (Florence Briggs Th...</td>\n",
       "      <td>0</td>\n",
       "      <td>0.692308</td>\n",
       "      <td>1</td>\n",
       "      <td>0</td>\n",
       "      <td>2.430755</td>\n",
       "      <td>0</td>\n",
       "      <td>3</td>\n",
       "      <td>...</td>\n",
       "      <td>0</td>\n",
       "      <td>0</td>\n",
       "      <td>0</td>\n",
       "      <td>0</td>\n",
       "      <td>1</td>\n",
       "      <td>0</td>\n",
       "      <td>0</td>\n",
       "      <td>0</td>\n",
       "      <td>0</td>\n",
       "      <td>1</td>\n",
       "    </tr>\n",
       "    <tr>\n",
       "      <th>2</th>\n",
       "      <td>1.0</td>\n",
       "      <td>3</td>\n",
       "      <td>Heikkinen, Miss. Laina</td>\n",
       "      <td>0</td>\n",
       "      <td>-0.230769</td>\n",
       "      <td>0</td>\n",
       "      <td>0</td>\n",
       "      <td>-0.279274</td>\n",
       "      <td>2</td>\n",
       "      <td>1</td>\n",
       "      <td>...</td>\n",
       "      <td>1</td>\n",
       "      <td>0</td>\n",
       "      <td>1</td>\n",
       "      <td>0</td>\n",
       "      <td>0</td>\n",
       "      <td>0</td>\n",
       "      <td>0</td>\n",
       "      <td>0</td>\n",
       "      <td>0</td>\n",
       "      <td>1</td>\n",
       "    </tr>\n",
       "    <tr>\n",
       "      <th>3</th>\n",
       "      <td>1.0</td>\n",
       "      <td>1</td>\n",
       "      <td>Futrelle, Mrs. Jacques Heath (Lily May Peel)</td>\n",
       "      <td>0</td>\n",
       "      <td>0.461538</td>\n",
       "      <td>1</td>\n",
       "      <td>0</td>\n",
       "      <td>1.652999</td>\n",
       "      <td>2</td>\n",
       "      <td>3</td>\n",
       "      <td>...</td>\n",
       "      <td>1</td>\n",
       "      <td>0</td>\n",
       "      <td>0</td>\n",
       "      <td>0</td>\n",
       "      <td>1</td>\n",
       "      <td>0</td>\n",
       "      <td>0</td>\n",
       "      <td>0</td>\n",
       "      <td>0</td>\n",
       "      <td>1</td>\n",
       "    </tr>\n",
       "    <tr>\n",
       "      <th>4</th>\n",
       "      <td>0.0</td>\n",
       "      <td>3</td>\n",
       "      <td>Allen, Mr. William Henry</td>\n",
       "      <td>1</td>\n",
       "      <td>0.461538</td>\n",
       "      <td>0</td>\n",
       "      <td>0</td>\n",
       "      <td>-0.273927</td>\n",
       "      <td>2</td>\n",
       "      <td>2</td>\n",
       "      <td>...</td>\n",
       "      <td>1</td>\n",
       "      <td>0</td>\n",
       "      <td>0</td>\n",
       "      <td>1</td>\n",
       "      <td>0</td>\n",
       "      <td>0</td>\n",
       "      <td>0</td>\n",
       "      <td>0</td>\n",
       "      <td>0</td>\n",
       "      <td>1</td>\n",
       "    </tr>\n",
       "  </tbody>\n",
       "</table>\n",
       "<p>5 rows × 25 columns</p>\n",
       "</div>"
      ],
      "text/plain": [
       "   Survived  Pclass                                               Name  Sex  \\\n",
       "0       0.0       3                            Braund, Mr. Owen Harris    1   \n",
       "1       1.0       1  Cumings, Mrs. John Bradley (Florence Briggs Th...    0   \n",
       "2       1.0       3                             Heikkinen, Miss. Laina    0   \n",
       "3       1.0       1       Futrelle, Mrs. Jacques Heath (Lily May Peel)    0   \n",
       "4       0.0       3                           Allen, Mr. William Henry    1   \n",
       "\n",
       "        Age  SibSp  Parch      Fare  Embarked  Title ...   S  Master Miss  Mr  \\\n",
       "0 -0.538462      1      0 -0.308146         2      2 ...   1       0    0   1   \n",
       "1  0.692308      1      0  2.430755         0      3 ...   0       0    0   0   \n",
       "2 -0.230769      0      0 -0.279274         2      1 ...   1       0    1   0   \n",
       "3  0.461538      1      0  1.652999         2      3 ...   1       0    0   0   \n",
       "4  0.461538      0      0 -0.273927         2      2 ...   1       0    0   1   \n",
       "\n",
       "   Mrs  officer  royalty  Small  Medium  Big  \n",
       "0    0        0        0      0       0    1  \n",
       "1    1        0        0      0       0    1  \n",
       "2    0        0        0      0       0    1  \n",
       "3    1        0        0      0       0    1  \n",
       "4    0        0        0      0       0    1  \n",
       "\n",
       "[5 rows x 25 columns]"
      ]
     },
     "execution_count": 1562,
     "metadata": {},
     "output_type": "execute_result"
    }
   ],
   "source": [
    "full[['Age', 'Fare']]=RobustScaler().fit_transform(full[['Age', 'Fare']])\n",
    "full.head()"
   ]
  },
  {
   "cell_type": "markdown",
   "metadata": {},
   "source": [
    "# Algorithmes\n",
    "\n",
    "Tout d'abord on doit reséparer notre dataset entre la partie train et test"
   ]
  },
  {
   "cell_type": "code",
   "execution_count": 1517,
   "metadata": {},
   "outputs": [],
   "source": [
    "train = full.loc[:890,:]\n",
    "test = full.loc[891:, :]\n"
   ]
  },
  {
   "cell_type": "code",
   "execution_count": 1518,
   "metadata": {},
   "outputs": [
    {
     "data": {
      "text/plain": [
       "['Survived',\n",
       " 'Pclass',\n",
       " 'Name',\n",
       " 'Sex',\n",
       " 'Age',\n",
       " 'SibSp',\n",
       " 'Parch',\n",
       " 'Fare',\n",
       " 'Embarked',\n",
       " 'Title',\n",
       " 'FamilySize',\n",
       " 'FSizeCat',\n",
       " 'Child',\n",
       " 'C',\n",
       " 'Q',\n",
       " 'S',\n",
       " 'Master',\n",
       " 'Miss',\n",
       " 'Mr',\n",
       " 'Mrs',\n",
       " 'officer',\n",
       " 'royalty',\n",
       " 'Small',\n",
       " 'Medium',\n",
       " 'Big']"
      ]
     },
     "execution_count": 1518,
     "metadata": {},
     "output_type": "execute_result"
    }
   ],
   "source": [
    "list(train)"
   ]
  },
  {
   "cell_type": "code",
   "execution_count": 1519,
   "metadata": {},
   "outputs": [],
   "source": [
    "X_train = train[['Pclass', 'Sex','Age', 'Fare', 'Child', 'C', 'Q', 'S', 'Master','Miss','Mr','Mrs','officer', 'royalty', 'Small', 'Medium','Big']]\n",
    "y_train = train['Survived']\n",
    "\n",
    "X_test = test[['Pclass', 'Sex', 'Fare','Age', 'Child', 'C', 'Q', 'S', 'Master','Miss','Mr','Mrs','officer', 'royalty', 'Small', 'Medium','Big']]\n",
    "\n",
    "X_train_ordinal = train[['Pclass', 'Sex', 'Fare', 'FSizeCat', 'Child', 'Embarked', 'Title', 'Age']]\n",
    "y_train_ordinal = train['Survived']\n",
    "\n",
    "X_test_ordinal = test[['Pclass', 'Sex', 'Fare', 'FSizeCat', 'Child', 'Embarked', 'Title', 'Age']]"
   ]
  },
  {
   "cell_type": "code",
   "execution_count": 1520,
   "metadata": {},
   "outputs": [
    {
     "data": {
      "text/plain": [
       "<matplotlib.axes._subplots.AxesSubplot at 0x1ba106f36a0>"
      ]
     },
     "execution_count": 1520,
     "metadata": {},
     "output_type": "execute_result"
    },
    {
     "data": {
      "image/png": "[encoded data removed]",
      "text/plain": [
       "<Figure size 432x288 with 2 Axes>"
      ]
     },
     "metadata": {
      "needs_background": "light"
     },
     "output_type": "display_data"
    }
   ],
   "source": [
    "sns.heatmap(abs(train.corr()))"
   ]
  },
  {
   "cell_type": "code",
   "execution_count": 1521,
   "metadata": {},
   "outputs": [
    {
     "data": {
      "text/html": [
       "<div>\n",
       "<style scoped>\n",
       "    .dataframe tbody tr th:only-of-type {\n",
       "        vertical-align: middle;\n",
       "    }\n",
       "\n",
       "    .dataframe tbody tr th {\n",
       "        vertical-align: top;\n",
       "    }\n",
       "\n",
       "    .dataframe thead th {\n",
       "        text-align: right;\n",
       "    }\n",
       "</style>\n",
       "<table border=\"1\" class=\"dataframe\">\n",
       "  <thead>\n",
       "    <tr style=\"text-align: right;\">\n",
       "      <th></th>\n",
       "      <th>Survived</th>\n",
       "      <th>Pclass</th>\n",
       "      <th>Sex</th>\n",
       "      <th>Age</th>\n",
       "      <th>SibSp</th>\n",
       "      <th>Parch</th>\n",
       "      <th>Fare</th>\n",
       "      <th>Embarked</th>\n",
       "      <th>Title</th>\n",
       "      <th>FamilySize</th>\n",
       "      <th>...</th>\n",
       "      <th>S</th>\n",
       "      <th>Master</th>\n",
       "      <th>Miss</th>\n",
       "      <th>Mr</th>\n",
       "      <th>Mrs</th>\n",
       "      <th>officer</th>\n",
       "      <th>royalty</th>\n",
       "      <th>Small</th>\n",
       "      <th>Medium</th>\n",
       "      <th>Big</th>\n",
       "    </tr>\n",
       "  </thead>\n",
       "  <tbody>\n",
       "    <tr>\n",
       "      <th>Survived</th>\n",
       "      <td>1.000000</td>\n",
       "      <td>0.338481</td>\n",
       "      <td>0.543351</td>\n",
       "      <td>0.072145</td>\n",
       "      <td>0.035322</td>\n",
       "      <td>0.081629</td>\n",
       "      <td>0.257307</td>\n",
       "      <td>0.167675</td>\n",
       "      <td>0.065661</td>\n",
       "      <td>0.016639</td>\n",
       "      <td>...</td>\n",
       "      <td>0.149683</td>\n",
       "      <td>0.085221</td>\n",
       "      <td>0.335636</td>\n",
       "      <td>0.549199</td>\n",
       "      <td>0.341994</td>\n",
       "      <td>0.036630</td>\n",
       "      <td>0.050561</td>\n",
       "      <td>0.125147</td>\n",
       "      <td>0.193662</td>\n",
       "      <td>0.089185</td>\n",
       "    </tr>\n",
       "    <tr>\n",
       "      <th>Pclass</th>\n",
       "      <td>0.338481</td>\n",
       "      <td>1.000000</td>\n",
       "      <td>0.131900</td>\n",
       "      <td>0.356148</td>\n",
       "      <td>0.083081</td>\n",
       "      <td>0.018443</td>\n",
       "      <td>0.549500</td>\n",
       "      <td>0.162098</td>\n",
       "      <td>0.186620</td>\n",
       "      <td>0.065997</td>\n",
       "      <td>...</td>\n",
       "      <td>0.074053</td>\n",
       "      <td>0.082081</td>\n",
       "      <td>0.010261</td>\n",
       "      <td>0.142698</td>\n",
       "      <td>0.153758</td>\n",
       "      <td>0.156795</td>\n",
       "      <td>0.105169</td>\n",
       "      <td>0.152366</td>\n",
       "      <td>0.058531</td>\n",
       "      <td>0.043796</td>\n",
       "    </tr>\n",
       "    <tr>\n",
       "      <th>Sex</th>\n",
       "      <td>0.543351</td>\n",
       "      <td>0.131900</td>\n",
       "      <td>1.000000</td>\n",
       "      <td>0.093722</td>\n",
       "      <td>0.114631</td>\n",
       "      <td>0.245489</td>\n",
       "      <td>0.182333</td>\n",
       "      <td>0.108262</td>\n",
       "      <td>0.057468</td>\n",
       "      <td>0.200988</td>\n",
       "      <td>...</td>\n",
       "      <td>0.119224</td>\n",
       "      <td>0.159934</td>\n",
       "      <td>0.693916</td>\n",
       "      <td>0.867334</td>\n",
       "      <td>0.550146</td>\n",
       "      <td>0.092629</td>\n",
       "      <td>0.020746</td>\n",
       "      <td>0.102954</td>\n",
       "      <td>0.144848</td>\n",
       "      <td>0.188116</td>\n",
       "    </tr>\n",
       "    <tr>\n",
       "      <th>Age</th>\n",
       "      <td>0.072145</td>\n",
       "      <td>0.356148</td>\n",
       "      <td>0.093722</td>\n",
       "      <td>1.000000</td>\n",
       "      <td>0.262078</td>\n",
       "      <td>0.184442</td>\n",
       "      <td>0.100213</td>\n",
       "      <td>0.018504</td>\n",
       "      <td>0.524695</td>\n",
       "      <td>0.271265</td>\n",
       "      <td>...</td>\n",
       "      <td>0.002962</td>\n",
       "      <td>0.406103</td>\n",
       "      <td>0.287302</td>\n",
       "      <td>0.203546</td>\n",
       "      <td>0.195696</td>\n",
       "      <td>0.191560</td>\n",
       "      <td>0.064443</td>\n",
       "      <td>0.226589</td>\n",
       "      <td>0.160673</td>\n",
       "      <td>0.278088</td>\n",
       "    </tr>\n",
       "    <tr>\n",
       "      <th>SibSp</th>\n",
       "      <td>0.035322</td>\n",
       "      <td>0.083081</td>\n",
       "      <td>0.114631</td>\n",
       "      <td>0.262078</td>\n",
       "      <td>1.000000</td>\n",
       "      <td>0.414838</td>\n",
       "      <td>0.159651</td>\n",
       "      <td>0.068230</td>\n",
       "      <td>0.206091</td>\n",
       "      <td>0.890712</td>\n",
       "      <td>...</td>\n",
       "      <td>0.068734</td>\n",
       "      <td>0.349559</td>\n",
       "      <td>0.083462</td>\n",
       "      <td>0.250489</td>\n",
       "      <td>0.061668</td>\n",
       "      <td>0.027753</td>\n",
       "      <td>0.001402</td>\n",
       "      <td>0.730691</td>\n",
       "      <td>0.171057</td>\n",
       "      <td>0.598391</td>\n",
       "    </tr>\n",
       "    <tr>\n",
       "      <th>Parch</th>\n",
       "      <td>0.081629</td>\n",
       "      <td>0.018443</td>\n",
       "      <td>0.245489</td>\n",
       "      <td>0.184442</td>\n",
       "      <td>0.414838</td>\n",
       "      <td>1.000000</td>\n",
       "      <td>0.216225</td>\n",
       "      <td>0.039798</td>\n",
       "      <td>0.118085</td>\n",
       "      <td>0.783111</td>\n",
       "      <td>...</td>\n",
       "      <td>0.060814</td>\n",
       "      <td>0.267344</td>\n",
       "      <td>0.100998</td>\n",
       "      <td>0.333905</td>\n",
       "      <td>0.223575</td>\n",
       "      <td>0.050632</td>\n",
       "      <td>0.031809</td>\n",
       "      <td>0.631523</td>\n",
       "      <td>0.444587</td>\n",
       "      <td>0.772284</td>\n",
       "    </tr>\n",
       "    <tr>\n",
       "      <th>Fare</th>\n",
       "      <td>0.257307</td>\n",
       "      <td>0.549500</td>\n",
       "      <td>0.182333</td>\n",
       "      <td>0.100213</td>\n",
       "      <td>0.159651</td>\n",
       "      <td>0.216225</td>\n",
       "      <td>1.000000</td>\n",
       "      <td>0.224719</td>\n",
       "      <td>0.011504</td>\n",
       "      <td>0.217138</td>\n",
       "      <td>...</td>\n",
       "      <td>0.162184</td>\n",
       "      <td>0.010908</td>\n",
       "      <td>0.119518</td>\n",
       "      <td>0.183766</td>\n",
       "      <td>0.107259</td>\n",
       "      <td>0.009385</td>\n",
       "      <td>0.018325</td>\n",
       "      <td>0.143636</td>\n",
       "      <td>0.090674</td>\n",
       "      <td>0.166672</td>\n",
       "    </tr>\n",
       "    <tr>\n",
       "      <th>Embarked</th>\n",
       "      <td>0.167675</td>\n",
       "      <td>0.162098</td>\n",
       "      <td>0.108262</td>\n",
       "      <td>0.018504</td>\n",
       "      <td>0.068230</td>\n",
       "      <td>0.039798</td>\n",
       "      <td>0.224719</td>\n",
       "      <td>1.000000</td>\n",
       "      <td>0.001319</td>\n",
       "      <td>0.066516</td>\n",
       "      <td>...</td>\n",
       "      <td>0.951474</td>\n",
       "      <td>0.031113</td>\n",
       "      <td>0.095310</td>\n",
       "      <td>0.099589</td>\n",
       "      <td>0.035000</td>\n",
       "      <td>0.011717</td>\n",
       "      <td>0.045542</td>\n",
       "      <td>0.110061</td>\n",
       "      <td>0.021147</td>\n",
       "      <td>0.049803</td>\n",
       "    </tr>\n",
       "    <tr>\n",
       "      <th>Title</th>\n",
       "      <td>0.065661</td>\n",
       "      <td>0.186620</td>\n",
       "      <td>0.057468</td>\n",
       "      <td>0.524695</td>\n",
       "      <td>0.206091</td>\n",
       "      <td>0.118085</td>\n",
       "      <td>0.011504</td>\n",
       "      <td>0.001319</td>\n",
       "      <td>1.000000</td>\n",
       "      <td>0.199849</td>\n",
       "      <td>...</td>\n",
       "      <td>0.042360</td>\n",
       "      <td>0.513199</td>\n",
       "      <td>0.574013</td>\n",
       "      <td>0.146306</td>\n",
       "      <td>0.556089</td>\n",
       "      <td>0.386150</td>\n",
       "      <td>0.259332</td>\n",
       "      <td>0.235225</td>\n",
       "      <td>0.058886</td>\n",
       "      <td>0.195918</td>\n",
       "    </tr>\n",
       "    <tr>\n",
       "      <th>FamilySize</th>\n",
       "      <td>0.016639</td>\n",
       "      <td>0.065997</td>\n",
       "      <td>0.200988</td>\n",
       "      <td>0.271265</td>\n",
       "      <td>0.890712</td>\n",
       "      <td>0.783111</td>\n",
       "      <td>0.217138</td>\n",
       "      <td>0.066516</td>\n",
       "      <td>0.199849</td>\n",
       "      <td>1.000000</td>\n",
       "      <td>...</td>\n",
       "      <td>0.077359</td>\n",
       "      <td>0.372472</td>\n",
       "      <td>0.107500</td>\n",
       "      <td>0.338014</td>\n",
       "      <td>0.153842</td>\n",
       "      <td>0.044263</td>\n",
       "      <td>0.016849</td>\n",
       "      <td>0.814901</td>\n",
       "      <td>0.339020</td>\n",
       "      <td>0.794800</td>\n",
       "    </tr>\n",
       "    <tr>\n",
       "      <th>FSizeCat</th>\n",
       "      <td>0.008353</td>\n",
       "      <td>0.096937</td>\n",
       "      <td>0.176926</td>\n",
       "      <td>0.293846</td>\n",
       "      <td>0.737852</td>\n",
       "      <td>0.817025</td>\n",
       "      <td>0.179516</td>\n",
       "      <td>0.082792</td>\n",
       "      <td>0.239838</td>\n",
       "      <td>0.912469</td>\n",
       "      <td>...</td>\n",
       "      <td>0.086287</td>\n",
       "      <td>0.402790</td>\n",
       "      <td>0.118291</td>\n",
       "      <td>0.329695</td>\n",
       "      <td>0.109587</td>\n",
       "      <td>0.032315</td>\n",
       "      <td>0.032794</td>\n",
       "      <td>0.799731</td>\n",
       "      <td>0.505676</td>\n",
       "      <td>0.928700</td>\n",
       "    </tr>\n",
       "    <tr>\n",
       "      <th>C</th>\n",
       "      <td>0.168240</td>\n",
       "      <td>0.243292</td>\n",
       "      <td>0.082853</td>\n",
       "      <td>0.040803</td>\n",
       "      <td>0.059528</td>\n",
       "      <td>0.011069</td>\n",
       "      <td>0.269335</td>\n",
       "      <td>0.936273</td>\n",
       "      <td>0.045686</td>\n",
       "      <td>0.046215</td>\n",
       "      <td>...</td>\n",
       "      <td>0.782742</td>\n",
       "      <td>0.035225</td>\n",
       "      <td>0.036204</td>\n",
       "      <td>0.072567</td>\n",
       "      <td>0.067872</td>\n",
       "      <td>0.008292</td>\n",
       "      <td>0.053470</td>\n",
       "      <td>0.109274</td>\n",
       "      <td>0.042940</td>\n",
       "      <td>0.030582</td>\n",
       "    </tr>\n",
       "    <tr>\n",
       "      <th>Q</th>\n",
       "      <td>0.003650</td>\n",
       "      <td>0.221009</td>\n",
       "      <td>0.074115</td>\n",
       "      <td>0.061509</td>\n",
       "      <td>0.026354</td>\n",
       "      <td>0.081228</td>\n",
       "      <td>0.117216</td>\n",
       "      <td>0.208581</td>\n",
       "      <td>0.130913</td>\n",
       "      <td>0.058592</td>\n",
       "      <td>...</td>\n",
       "      <td>0.499421</td>\n",
       "      <td>0.010478</td>\n",
       "      <td>0.167531</td>\n",
       "      <td>0.078338</td>\n",
       "      <td>0.090432</td>\n",
       "      <td>0.009899</td>\n",
       "      <td>0.020654</td>\n",
       "      <td>0.005620</td>\n",
       "      <td>0.060016</td>\n",
       "      <td>0.055066</td>\n",
       "    </tr>\n",
       "    <tr>\n",
       "      <th>S</th>\n",
       "      <td>0.149683</td>\n",
       "      <td>0.074053</td>\n",
       "      <td>0.119224</td>\n",
       "      <td>0.002962</td>\n",
       "      <td>0.068734</td>\n",
       "      <td>0.060814</td>\n",
       "      <td>0.162184</td>\n",
       "      <td>0.951474</td>\n",
       "      <td>0.042360</td>\n",
       "      <td>0.077359</td>\n",
       "      <td>...</td>\n",
       "      <td>1.000000</td>\n",
       "      <td>0.024264</td>\n",
       "      <td>0.137144</td>\n",
       "      <td>0.112870</td>\n",
       "      <td>0.002550</td>\n",
       "      <td>0.013494</td>\n",
       "      <td>0.033844</td>\n",
       "      <td>0.099265</td>\n",
       "      <td>0.000151</td>\n",
       "      <td>0.061445</td>\n",
       "    </tr>\n",
       "    <tr>\n",
       "      <th>Master</th>\n",
       "      <td>0.085221</td>\n",
       "      <td>0.082081</td>\n",
       "      <td>0.159934</td>\n",
       "      <td>0.406103</td>\n",
       "      <td>0.349559</td>\n",
       "      <td>0.267344</td>\n",
       "      <td>0.010908</td>\n",
       "      <td>0.031113</td>\n",
       "      <td>0.513199</td>\n",
       "      <td>0.372472</td>\n",
       "      <td>...</td>\n",
       "      <td>0.024264</td>\n",
       "      <td>1.000000</td>\n",
       "      <td>0.110981</td>\n",
       "      <td>0.254903</td>\n",
       "      <td>0.087987</td>\n",
       "      <td>0.032002</td>\n",
       "      <td>0.014559</td>\n",
       "      <td>0.324136</td>\n",
       "      <td>0.200789</td>\n",
       "      <td>0.372828</td>\n",
       "    </tr>\n",
       "    <tr>\n",
       "      <th>Miss</th>\n",
       "      <td>0.335636</td>\n",
       "      <td>0.010261</td>\n",
       "      <td>0.693916</td>\n",
       "      <td>0.287302</td>\n",
       "      <td>0.083462</td>\n",
       "      <td>0.100998</td>\n",
       "      <td>0.119518</td>\n",
       "      <td>0.095310</td>\n",
       "      <td>0.574013</td>\n",
       "      <td>0.107500</td>\n",
       "      <td>...</td>\n",
       "      <td>0.137144</td>\n",
       "      <td>0.110981</td>\n",
       "      <td>1.000000</td>\n",
       "      <td>0.601857</td>\n",
       "      <td>0.207749</td>\n",
       "      <td>0.075562</td>\n",
       "      <td>0.034376</td>\n",
       "      <td>0.110126</td>\n",
       "      <td>0.037507</td>\n",
       "      <td>0.100267</td>\n",
       "    </tr>\n",
       "    <tr>\n",
       "      <th>Mr</th>\n",
       "      <td>0.549199</td>\n",
       "      <td>0.142698</td>\n",
       "      <td>0.867334</td>\n",
       "      <td>0.203546</td>\n",
       "      <td>0.250489</td>\n",
       "      <td>0.333905</td>\n",
       "      <td>0.183766</td>\n",
       "      <td>0.099589</td>\n",
       "      <td>0.146306</td>\n",
       "      <td>0.338014</td>\n",
       "      <td>...</td>\n",
       "      <td>0.112870</td>\n",
       "      <td>0.254903</td>\n",
       "      <td>0.601857</td>\n",
       "      <td>1.000000</td>\n",
       "      <td>0.477160</td>\n",
       "      <td>0.173551</td>\n",
       "      <td>0.078955</td>\n",
       "      <td>0.223221</td>\n",
       "      <td>0.224841</td>\n",
       "      <td>0.331171</td>\n",
       "    </tr>\n",
       "    <tr>\n",
       "      <th>Mrs</th>\n",
       "      <td>0.341994</td>\n",
       "      <td>0.153758</td>\n",
       "      <td>0.550146</td>\n",
       "      <td>0.195696</td>\n",
       "      <td>0.061668</td>\n",
       "      <td>0.223575</td>\n",
       "      <td>0.107259</td>\n",
       "      <td>0.035000</td>\n",
       "      <td>0.556089</td>\n",
       "      <td>0.153842</td>\n",
       "      <td>...</td>\n",
       "      <td>0.002550</td>\n",
       "      <td>0.087987</td>\n",
       "      <td>0.207749</td>\n",
       "      <td>0.477160</td>\n",
       "      <td>1.000000</td>\n",
       "      <td>0.059906</td>\n",
       "      <td>0.027254</td>\n",
       "      <td>0.015600</td>\n",
       "      <td>0.158939</td>\n",
       "      <td>0.146272</td>\n",
       "    </tr>\n",
       "    <tr>\n",
       "      <th>officer</th>\n",
       "      <td>0.036630</td>\n",
       "      <td>0.156795</td>\n",
       "      <td>0.092629</td>\n",
       "      <td>0.191560</td>\n",
       "      <td>0.027753</td>\n",
       "      <td>0.050632</td>\n",
       "      <td>0.009385</td>\n",
       "      <td>0.011717</td>\n",
       "      <td>0.386150</td>\n",
       "      <td>0.044263</td>\n",
       "      <td>...</td>\n",
       "      <td>0.013494</td>\n",
       "      <td>0.032002</td>\n",
       "      <td>0.075562</td>\n",
       "      <td>0.173551</td>\n",
       "      <td>0.059906</td>\n",
       "      <td>1.000000</td>\n",
       "      <td>0.009913</td>\n",
       "      <td>0.040368</td>\n",
       "      <td>0.004530</td>\n",
       "      <td>0.021040</td>\n",
       "    </tr>\n",
       "    <tr>\n",
       "      <th>royalty</th>\n",
       "      <td>0.050561</td>\n",
       "      <td>0.105169</td>\n",
       "      <td>0.020746</td>\n",
       "      <td>0.064443</td>\n",
       "      <td>0.001402</td>\n",
       "      <td>0.031809</td>\n",
       "      <td>0.018325</td>\n",
       "      <td>0.045542</td>\n",
       "      <td>0.259332</td>\n",
       "      <td>0.016849</td>\n",
       "      <td>...</td>\n",
       "      <td>0.033844</td>\n",
       "      <td>0.014559</td>\n",
       "      <td>0.034376</td>\n",
       "      <td>0.078955</td>\n",
       "      <td>0.027254</td>\n",
       "      <td>0.009913</td>\n",
       "      <td>1.000000</td>\n",
       "      <td>0.018365</td>\n",
       "      <td>0.027880</td>\n",
       "      <td>0.035312</td>\n",
       "    </tr>\n",
       "    <tr>\n",
       "      <th>Small</th>\n",
       "      <td>0.125147</td>\n",
       "      <td>0.152366</td>\n",
       "      <td>0.102954</td>\n",
       "      <td>0.226589</td>\n",
       "      <td>0.730691</td>\n",
       "      <td>0.631523</td>\n",
       "      <td>0.143636</td>\n",
       "      <td>0.110061</td>\n",
       "      <td>0.235225</td>\n",
       "      <td>0.814901</td>\n",
       "      <td>...</td>\n",
       "      <td>0.099265</td>\n",
       "      <td>0.324136</td>\n",
       "      <td>0.110126</td>\n",
       "      <td>0.223221</td>\n",
       "      <td>0.015600</td>\n",
       "      <td>0.040368</td>\n",
       "      <td>0.018365</td>\n",
       "      <td>1.000000</td>\n",
       "      <td>0.113540</td>\n",
       "      <td>0.520077</td>\n",
       "    </tr>\n",
       "    <tr>\n",
       "      <th>Medium</th>\n",
       "      <td>0.193662</td>\n",
       "      <td>0.058531</td>\n",
       "      <td>0.144848</td>\n",
       "      <td>0.160673</td>\n",
       "      <td>0.171057</td>\n",
       "      <td>0.444587</td>\n",
       "      <td>0.090674</td>\n",
       "      <td>0.021147</td>\n",
       "      <td>0.058886</td>\n",
       "      <td>0.339020</td>\n",
       "      <td>...</td>\n",
       "      <td>0.000151</td>\n",
       "      <td>0.200789</td>\n",
       "      <td>0.037507</td>\n",
       "      <td>0.224841</td>\n",
       "      <td>0.158939</td>\n",
       "      <td>0.004530</td>\n",
       "      <td>0.027880</td>\n",
       "      <td>0.113540</td>\n",
       "      <td>1.000000</td>\n",
       "      <td>0.789547</td>\n",
       "    </tr>\n",
       "    <tr>\n",
       "      <th>Big</th>\n",
       "      <td>0.089185</td>\n",
       "      <td>0.043796</td>\n",
       "      <td>0.188116</td>\n",
       "      <td>0.278088</td>\n",
       "      <td>0.598391</td>\n",
       "      <td>0.772284</td>\n",
       "      <td>0.166672</td>\n",
       "      <td>0.049803</td>\n",
       "      <td>0.195918</td>\n",
       "      <td>0.794800</td>\n",
       "      <td>...</td>\n",
       "      <td>0.061445</td>\n",
       "      <td>0.372828</td>\n",
       "      <td>0.100267</td>\n",
       "      <td>0.331171</td>\n",
       "      <td>0.146272</td>\n",
       "      <td>0.021040</td>\n",
       "      <td>0.035312</td>\n",
       "      <td>0.520077</td>\n",
       "      <td>0.789547</td>\n",
       "      <td>1.000000</td>\n",
       "    </tr>\n",
       "  </tbody>\n",
       "</table>\n",
       "<p>23 rows × 23 columns</p>\n",
       "</div>"
      ],
      "text/plain": [
       "            Survived    Pclass       Sex       Age     SibSp     Parch  \\\n",
       "Survived    1.000000  0.338481  0.543351  0.072145  0.035322  0.081629   \n",
       "Pclass      0.338481  1.000000  0.131900  0.356148  0.083081  0.018443   \n",
       "Sex         0.543351  0.131900  1.000000  0.093722  0.114631  0.245489   \n",
       "Age         0.072145  0.356148  0.093722  1.000000  0.262078  0.184442   \n",
       "SibSp       0.035322  0.083081  0.114631  0.262078  1.000000  0.414838   \n",
       "Parch       0.081629  0.018443  0.245489  0.184442  0.414838  1.000000   \n",
       "Fare        0.257307  0.549500  0.182333  0.100213  0.159651  0.216225   \n",
       "Embarked    0.167675  0.162098  0.108262  0.018504  0.068230  0.039798   \n",
       "Title       0.065661  0.186620  0.057468  0.524695  0.206091  0.118085   \n",
       "FamilySize  0.016639  0.065997  0.200988  0.271265  0.890712  0.783111   \n",
       "FSizeCat    0.008353  0.096937  0.176926  0.293846  0.737852  0.817025   \n",
       "C           0.168240  0.243292  0.082853  0.040803  0.059528  0.011069   \n",
       "Q           0.003650  0.221009  0.074115  0.061509  0.026354  0.081228   \n",
       "S           0.149683  0.074053  0.119224  0.002962  0.068734  0.060814   \n",
       "Master      0.085221  0.082081  0.159934  0.406103  0.349559  0.267344   \n",
       "Miss        0.335636  0.010261  0.693916  0.287302  0.083462  0.100998   \n",
       "Mr          0.549199  0.142698  0.867334  0.203546  0.250489  0.333905   \n",
       "Mrs         0.341994  0.153758  0.550146  0.195696  0.061668  0.223575   \n",
       "officer     0.036630  0.156795  0.092629  0.191560  0.027753  0.050632   \n",
       "royalty     0.050561  0.105169  0.020746  0.064443  0.001402  0.031809   \n",
       "Small       0.125147  0.152366  0.102954  0.226589  0.730691  0.631523   \n",
       "Medium      0.193662  0.058531  0.144848  0.160673  0.171057  0.444587   \n",
       "Big         0.089185  0.043796  0.188116  0.278088  0.598391  0.772284   \n",
       "\n",
       "                Fare  Embarked     Title  FamilySize    ...            S  \\\n",
       "Survived    0.257307  0.167675  0.065661    0.016639    ...     0.149683   \n",
       "Pclass      0.549500  0.162098  0.186620    0.065997    ...     0.074053   \n",
       "Sex         0.182333  0.108262  0.057468    0.200988    ...     0.119224   \n",
       "Age         0.100213  0.018504  0.524695    0.271265    ...     0.002962   \n",
       "SibSp       0.159651  0.068230  0.206091    0.890712    ...     0.068734   \n",
       "Parch       0.216225  0.039798  0.118085    0.783111    ...     0.060814   \n",
       "Fare        1.000000  0.224719  0.011504    0.217138    ...     0.162184   \n",
       "Embarked    0.224719  1.000000  0.001319    0.066516    ...     0.951474   \n",
       "Title       0.011504  0.001319  1.000000    0.199849    ...     0.042360   \n",
       "FamilySize  0.217138  0.066516  0.199849    1.000000    ...     0.077359   \n",
       "FSizeCat    0.179516  0.082792  0.239838    0.912469    ...     0.086287   \n",
       "C           0.269335  0.936273  0.045686    0.046215    ...     0.782742   \n",
       "Q           0.117216  0.208581  0.130913    0.058592    ...     0.499421   \n",
       "S           0.162184  0.951474  0.042360    0.077359    ...     1.000000   \n",
       "Master      0.010908  0.031113  0.513199    0.372472    ...     0.024264   \n",
       "Miss        0.119518  0.095310  0.574013    0.107500    ...     0.137144   \n",
       "Mr          0.183766  0.099589  0.146306    0.338014    ...     0.112870   \n",
       "Mrs         0.107259  0.035000  0.556089    0.153842    ...     0.002550   \n",
       "officer     0.009385  0.011717  0.386150    0.044263    ...     0.013494   \n",
       "royalty     0.018325  0.045542  0.259332    0.016849    ...     0.033844   \n",
       "Small       0.143636  0.110061  0.235225    0.814901    ...     0.099265   \n",
       "Medium      0.090674  0.021147  0.058886    0.339020    ...     0.000151   \n",
       "Big         0.166672  0.049803  0.195918    0.794800    ...     0.061445   \n",
       "\n",
       "              Master      Miss        Mr       Mrs   officer   royalty  \\\n",
       "Survived    0.085221  0.335636  0.549199  0.341994  0.036630  0.050561   \n",
       "Pclass      0.082081  0.010261  0.142698  0.153758  0.156795  0.105169   \n",
       "Sex         0.159934  0.693916  0.867334  0.550146  0.092629  0.020746   \n",
       "Age         0.406103  0.287302  0.203546  0.195696  0.191560  0.064443   \n",
       "SibSp       0.349559  0.083462  0.250489  0.061668  0.027753  0.001402   \n",
       "Parch       0.267344  0.100998  0.333905  0.223575  0.050632  0.031809   \n",
       "Fare        0.010908  0.119518  0.183766  0.107259  0.009385  0.018325   \n",
       "Embarked    0.031113  0.095310  0.099589  0.035000  0.011717  0.045542   \n",
       "Title       0.513199  0.574013  0.146306  0.556089  0.386150  0.259332   \n",
       "FamilySize  0.372472  0.107500  0.338014  0.153842  0.044263  0.016849   \n",
       "FSizeCat    0.402790  0.118291  0.329695  0.109587  0.032315  0.032794   \n",
       "C           0.035225  0.036204  0.072567  0.067872  0.008292  0.053470   \n",
       "Q           0.010478  0.167531  0.078338  0.090432  0.009899  0.020654   \n",
       "S           0.024264  0.137144  0.112870  0.002550  0.013494  0.033844   \n",
       "Master      1.000000  0.110981  0.254903  0.087987  0.032002  0.014559   \n",
       "Miss        0.110981  1.000000  0.601857  0.207749  0.075562  0.034376   \n",
       "Mr          0.254903  0.601857  1.000000  0.477160  0.173551  0.078955   \n",
       "Mrs         0.087987  0.207749  0.477160  1.000000  0.059906  0.027254   \n",
       "officer     0.032002  0.075562  0.173551  0.059906  1.000000  0.009913   \n",
       "royalty     0.014559  0.034376  0.078955  0.027254  0.009913  1.000000   \n",
       "Small       0.324136  0.110126  0.223221  0.015600  0.040368  0.018365   \n",
       "Medium      0.200789  0.037507  0.224841  0.158939  0.004530  0.027880   \n",
       "Big         0.372828  0.100267  0.331171  0.146272  0.021040  0.035312   \n",
       "\n",
       "               Small    Medium       Big  \n",
       "Survived    0.125147  0.193662  0.089185  \n",
       "Pclass      0.152366  0.058531  0.043796  \n",
       "Sex         0.102954  0.144848  0.188116  \n",
       "Age         0.226589  0.160673  0.278088  \n",
       "SibSp       0.730691  0.171057  0.598391  \n",
       "Parch       0.631523  0.444587  0.772284  \n",
       "Fare        0.143636  0.090674  0.166672  \n",
       "Embarked    0.110061  0.021147  0.049803  \n",
       "Title       0.235225  0.058886  0.195918  \n",
       "FamilySize  0.814901  0.339020  0.794800  \n",
       "FSizeCat    0.799731  0.505676  0.928700  \n",
       "C           0.109274  0.042940  0.030582  \n",
       "Q           0.005620  0.060016  0.055066  \n",
       "S           0.099265  0.000151  0.061445  \n",
       "Master      0.324136  0.200789  0.372828  \n",
       "Miss        0.110126  0.037507  0.100267  \n",
       "Mr          0.223221  0.224841  0.331171  \n",
       "Mrs         0.015600  0.158939  0.146272  \n",
       "officer     0.040368  0.004530  0.021040  \n",
       "royalty     0.018365  0.027880  0.035312  \n",
       "Small       1.000000  0.113540  0.520077  \n",
       "Medium      0.113540  1.000000  0.789547  \n",
       "Big         0.520077  0.789547  1.000000  \n",
       "\n",
       "[23 rows x 23 columns]"
      ]
     },
     "execution_count": 1521,
     "metadata": {},
     "output_type": "execute_result"
    }
   ],
   "source": [
    "abs(train.corr())"
   ]
  },
  {
   "cell_type": "markdown",
   "metadata": {},
   "source": [
    "## K-nearest neighbors "
   ]
  },
  {
   "cell_type": "code",
   "execution_count": 1522,
   "metadata": {},
   "outputs": [],
   "source": [
    "from sklearn.neighbors import KNeighborsClassifier\n",
    "from sklearn.model_selection import cross_validate"
   ]
  },
  {
   "cell_type": "code",
   "execution_count": 1523,
   "metadata": {},
   "outputs": [
    {
     "name": "stdout",
     "output_type": "stream",
     "text": [
      "Train Score : 0.8754208754208754\n"
     ]
    }
   ],
   "source": [
    "model = KNeighborsClassifier(n_neighbors=3)\n",
    "\n",
    "\n",
    "                                        \n",
    "model.fit(X_train, y_train)\n",
    "print ('Train Score :', model.score(X_train, y_train))"
   ]
  },
  {
   "cell_type": "markdown",
   "metadata": {},
   "source": [
    "### Cross validation"
   ]
  },
  {
   "cell_type": "markdown",
   "metadata": {},
   "source": [
    "Ici  nous avons testé notre prédiction sur le même dataset qui a permis au modèle de s'entraîner. Il nous faudrait donc pour être plus rigoureux découper notre dataset une troisième fois pour créer un validation set qui permettrait de comparer nos modèles. Cependant, qui nous dit que la manière de découper notre dataset n'aura pas une influence sur le score ! Pour éviter ce problème, il faut découper notre dataset plusieurs fois, en 5 parties par exemple, et effectuer notre prédiction sur 5 validation test différent puis effectuer la moyenne des 5 : c'est ce qu'on appelle la cross validation."
   ]
  },
  {
   "cell_type": "code",
   "execution_count": 1524,
   "metadata": {},
   "outputs": [
    {
     "data": {
      "text/plain": [
       "0.7845873819547362"
      ]
     },
     "execution_count": 1524,
     "metadata": {},
     "output_type": "execute_result"
    }
   ],
   "source": [
    "CV = cross_validate(KNeighborsClassifier(n_neighbors=3), X_train, y_train, cv = 5)\n",
    "\n",
    "val_score = CV['test_score'].mean()\n",
    "val_score"
   ]
  },
  {
   "cell_type": "markdown",
   "metadata": {},
   "source": [
    "### Validation curve : trouver le paramètre K"
   ]
  },
  {
   "cell_type": "code",
   "execution_count": 1525,
   "metadata": {},
   "outputs": [],
   "source": [
    "from  sklearn.model_selection import validation_curve"
   ]
  },
  {
   "cell_type": "code",
   "execution_count": 1526,
   "metadata": {},
   "outputs": [
    {
     "name": "stdout",
     "output_type": "stream",
     "text": [
      "Score max = 0.8227590239972027  et nombre de voisin = 17\n"
     ]
    },
    {
     "data": {
      "image/png": "[encoded data removed]",
      "text/plain": [
       "<Figure size 432x288 with 1 Axes>"
      ]
     },
     "metadata": {
      "needs_background": "light"
     },
     "output_type": "display_data"
    }
   ],
   "source": [
    "model = KNeighborsClassifier()\n",
    "k = np.arange(1,50)\n",
    "\n",
    "train_score, val_score = validation_curve(model, X_train, y_train, 'n_neighbors', k, cv=5)\n",
    "\n",
    "plt.plot (k, val_score.mean(axis=1), label='validation')\n",
    "plt.plot (k, train_score.mean(axis=1), label='train')\n",
    "\n",
    "plt.xlabel('n_neighbors')\n",
    "plt.ylabel('score')\n",
    "plt.legend()\n",
    "\n",
    "\n",
    "print (\"Score max =\", max(val_score.mean(axis=1)), \" et nombre de voisin =\", np.argmax(val_score.mean(axis=1)))"
   ]
  },
  {
   "cell_type": "markdown",
   "metadata": {},
   "source": [
    "On est clairement dans un cas d'overfitting, pour les premières valeurs de k, les résultats de prédictions sur le dataset train sont clairement supérieurs aux résultats du dataset de validation (obtenus par cross validation). Il y a donc **overfitting** : le modèle **s'est trop perfectionné sur le trainset et a perdu tout sens de généralisation**. "
   ]
  },
  {
   "cell_type": "markdown",
   "metadata": {},
   "source": [
    "### Pour aller plus loin : GridSearchCV "
   ]
  },
  {
   "cell_type": "markdown",
   "metadata": {},
   "source": [
    "Il y a d'autres paramètres qu'on peut essayer de changer dans l'algo de K neighbors, la métrique par exemple (Euclidienne, Manhattan ...)"
   ]
  },
  {
   "cell_type": "code",
   "execution_count": 1527,
   "metadata": {},
   "outputs": [],
   "source": [
    "from sklearn.model_selection import GridSearchCV"
   ]
  },
  {
   "cell_type": "code",
   "execution_count": 1528,
   "metadata": {},
   "outputs": [
    {
     "data": {
      "text/plain": [
       "GridSearchCV(cv=5, error_score='raise-deprecating',\n",
       "       estimator=KNeighborsClassifier(algorithm='auto', leaf_size=30, metric='minkowski',\n",
       "           metric_params=None, n_jobs=None, n_neighbors=5, p=2,\n",
       "           weights='uniform'),\n",
       "       fit_params=None, iid='warn', n_jobs=None,\n",
       "       param_grid={'n_neighbors': array([ 1,  2,  3,  4,  5,  6,  7,  8,  9, 10, 11, 12, 13, 14, 15, 16, 17,\n",
       "       18, 19]), 'metric': ['euclidean', 'manhattan', 'minkowski']},\n",
       "       pre_dispatch='2*n_jobs', refit=True, return_train_score='warn',\n",
       "       scoring=None, verbose=0)"
      ]
     },
     "execution_count": 1528,
     "metadata": {},
     "output_type": "execute_result"
    }
   ],
   "source": [
    "param_grid = {'n_neighbors' : np.arange(1,20), 'metric' : ['euclidean', 'manhattan', 'minkowski']}\n",
    "\n",
    "grid = GridSearchCV(KNeighborsClassifier(), param_grid, cv=5)\n",
    "\n",
    "grid.fit(X_train, y_train)"
   ]
  },
  {
   "cell_type": "code",
   "execution_count": 1529,
   "metadata": {},
   "outputs": [
    {
     "data": {
      "text/plain": [
       "0.8316498316498316"
      ]
     },
     "execution_count": 1529,
     "metadata": {},
     "output_type": "execute_result"
    }
   ],
   "source": [
    "grid.best_score_"
   ]
  },
  {
   "cell_type": "code",
   "execution_count": 1530,
   "metadata": {},
   "outputs": [
    {
     "data": {
      "text/plain": [
       "{'metric': 'manhattan', 'n_neighbors': 16}"
      ]
     },
     "execution_count": 1530,
     "metadata": {},
     "output_type": "execute_result"
    }
   ],
   "source": [
    "grid.best_params_"
   ]
  },
  {
   "cell_type": "markdown",
   "metadata": {},
   "source": [
    "Le meilleur modèle n'utilise donc pas la métrique euclidienne ! Mais la métrique Manhattan avec un nombre de voisins = 16"
   ]
  },
  {
   "cell_type": "code",
   "execution_count": 1531,
   "metadata": {},
   "outputs": [],
   "source": [
    "best_model_neighbors = grid.best_estimator_\n",
    "predict_knn = best_model_neighbors.predict(X_test).astype(int)"
   ]
  },
  {
   "cell_type": "code",
   "execution_count": 1532,
   "metadata": {},
   "outputs": [],
   "source": [
    "\n",
    "f = open('knn_prediction.csv', 'w')\n",
    "ligneEntete = 'Survived,PassengerID' + \"\\n\"\n",
    "f.write(ligneEntete)\n",
    "for i in range(0, len(predict_knn)):\n",
    "     ligne = str(predict_knn[i])+\",\"+ str(test_complete.iloc[i,0]) +\"\\n\"\n",
    "     f.write(ligne)\n",
    "\n",
    "f.close()"
   ]
  },
  {
   "cell_type": "markdown",
   "metadata": {},
   "source": [
    "**Notre score avec le modèle KNN sur Kaggle est de 78,9%**"
   ]
  },
  {
   "cell_type": "markdown",
   "metadata": {},
   "source": [
    "# Random Forrest"
   ]
  },
  {
   "cell_type": "code",
   "execution_count": 1533,
   "metadata": {},
   "outputs": [],
   "source": [
    "X_train = X_train_ordinal\n",
    "y_train = y_train_ordinal\n",
    "\n",
    "X_test = X_test_ordinal"
   ]
  },
  {
   "cell_type": "code",
   "execution_count": 1534,
   "metadata": {},
   "outputs": [],
   "source": [
    "from sklearn.ensemble import RandomForestClassifier"
   ]
  },
  {
   "cell_type": "code",
   "execution_count": 1535,
   "metadata": {
    "scrolled": true
   },
   "outputs": [],
   "source": [
    "CV_forest = cross_validate(RandomForestClassifier(), X_train, y_train, cv = 5)\n",
    "\n",
    "val_score = CV_forest['test_score'].mean()\n",
    "val_score\n",
    "\n",
    "model=RandomForestClassifier()\n",
    "model.fit(X_train, y_train)\n",
    "predict_forest = model.predict(X_test).astype(int)"
   ]
  },
  {
   "cell_type": "markdown",
   "metadata": {},
   "source": [
    "## Meilleurs paramètres"
   ]
  },
  {
   "cell_type": "code",
   "execution_count": 1536,
   "metadata": {},
   "outputs": [
    {
     "data": {
      "text/plain": [
       "GridSearchCV(cv=5, error_score='raise-deprecating',\n",
       "       estimator=RandomForestClassifier(bootstrap=True, class_weight=None, criterion='gini',\n",
       "            max_depth=None, max_features='auto', max_leaf_nodes=None,\n",
       "            min_impurity_decrease=0.0, min_impurity_split=None,\n",
       "            min_samples_leaf=1, min_samples_split=2,\n",
       "            min_weight_fraction_leaf=0.0, n_estimators='warn', n_jobs=None,\n",
       "            oob_score=False, random_state=None, verbose=0,\n",
       "            warm_start=False),\n",
       "       fit_params=None, iid='warn', n_jobs=None,\n",
       "       param_grid={'n_estimators': [100, 200, 300, 400], 'max_features': ['auto', 'sqrt', 'log2'], 'max_depth': [4, 5, 6, 7, 8], 'criterion': ['gini', 'entropy']},\n",
       "       pre_dispatch='2*n_jobs', refit=True, return_train_score='warn',\n",
       "       scoring=None, verbose=0)"
      ]
     },
     "execution_count": 1536,
     "metadata": {},
     "output_type": "execute_result"
    }
   ],
   "source": [
    "param_grid= {'n_estimators': [100, 200, 300, 400], 'max_features': ['auto', 'sqrt', 'log2'], 'max_depth':[4,5,6,7,8], 'criterion' : ['gini', 'entropy']}\n",
    "\n",
    "grid = GridSearchCV(RandomForestClassifier(), param_grid, cv=5)\n",
    "\n",
    "grid.fit(X_train, y_train)"
   ]
  },
  {
   "cell_type": "code",
   "execution_count": 1537,
   "metadata": {
    "scrolled": true
   },
   "outputs": [
    {
     "data": {
      "text/plain": [
       "0.8383838383838383"
      ]
     },
     "execution_count": 1537,
     "metadata": {},
     "output_type": "execute_result"
    }
   ],
   "source": [
    "grid.best_score_"
   ]
  },
  {
   "cell_type": "code",
   "execution_count": 1538,
   "metadata": {},
   "outputs": [
    {
     "data": {
      "text/plain": [
       "{'criterion': 'gini',\n",
       " 'max_depth': 8,\n",
       " 'max_features': 'log2',\n",
       " 'n_estimators': 200}"
      ]
     },
     "execution_count": 1538,
     "metadata": {},
     "output_type": "execute_result"
    }
   ],
   "source": [
    "p=grid.best_params_\n",
    "p"
   ]
  },
  {
   "cell_type": "markdown",
   "metadata": {},
   "source": [
    "## Selection de variables"
   ]
  },
  {
   "cell_type": "code",
   "execution_count": 1539,
   "metadata": {},
   "outputs": [],
   "source": [
    "from sklearn.feature_selection import RFECV"
   ]
  },
  {
   "cell_type": "code",
   "execution_count": 1540,
   "metadata": {},
   "outputs": [
    {
     "data": {
      "text/plain": [
       "array([1, 1, 1, 1, 3, 2, 1, 1])"
      ]
     },
     "execution_count": 1540,
     "metadata": {},
     "output_type": "execute_result"
    }
   ],
   "source": [
    "selector =RFECV(RandomForestClassifier(criterion= p['criterion'],max_depth= p['max_depth'], max_features= p['max_features'], n_estimators =p['n_estimators']), step=1, min_features_to_select=1, cv=5)\n",
    "\n",
    "selector.fit(X_train, y_train)\n",
    "selector.grid_scores_\n",
    "selector.ranking_"
   ]
  },
  {
   "cell_type": "code",
   "execution_count": 1541,
   "metadata": {},
   "outputs": [
    {
     "data": {
      "text/plain": [
       "<bound method BaseEstimator.get_params of RFECV(cv=5,\n",
       "   estimator=RandomForestClassifier(bootstrap=True, class_weight=None, criterion='gini',\n",
       "            max_depth=8, max_features='log2', max_leaf_nodes=None,\n",
       "            min_impurity_decrease=0.0, min_impurity_split=None,\n",
       "            min_samples_leaf=1, min_samples_split=2,\n",
       "            min_weight_fraction_leaf=0.0, n_estimators=200, n_jobs=None,\n",
       "            oob_score=False, random_state=None, verbose=0,\n",
       "            warm_start=False),\n",
       "   min_features_to_select=1, n_jobs=None, scoring=None, step=1, verbose=0)>"
      ]
     },
     "execution_count": 1541,
     "metadata": {},
     "output_type": "execute_result"
    }
   ],
   "source": [
    "selector.get_params"
   ]
  },
  {
   "cell_type": "code",
   "execution_count": 1542,
   "metadata": {},
   "outputs": [
    {
     "data": {
      "text/html": [
       "<div>\n",
       "<style scoped>\n",
       "    .dataframe tbody tr th:only-of-type {\n",
       "        vertical-align: middle;\n",
       "    }\n",
       "\n",
       "    .dataframe tbody tr th {\n",
       "        vertical-align: top;\n",
       "    }\n",
       "\n",
       "    .dataframe thead th {\n",
       "        text-align: right;\n",
       "    }\n",
       "</style>\n",
       "<table border=\"1\" class=\"dataframe\">\n",
       "  <thead>\n",
       "    <tr style=\"text-align: right;\">\n",
       "      <th></th>\n",
       "      <th>var</th>\n",
       "      <th>ranking</th>\n",
       "      <th>keep</th>\n",
       "    </tr>\n",
       "  </thead>\n",
       "  <tbody>\n",
       "    <tr>\n",
       "      <th>0</th>\n",
       "      <td>Pclass</td>\n",
       "      <td>1</td>\n",
       "      <td>True</td>\n",
       "    </tr>\n",
       "    <tr>\n",
       "      <th>1</th>\n",
       "      <td>Sex</td>\n",
       "      <td>1</td>\n",
       "      <td>True</td>\n",
       "    </tr>\n",
       "    <tr>\n",
       "      <th>2</th>\n",
       "      <td>Fare</td>\n",
       "      <td>1</td>\n",
       "      <td>True</td>\n",
       "    </tr>\n",
       "    <tr>\n",
       "      <th>3</th>\n",
       "      <td>FSizeCat</td>\n",
       "      <td>1</td>\n",
       "      <td>True</td>\n",
       "    </tr>\n",
       "    <tr>\n",
       "      <th>6</th>\n",
       "      <td>Title</td>\n",
       "      <td>1</td>\n",
       "      <td>True</td>\n",
       "    </tr>\n",
       "    <tr>\n",
       "      <th>7</th>\n",
       "      <td>Age</td>\n",
       "      <td>1</td>\n",
       "      <td>True</td>\n",
       "    </tr>\n",
       "    <tr>\n",
       "      <th>5</th>\n",
       "      <td>Embarked</td>\n",
       "      <td>2</td>\n",
       "      <td>False</td>\n",
       "    </tr>\n",
       "    <tr>\n",
       "      <th>4</th>\n",
       "      <td>Child</td>\n",
       "      <td>3</td>\n",
       "      <td>False</td>\n",
       "    </tr>\n",
       "  </tbody>\n",
       "</table>\n",
       "</div>"
      ],
      "text/plain": [
       "        var  ranking   keep\n",
       "0    Pclass        1   True\n",
       "1       Sex        1   True\n",
       "2      Fare        1   True\n",
       "3  FSizeCat        1   True\n",
       "6     Title        1   True\n",
       "7       Age        1   True\n",
       "5  Embarked        2  False\n",
       "4     Child        3  False"
      ]
     },
     "execution_count": 1542,
     "metadata": {},
     "output_type": "execute_result"
    }
   ],
   "source": [
    "df= pd.DataFrame({'var': list(X_train), 'ranking' : selector.ranking_, 'keep' : selector.support_})\n",
    "df.sort_values(by='ranking')"
   ]
  },
  {
   "cell_type": "code",
   "execution_count": 1543,
   "metadata": {},
   "outputs": [
    {
     "data": {
      "text/plain": [
       "0.8406988896679074"
      ]
     },
     "execution_count": 1543,
     "metadata": {},
     "output_type": "execute_result"
    }
   ],
   "source": [
    "max(selector.grid_scores_)"
   ]
  },
  {
   "cell_type": "markdown",
   "metadata": {},
   "source": [
    "La moyenne de nos score sur nos 5 validation test (cv =5) est de 84,5% "
   ]
  },
  {
   "cell_type": "code",
   "execution_count": 1544,
   "metadata": {},
   "outputs": [],
   "source": [
    "predict_forest = selector.predict(X_test).astype(int)"
   ]
  },
  {
   "cell_type": "code",
   "execution_count": 1545,
   "metadata": {},
   "outputs": [],
   "source": [
    "\n",
    "f = open('forest_prediction.csv', 'w')\n",
    "ligneEntete = 'Survived,PassengerID' + \"\\n\"\n",
    "f.write(ligneEntete)\n",
    "for i in range(0, len(predict_forest)):\n",
    "     ligne = str(predict_forest[i])+\",\"+ str(test_complete.iloc[i,0]) +\"\\n\"\n",
    "     f.write(ligne)\n",
    "\n",
    "f.close()"
   ]
  },
  {
   "cell_type": "markdown",
   "metadata": {},
   "source": [
    "**Notre score avec le modèle Random Forest sur Kaggle est de 77,9%**"
   ]
  },
  {
   "cell_type": "markdown",
   "metadata": {},
   "source": [
    "# SGD Classifier"
   ]
  },
  {
   "cell_type": "code",
   "execution_count": 1546,
   "metadata": {},
   "outputs": [],
   "source": [
    "from sklearn.linear_model import SGDClassifier"
   ]
  },
  {
   "cell_type": "code",
   "execution_count": 1547,
   "metadata": {},
   "outputs": [],
   "source": [
    "X_train = train[['Pclass', 'Sex','Age', 'Fare', 'Child', 'C', 'Q', 'S', 'Master','Miss','Mr','Mrs','officer', 'royalty', 'Small', 'Medium','Big']]\n",
    "y_train = train['Survived']\n",
    "\n",
    "X_test = test[['Pclass', 'Sex', 'Fare','Age', 'Child', 'C', 'Q', 'S', 'Master','Miss','Mr','Mrs','officer', 'royalty', 'Small', 'Medium','Big']]\n"
   ]
  },
  {
   "cell_type": "markdown",
   "metadata": {},
   "source": [
    "### Meilleurs paramètres"
   ]
  },
  {
   "cell_type": "code",
   "execution_count": 1548,
   "metadata": {},
   "outputs": [
    {
     "data": {
      "text/plain": [
       "GridSearchCV(cv=5, error_score='raise-deprecating',\n",
       "       estimator=SGDClassifier(alpha=0.0001, average=False, class_weight=None,\n",
       "       early_stopping=False, epsilon=0.1, eta0=0.0, fit_intercept=True,\n",
       "       l1_ratio=0.15, learning_rate='optimal', loss='hinge', max_iter=None,\n",
       "       n_iter=None, n_iter_no_change=5, n_jobs=None, penalty='l2',\n",
       "       power_t=0.5, random_state=None, shuffle=True, tol=None,\n",
       "       validation_fraction=0.1, verbose=0, warm_start=False),\n",
       "       fit_params=None, iid='warn', n_jobs=None,\n",
       "       param_grid={'alpha': [1e-06, 1e-05, 0.0001, 0.001, 0.01, 0.1, 1], 'l1_ratio': [0, 0.05, 0.1, 0.2, 0.5, 0.8, 0.9, 0.95, 1], 'loss': ['hinge', 'log']},\n",
       "       pre_dispatch='2*n_jobs', refit=True, return_train_score='warn',\n",
       "       scoring=None, verbose=0)"
      ]
     },
     "execution_count": 1548,
     "metadata": {},
     "output_type": "execute_result"
    }
   ],
   "source": [
    "param_grid={'alpha': [10 ** x for x in range(-6,1)], 'l1_ratio' : [0,0.05,0.1,0.2,0.5,0.8,0.9,0.95,1], 'loss': ['hinge', 'log']}\n",
    "\n",
    "grid = GridSearchCV(SGDClassifier(), param_grid, cv=5)\n",
    "\n",
    "grid.fit(X_train, y_train)"
   ]
  },
  {
   "cell_type": "code",
   "execution_count": 1549,
   "metadata": {},
   "outputs": [
    {
     "data": {
      "text/plain": [
       "0.8316498316498316"
      ]
     },
     "execution_count": 1549,
     "metadata": {},
     "output_type": "execute_result"
    }
   ],
   "source": [
    "grid.best_score_"
   ]
  },
  {
   "cell_type": "code",
   "execution_count": 1550,
   "metadata": {},
   "outputs": [
    {
     "data": {
      "text/plain": [
       "{'alpha': 0.01, 'l1_ratio': 1, 'loss': 'hinge'}"
      ]
     },
     "execution_count": 1550,
     "metadata": {},
     "output_type": "execute_result"
    }
   ],
   "source": [
    "p = grid.best_params_\n",
    "p"
   ]
  },
  {
   "cell_type": "markdown",
   "metadata": {},
   "source": [
    "### Selection de variables"
   ]
  },
  {
   "cell_type": "code",
   "execution_count": 1551,
   "metadata": {},
   "outputs": [
    {
     "data": {
      "text/plain": [
       "array([1, 1, 1, 4, 6, 5, 3, 1, 1, 7, 1, 1, 1, 8, 1, 1, 2])"
      ]
     },
     "execution_count": 1551,
     "metadata": {},
     "output_type": "execute_result"
    }
   ],
   "source": [
    "selector =RFECV(SGDClassifier(alpha=p['alpha'], l1_ratio= p['l1_ratio'], loss=p['loss']),step=1, min_features_to_select=1, cv=5)\n",
    "\n",
    "selector.fit(X_train, y_train)\n",
    "selector.grid_scores_\n",
    "selector.ranking_"
   ]
  },
  {
   "cell_type": "code",
   "execution_count": 1552,
   "metadata": {},
   "outputs": [
    {
     "data": {
      "text/html": [
       "<div>\n",
       "<style scoped>\n",
       "    .dataframe tbody tr th:only-of-type {\n",
       "        vertical-align: middle;\n",
       "    }\n",
       "\n",
       "    .dataframe tbody tr th {\n",
       "        vertical-align: top;\n",
       "    }\n",
       "\n",
       "    .dataframe thead th {\n",
       "        text-align: right;\n",
       "    }\n",
       "</style>\n",
       "<table border=\"1\" class=\"dataframe\">\n",
       "  <thead>\n",
       "    <tr style=\"text-align: right;\">\n",
       "      <th></th>\n",
       "      <th>var</th>\n",
       "      <th>ranking</th>\n",
       "      <th>keep</th>\n",
       "    </tr>\n",
       "  </thead>\n",
       "  <tbody>\n",
       "    <tr>\n",
       "      <th>0</th>\n",
       "      <td>Pclass</td>\n",
       "      <td>1</td>\n",
       "      <td>True</td>\n",
       "    </tr>\n",
       "    <tr>\n",
       "      <th>14</th>\n",
       "      <td>Small</td>\n",
       "      <td>1</td>\n",
       "      <td>True</td>\n",
       "    </tr>\n",
       "    <tr>\n",
       "      <th>12</th>\n",
       "      <td>officer</td>\n",
       "      <td>1</td>\n",
       "      <td>True</td>\n",
       "    </tr>\n",
       "    <tr>\n",
       "      <th>11</th>\n",
       "      <td>Mrs</td>\n",
       "      <td>1</td>\n",
       "      <td>True</td>\n",
       "    </tr>\n",
       "    <tr>\n",
       "      <th>10</th>\n",
       "      <td>Mr</td>\n",
       "      <td>1</td>\n",
       "      <td>True</td>\n",
       "    </tr>\n",
       "    <tr>\n",
       "      <th>15</th>\n",
       "      <td>Medium</td>\n",
       "      <td>1</td>\n",
       "      <td>True</td>\n",
       "    </tr>\n",
       "    <tr>\n",
       "      <th>7</th>\n",
       "      <td>S</td>\n",
       "      <td>1</td>\n",
       "      <td>True</td>\n",
       "    </tr>\n",
       "    <tr>\n",
       "      <th>8</th>\n",
       "      <td>Master</td>\n",
       "      <td>1</td>\n",
       "      <td>True</td>\n",
       "    </tr>\n",
       "    <tr>\n",
       "      <th>2</th>\n",
       "      <td>Age</td>\n",
       "      <td>1</td>\n",
       "      <td>True</td>\n",
       "    </tr>\n",
       "    <tr>\n",
       "      <th>1</th>\n",
       "      <td>Sex</td>\n",
       "      <td>1</td>\n",
       "      <td>True</td>\n",
       "    </tr>\n",
       "    <tr>\n",
       "      <th>16</th>\n",
       "      <td>Big</td>\n",
       "      <td>2</td>\n",
       "      <td>False</td>\n",
       "    </tr>\n",
       "    <tr>\n",
       "      <th>6</th>\n",
       "      <td>Q</td>\n",
       "      <td>3</td>\n",
       "      <td>False</td>\n",
       "    </tr>\n",
       "    <tr>\n",
       "      <th>3</th>\n",
       "      <td>Fare</td>\n",
       "      <td>4</td>\n",
       "      <td>False</td>\n",
       "    </tr>\n",
       "    <tr>\n",
       "      <th>5</th>\n",
       "      <td>C</td>\n",
       "      <td>5</td>\n",
       "      <td>False</td>\n",
       "    </tr>\n",
       "    <tr>\n",
       "      <th>4</th>\n",
       "      <td>Child</td>\n",
       "      <td>6</td>\n",
       "      <td>False</td>\n",
       "    </tr>\n",
       "    <tr>\n",
       "      <th>9</th>\n",
       "      <td>Miss</td>\n",
       "      <td>7</td>\n",
       "      <td>False</td>\n",
       "    </tr>\n",
       "    <tr>\n",
       "      <th>13</th>\n",
       "      <td>royalty</td>\n",
       "      <td>8</td>\n",
       "      <td>False</td>\n",
       "    </tr>\n",
       "  </tbody>\n",
       "</table>\n",
       "</div>"
      ],
      "text/plain": [
       "        var  ranking   keep\n",
       "0    Pclass        1   True\n",
       "14    Small        1   True\n",
       "12  officer        1   True\n",
       "11      Mrs        1   True\n",
       "10       Mr        1   True\n",
       "15   Medium        1   True\n",
       "7         S        1   True\n",
       "8    Master        1   True\n",
       "2       Age        1   True\n",
       "1       Sex        1   True\n",
       "16      Big        2  False\n",
       "6         Q        3  False\n",
       "3      Fare        4  False\n",
       "5         C        5  False\n",
       "4     Child        6  False\n",
       "9      Miss        7  False\n",
       "13  royalty        8  False"
      ]
     },
     "execution_count": 1552,
     "metadata": {},
     "output_type": "execute_result"
    }
   ],
   "source": [
    "df= pd.DataFrame({'var': list(X_train), 'ranking' : selector.ranking_, 'keep' : selector.support_})\n",
    "df.sort_values(by='ranking')"
   ]
  },
  {
   "cell_type": "code",
   "execution_count": 1553,
   "metadata": {},
   "outputs": [
    {
     "data": {
      "text/plain": [
       "0.8294187823406519"
      ]
     },
     "execution_count": 1553,
     "metadata": {},
     "output_type": "execute_result"
    }
   ],
   "source": [
    "max(selector.grid_scores_)"
   ]
  },
  {
   "cell_type": "code",
   "execution_count": 1559,
   "metadata": {},
   "outputs": [],
   "source": [
    "predict_SGD = selector.predict(X_test).astype(int)"
   ]
  },
  {
   "cell_type": "code",
   "execution_count": 1555,
   "metadata": {},
   "outputs": [],
   "source": [
    "\n",
    "f = open('SGD_prediction.csv', 'w')\n",
    "ligneEntete = 'Survived,PassengerID' + \"\\n\"\n",
    "f.write(ligneEntete)\n",
    "for i in range(0, len(predict_SGD)):\n",
    "     ligne = str(predict_SGD[i])+\",\"+ str(test_complete.iloc[i,0]) +\"\\n\"\n",
    "     f.write(ligne)\n",
    "\n",
    "f.close()"
   ]
  },
  {
   "cell_type": "markdown",
   "metadata": {},
   "source": [
    "**Notre score avec le modèle SGDClassifier sur Kaggle est de 77,9%**"
   ]
  }
 ],
 "metadata": {
  "kernelspec": {
   "display_name": "Python 3",
   "language": "python",
   "name": "python3"
  },
  "language_info": {
   "codemirror_mode": {
    "name": "ipython",
    "version": 3
   },
   "file_extension": ".py",
   "mimetype": "text/x-python",
   "name": "python",
   "nbconvert_exporter": "python",
   "pygments_lexer": "ipython3",
   "version": "3.7.1"
  }
 },
 "nbformat": 4,
 "nbformat_minor": 2
}
