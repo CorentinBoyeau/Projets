{
 "cells": [
  {
   "cell_type": "markdown",
   "metadata": {},
   "source": [
    "# Prédiction des rendements du Dow Jones à partir des rendements des autres indices internationaux"
   ]
  },
  {
   "cell_type": "markdown",
   "metadata": {},
   "source": [
    "**Projet de Machine Learning ISUP M2 Actuariat 08/01/2021**\n",
    "\n",
    "* **Ramzi Faroui**\n",
    "* **Aurélien Rousseau**\n",
    "* **Corentin Boyeau**"
   ]
  },
  {
   "cell_type": "markdown",
   "metadata": {},
   "source": [
    "## Sommaire\n",
    "\n",
    "* [Objectifs du projet](#1)\n",
    "\n",
    "\n",
    "* [Préparation et visualisation des données](#2)\n",
    "    * [Importation des packages](#21)\n",
    "    * [Importation et description des données](#22)\n",
    "    * [Création de variables ](#23)\n",
    "        * [Rendements journaliers](#231)\n",
    "        * [Variable catégoriel](#232)\n",
    "    * [Séparation du dataset](#24)\n",
    "    * [Visualisation des données](#25)\n",
    "    \n",
    "    \n",
    "* [Prédictions](#3)\n",
    "    * [Choix des variables](#31)\n",
    "        * [Description des 3 méthodes de sélections de variables](#311)\n",
    "        * [Filter method : Pearson Correlation](#312)\n",
    "        * [Filter method : test ANOVA](#313)\n",
    "        * [Wrapper method : Recursive Feature Elimination](#314)\n",
    "            * [RFECV avec modèle linéaire](#3141)\n",
    "            * [RFECV avec régression logistique Lasso](#3142)\n",
    "        * [Embedded method : Select From Model](#315)\n",
    "            * [Select From Model avec régression logistique Lasso](#3151)\n",
    "            * [Select From model avec Random forests et l'OOB error](#3152)\n",
    "        * [Choix final](#316)\n",
    "    * [Classification](#32)\n",
    "        * [1er modèle : CART](#321)\n",
    "        * [2ème modèle : Random Forest](#322)\n",
    "        * [3ème modèle : Régression logistique pénalisation Lasso](#323)\n",
    "        * [4ème modèle : KNN](#324)\n",
    "        * [Choix du meilleur modèle de classification](#325)\n",
    "    * [Regression](#33)\n",
    "        * [1er modèle : Modèle linéaire](#331)\n",
    "        * [2ème modèle : SVM](#332)\n",
    "        * [3ème modèle : Ridge](#333)\n",
    "        * [Choix du meilleur modèle de régression](#334)\n",
    "      \n",
    "      \n",
    "* [Définition des stratégies d'investissement](#4)\n",
    "    * [Investissement à partir du meilleur modèle de classification](#41)\n",
    "    * [Investissement à partir des probabilités de Random Forest - Détermination seuil](#42)\n",
    "        * [Analyse graphique de l'impact du seuil sur les résultats d'investissements](#421)\n",
    "        * [Résultats pour le seuil sélectionné](#422)\n",
    "    * [Investissement à partir du meilleur modèle de régression - Détermination seuil](#43)\n",
    "        * [Analyse graphique de l'impact du seuil sur les résultats d'investissements](#431)\n",
    "        * [Résultats pour le seuil sélectionné](#432)\n",
    "        \n",
    "        \n",
    "* [Récapitulatif des résultats et choix de l'investissement optimal](#5)\n",
    "    * [Fonctions permettant de remplir le tableau récapitulatif](#51)\n",
    "    * [Tableau récapitulatif](#52)\n",
    "    \n",
    "    \n",
    "* [Résultats sur le test set](#6)\n",
    "    * [Résultats finaux sur le test set (du 02/01/2019 aux 13/11/2020)](#61)\n",
    "    * [Résultats en période de crise (du 12/02/2020 au 23/03/2020)](#62)\n",
    "    \n",
    "    \n",
    "* [Prochaines étapes et limites de l'étude](#7)\n",
    "    * [Learning Curve - Besoin de données supplémentaires ?](#71)\n",
    "    * [Limites et améliorations possibles](#72)\n",
    "    \n",
    "    \n",
    "* [Conclusion](#8)\n"
   ]
  },
  {
   "cell_type": "markdown",
   "metadata": {},
   "source": [
    "# Objectifs du projet <a class=\"anchor\" id=\"1\"></a>"
   ]
  },
  {
   "cell_type": "markdown",
   "metadata": {},
   "source": [
    "Si on a souvent tendance à penser que la bourse américaine influence les autres bourses, l'objectif de ce projet est inverse. **Peut-on prévoir de manière suffisamment convaincante les rendements du Dow Jones, à partir uniquement de la performance journalière des autres indices boursiers internationaux ?**\n",
    "\n",
    "Pour comprendre l'idée, rappelons tout d'abord les horaires d'ouverture (heure française) des différentes bourses, ainsi que les indices associées que nous utiliserons :\n",
    "\n",
    "* Etats-unis - 15h30 à 22h - Dow Jones\n",
    "* France - 9h à 17h30 - CAC40\n",
    "* Allemagne - 9h à 20h - DAX30\n",
    "* Angleterre - 9h30 à 17h30 - FTSE100\n",
    "* Japon - 1h à 3h et 4h30 à 7h - Nikkei225\n",
    "* Chine - 2h30 à 4h30 et 6h à 8h - SSE Composite\n",
    "\n",
    "Pour prédire les rendements du Dow Jones nous utiliserons donc les rendements des bourses européennes uniquement jusqu'à 15h, soit avant l'ouverture de Wall Street (on aurait pu même les prendre jusqu'à 15h30 mais nous ne disposions pas de l'information). Ainsi, tous les jours, à 15h, à partir de la tendance donnée par les bourses qui sont déjà ouvertes (ou qui ont déjà fermées concernant les bourses asiatiques) l'idée est de déterminer si les rendements journaliers du Dow Jones seront positifs ou non.\n",
    "\n",
    "De plus, nous avons décidé d'apporter une vision \"investissement\" au projet. L'idée est la suivante : lorsque nos prédictions sont suffisamment convaincantes (par exemple que notre prédiction nous indique des rendements positifs), on décide d'investir (sur un fond indiciel indexé au Dow Jones) au prix d'ouverture à 15h30 et de revendre au prix de fermeture à 22h. L'idée finale sera de comparer cette stratégie avec les rendements apportés par un investissement long-terme.  \n",
    "\n",
    "C'est pourquoi on s'attardera principalement sur de la classification, l'idée étant de prédire \"1\" lorsque l'on veut investir et \"0\" dans le cas contraire. Dans un premier temps, cette classification sera simplement de prédire la positivité ou non des rendements, mais on accordera une autre partie, à l'étude du seuil de classification et son impact sur les rendements associés. Par exemple, plutôt que d'investir lorsque le modèle Random Forest prédit une positivité des rendements avec une probabilité supérieur à 50%, monter le seuil à 60%, 70% etc ... pour voir l'impact sur les résultats d'investissement.\n",
    "\n",
    "Enfin, dans la dernière partie, on s'attardera aux améliorations possibles de notre étude, ainsi qu'aux éventuelles limites que pose la stratégie d'investissement décrite ci-dessus."
   ]
  },
  {
   "cell_type": "code",
   "execution_count": 2,
   "metadata": {},
   "outputs": [],
   "source": [
    "import pandas as pd\n",
    "import seaborn as sns\n",
    "import numpy as np\n",
    "import matplotlib.pyplot as plt\n",
    "import datetime\n",
    "import graphviz # conda install python-graphviz"
   ]
  },
  {
   "cell_type": "markdown",
   "metadata": {},
   "source": [
    "# Préparation et visualisation des données  <a class=\"anchor\" id=\"2\"></a>"
   ]
  },
  {
   "cell_type": "markdown",
   "metadata": {},
   "source": [
    "## Importation des packages <a class=\"anchor\" id=\"21\"></a>"
   ]
  },
  {
   "cell_type": "markdown",
   "metadata": {},
   "source": [
    "## Importation et description des données <a class=\"anchor\" id=\"22\"></a>"
   ]
  },
  {
   "cell_type": "markdown",
   "metadata": {},
   "source": [
    "La base de données se compose de différentes variables pour les 6 indices boursiers précédemment cités, soit le Dow Jones (Etats-Unis), le CAC40 (France), le DAX30 (Allemagne), le FTSE100 (Angleterre), le Nikkei 225 (Japon) et le SSE_Composite (Chine). Pour rappel, le Dow Jones est un indice boursier américain créé en 1896 par Charles Dow et Edward Jones. Il représente 30 des plus importantes entreprises américaines et il est pondéré sur la valeur des actions des entreprises qui le compose.\n",
    "\n",
    "Pour l'ensemble de ces 6 indices nous disposons des 2 variables suivantes :\n",
    "\n",
    "* Open_Index : valeur de l'indice à l'ouverture du marché pour une date donnée\n",
    "* Close_Index : valeur de l'indice à la fermeture du marché pour une date donnée\n",
    "\n",
    "*Ces informations ont été récupérées sur le site [Yahoo Finance](https://finance.yahoo.com/quote/%5EDJI/history/)*\n",
    "\n",
    "De plus pour les 3 indices européens, nous disposons en plus de la variable suivante : \n",
    "\n",
    "* 15h_Index : valeur de l'indice à 15h pour une date donnée\n",
    "\n",
    "*Ces informations ont été récupérées sur le site [dukascopy](https://www.dukascopy.com/trading-tools/widgets/quotes/historical_data_feed?fbclid=IwAR2f9gvYztXCpAuCkDMCewedqo0_ozmF9Hy5M9Z4pd5dG1jXHSzNW-TioUo). A noter que les valeurs horaires des indices est normalement payantes, c'est un des rares sites à fournir l'information gratuitement.*\n",
    "\n",
    "Les variables Open et Close vont du 3 décembre 2012 au 13 novembre 2020. Les données à 15h ne sont renseignées qu'à partir de janvier 2013."
   ]
  },
  {
   "cell_type": "code",
   "execution_count": 3,
   "metadata": {
    "scrolled": true
   },
   "outputs": [
    {
     "data": {
      "text/html": [
       "<div>\n",
       "<style scoped>\n",
       "    .dataframe tbody tr th:only-of-type {\n",
       "        vertical-align: middle;\n",
       "    }\n",
       "\n",
       "    .dataframe tbody tr th {\n",
       "        vertical-align: top;\n",
       "    }\n",
       "\n",
       "    .dataframe thead th {\n",
       "        text-align: right;\n",
       "    }\n",
       "</style>\n",
       "<table border=\"1\" class=\"dataframe\">\n",
       "  <thead>\n",
       "    <tr style=\"text-align: right;\">\n",
       "      <th></th>\n",
       "      <th>Date</th>\n",
       "      <th>Open_DJ</th>\n",
       "      <th>Close_DJ</th>\n",
       "      <th>Open_SSE_Composite</th>\n",
       "      <th>Close_SSE_Composite</th>\n",
       "      <th>Open_N225</th>\n",
       "      <th>Close_N225</th>\n",
       "      <th>Open_CAC40</th>\n",
       "      <th>15h_CAC40</th>\n",
       "      <th>Close_CAC40</th>\n",
       "      <th>Open_DAX</th>\n",
       "      <th>15h_DAX</th>\n",
       "      <th>Close_DAX</th>\n",
       "      <th>Open_FTSE100</th>\n",
       "      <th>15h_FTSE100</th>\n",
       "      <th>Close_FTSE100</th>\n",
       "    </tr>\n",
       "  </thead>\n",
       "  <tbody>\n",
       "    <tr>\n",
       "      <th>0</th>\n",
       "      <td>2012-12-03</td>\n",
       "      <td>13027.730469</td>\n",
       "      <td>12965.599609</td>\n",
       "      <td>1977.254028</td>\n",
       "      <td>1959.766968</td>\n",
       "      <td>9484.200195</td>\n",
       "      <td>9458.179688</td>\n",
       "      <td>3567.899902</td>\n",
       "      <td>NaN</td>\n",
       "      <td>3566.590088</td>\n",
       "      <td>7427.410156</td>\n",
       "      <td>NaN</td>\n",
       "      <td>7435.209961</td>\n",
       "      <td>5866.799805</td>\n",
       "      <td>NaN</td>\n",
       "      <td>5871.200195</td>\n",
       "    </tr>\n",
       "    <tr>\n",
       "      <th>1</th>\n",
       "      <td>2012-12-04</td>\n",
       "      <td>12966.450195</td>\n",
       "      <td>12951.780273</td>\n",
       "      <td>1956.615967</td>\n",
       "      <td>1975.142944</td>\n",
       "      <td>9419.150391</td>\n",
       "      <td>9432.459961</td>\n",
       "      <td>3563.030029</td>\n",
       "      <td>NaN</td>\n",
       "      <td>3580.479980</td>\n",
       "      <td>7428.129883</td>\n",
       "      <td>NaN</td>\n",
       "      <td>7435.120117</td>\n",
       "      <td>5871.200195</td>\n",
       "      <td>NaN</td>\n",
       "      <td>5869.000000</td>\n",
       "    </tr>\n",
       "    <tr>\n",
       "      <th>2</th>\n",
       "      <td>2012-12-05</td>\n",
       "      <td>12948.959961</td>\n",
       "      <td>13034.490234</td>\n",
       "      <td>1973.107056</td>\n",
       "      <td>2031.906982</td>\n",
       "      <td>9380.370117</td>\n",
       "      <td>9468.839844</td>\n",
       "      <td>3602.209961</td>\n",
       "      <td>NaN</td>\n",
       "      <td>3590.500000</td>\n",
       "      <td>7480.589844</td>\n",
       "      <td>NaN</td>\n",
       "      <td>7454.549805</td>\n",
       "      <td>5869.000000</td>\n",
       "      <td>NaN</td>\n",
       "      <td>5892.100098</td>\n",
       "    </tr>\n",
       "    <tr>\n",
       "      <th>3</th>\n",
       "      <td>2012-12-06</td>\n",
       "      <td>13026.190430</td>\n",
       "      <td>13074.040039</td>\n",
       "      <td>2029.562012</td>\n",
       "      <td>2029.237061</td>\n",
       "      <td>9535.690430</td>\n",
       "      <td>9545.160156</td>\n",
       "      <td>3598.129883</td>\n",
       "      <td>NaN</td>\n",
       "      <td>3601.649902</td>\n",
       "      <td>7469.540039</td>\n",
       "      <td>NaN</td>\n",
       "      <td>7534.540039</td>\n",
       "      <td>5892.100098</td>\n",
       "      <td>NaN</td>\n",
       "      <td>5901.399902</td>\n",
       "    </tr>\n",
       "    <tr>\n",
       "      <th>4</th>\n",
       "      <td>2012-12-07</td>\n",
       "      <td>13072.870117</td>\n",
       "      <td>13155.129883</td>\n",
       "      <td>2028.765991</td>\n",
       "      <td>2061.785889</td>\n",
       "      <td>9547.139648</td>\n",
       "      <td>9527.389648</td>\n",
       "      <td>3606.760010</td>\n",
       "      <td>NaN</td>\n",
       "      <td>3605.610107</td>\n",
       "      <td>7539.779785</td>\n",
       "      <td>NaN</td>\n",
       "      <td>7517.799805</td>\n",
       "      <td>5901.399902</td>\n",
       "      <td>NaN</td>\n",
       "      <td>5914.399902</td>\n",
       "    </tr>\n",
       "  </tbody>\n",
       "</table>\n",
       "</div>"
      ],
      "text/plain": [
       "        Date       Open_DJ      Close_DJ  Open_SSE_Composite  \\\n",
       "0 2012-12-03  13027.730469  12965.599609         1977.254028   \n",
       "1 2012-12-04  12966.450195  12951.780273         1956.615967   \n",
       "2 2012-12-05  12948.959961  13034.490234         1973.107056   \n",
       "3 2012-12-06  13026.190430  13074.040039         2029.562012   \n",
       "4 2012-12-07  13072.870117  13155.129883         2028.765991   \n",
       "\n",
       "   Close_SSE_Composite    Open_N225   Close_N225   Open_CAC40  15h_CAC40  \\\n",
       "0          1959.766968  9484.200195  9458.179688  3567.899902        NaN   \n",
       "1          1975.142944  9419.150391  9432.459961  3563.030029        NaN   \n",
       "2          2031.906982  9380.370117  9468.839844  3602.209961        NaN   \n",
       "3          2029.237061  9535.690430  9545.160156  3598.129883        NaN   \n",
       "4          2061.785889  9547.139648  9527.389648  3606.760010        NaN   \n",
       "\n",
       "   Close_CAC40     Open_DAX  15h_DAX    Close_DAX  Open_FTSE100  15h_FTSE100  \\\n",
       "0  3566.590088  7427.410156      NaN  7435.209961   5866.799805          NaN   \n",
       "1  3580.479980  7428.129883      NaN  7435.120117   5871.200195          NaN   \n",
       "2  3590.500000  7480.589844      NaN  7454.549805   5869.000000          NaN   \n",
       "3  3601.649902  7469.540039      NaN  7534.540039   5892.100098          NaN   \n",
       "4  3605.610107  7539.779785      NaN  7517.799805   5901.399902          NaN   \n",
       "\n",
       "   Close_FTSE100  \n",
       "0    5871.200195  \n",
       "1    5869.000000  \n",
       "2    5892.100098  \n",
       "3    5901.399902  \n",
       "4    5914.399902  "
      ]
     },
     "execution_count": 3,
     "metadata": {},
     "output_type": "execute_result"
    }
   ],
   "source": [
    "data_all = pd.read_csv(\"Stock_Index_World_2013_2020.csv\", sep=\";\")\n",
    "\n",
    "data_all['Date'] = pd.to_datetime(data_all['Date'], format = '%d/%m/%Y')  #Conversion en format date\n",
    "\n",
    "data_all.head()"
   ]
  },
  {
   "cell_type": "code",
   "execution_count": 34,
   "metadata": {},
   "outputs": [
    {
     "data": {
      "text/plain": [
       "0      2012-12-03\n",
       "1      2012-12-04\n",
       "2      2012-12-05\n",
       "3      2012-12-06\n",
       "4      2012-12-07\n",
       "          ...    \n",
       "1998   2020-11-09\n",
       "1999   2020-11-10\n",
       "2000   2020-11-11\n",
       "2001   2020-11-12\n",
       "2002   2020-11-13\n",
       "Name: Date, Length: 2003, dtype: datetime64[ns]"
      ]
     },
     "execution_count": 34,
     "metadata": {},
     "output_type": "execute_result"
    }
   ],
   "source": [
    "data_all.iloc[:,0]"
   ]
  },
  {
   "cell_type": "code",
   "execution_count": 31,
   "metadata": {},
   "outputs": [
    {
     "data": {
      "text/html": [
       "<div>\n",
       "<style scoped>\n",
       "    .dataframe tbody tr th:only-of-type {\n",
       "        vertical-align: middle;\n",
       "    }\n",
       "\n",
       "    .dataframe tbody tr th {\n",
       "        vertical-align: top;\n",
       "    }\n",
       "\n",
       "    .dataframe thead th {\n",
       "        text-align: right;\n",
       "    }\n",
       "</style>\n",
       "<table border=\"1\" class=\"dataframe\">\n",
       "  <thead>\n",
       "    <tr style=\"text-align: right;\">\n",
       "      <th></th>\n",
       "      <th>Date</th>\n",
       "      <th>Open_DJ</th>\n",
       "      <th>Close_DJ</th>\n",
       "      <th>Open_SSE_Composite</th>\n",
       "      <th>Close_SSE_Composite</th>\n",
       "      <th>Open_N225</th>\n",
       "      <th>Close_N225</th>\n",
       "      <th>Open_CAC40</th>\n",
       "      <th>15h_CAC40</th>\n",
       "      <th>Close_CAC40</th>\n",
       "      <th>Open_DAX</th>\n",
       "      <th>15h_DAX</th>\n",
       "      <th>Close_DAX</th>\n",
       "      <th>Open_FTSE100</th>\n",
       "      <th>15h_FTSE100</th>\n",
       "      <th>Close_FTSE100</th>\n",
       "    </tr>\n",
       "  </thead>\n",
       "  <tbody>\n",
       "    <tr>\n",
       "      <th>1</th>\n",
       "      <td>2012-12-04</td>\n",
       "      <td>12966.450195</td>\n",
       "      <td>12951.780273</td>\n",
       "      <td>1956.615967</td>\n",
       "      <td>1975.142944</td>\n",
       "      <td>9419.150391</td>\n",
       "      <td>9432.459961</td>\n",
       "      <td>3563.030029</td>\n",
       "      <td>NaN</td>\n",
       "      <td>3580.479980</td>\n",
       "      <td>7428.129883</td>\n",
       "      <td>NaN</td>\n",
       "      <td>7435.120117</td>\n",
       "      <td>5871.200195</td>\n",
       "      <td>NaN</td>\n",
       "      <td>5869.000000</td>\n",
       "    </tr>\n",
       "    <tr>\n",
       "      <th>2</th>\n",
       "      <td>2012-12-05</td>\n",
       "      <td>12948.959961</td>\n",
       "      <td>13034.490234</td>\n",
       "      <td>1973.107056</td>\n",
       "      <td>2031.906982</td>\n",
       "      <td>9380.370117</td>\n",
       "      <td>9468.839844</td>\n",
       "      <td>3602.209961</td>\n",
       "      <td>NaN</td>\n",
       "      <td>3590.500000</td>\n",
       "      <td>7480.589844</td>\n",
       "      <td>NaN</td>\n",
       "      <td>7454.549805</td>\n",
       "      <td>5869.000000</td>\n",
       "      <td>NaN</td>\n",
       "      <td>5892.100098</td>\n",
       "    </tr>\n",
       "    <tr>\n",
       "      <th>3</th>\n",
       "      <td>2012-12-06</td>\n",
       "      <td>13026.190430</td>\n",
       "      <td>13074.040039</td>\n",
       "      <td>2029.562012</td>\n",
       "      <td>2029.237061</td>\n",
       "      <td>9535.690430</td>\n",
       "      <td>9545.160156</td>\n",
       "      <td>3598.129883</td>\n",
       "      <td>NaN</td>\n",
       "      <td>3601.649902</td>\n",
       "      <td>7469.540039</td>\n",
       "      <td>NaN</td>\n",
       "      <td>7534.540039</td>\n",
       "      <td>5892.100098</td>\n",
       "      <td>NaN</td>\n",
       "      <td>5901.399902</td>\n",
       "    </tr>\n",
       "    <tr>\n",
       "      <th>4</th>\n",
       "      <td>2012-12-07</td>\n",
       "      <td>13072.870117</td>\n",
       "      <td>13155.129883</td>\n",
       "      <td>2028.765991</td>\n",
       "      <td>2061.785889</td>\n",
       "      <td>9547.139648</td>\n",
       "      <td>9527.389648</td>\n",
       "      <td>3606.760010</td>\n",
       "      <td>NaN</td>\n",
       "      <td>3605.610107</td>\n",
       "      <td>7539.779785</td>\n",
       "      <td>NaN</td>\n",
       "      <td>7517.799805</td>\n",
       "      <td>5901.399902</td>\n",
       "      <td>NaN</td>\n",
       "      <td>5914.399902</td>\n",
       "    </tr>\n",
       "    <tr>\n",
       "      <th>5</th>\n",
       "      <td>2012-12-10</td>\n",
       "      <td>13154.889648</td>\n",
       "      <td>13169.879883</td>\n",
       "      <td>2067.323975</td>\n",
       "      <td>2083.770020</td>\n",
       "      <td>9584.459961</td>\n",
       "      <td>9533.750000</td>\n",
       "      <td>3587.320068</td>\n",
       "      <td>NaN</td>\n",
       "      <td>3612.100098</td>\n",
       "      <td>7484.950195</td>\n",
       "      <td>NaN</td>\n",
       "      <td>7530.919922</td>\n",
       "      <td>5914.399902</td>\n",
       "      <td>NaN</td>\n",
       "      <td>5921.600098</td>\n",
       "    </tr>\n",
       "  </tbody>\n",
       "</table>\n",
       "</div>"
      ],
      "text/plain": [
       "        Date       Open_DJ      Close_DJ  Open_SSE_Composite  \\\n",
       "1 2012-12-04  12966.450195  12951.780273         1956.615967   \n",
       "2 2012-12-05  12948.959961  13034.490234         1973.107056   \n",
       "3 2012-12-06  13026.190430  13074.040039         2029.562012   \n",
       "4 2012-12-07  13072.870117  13155.129883         2028.765991   \n",
       "5 2012-12-10  13154.889648  13169.879883         2067.323975   \n",
       "\n",
       "   Close_SSE_Composite    Open_N225   Close_N225   Open_CAC40  15h_CAC40  \\\n",
       "1          1975.142944  9419.150391  9432.459961  3563.030029        NaN   \n",
       "2          2031.906982  9380.370117  9468.839844  3602.209961        NaN   \n",
       "3          2029.237061  9535.690430  9545.160156  3598.129883        NaN   \n",
       "4          2061.785889  9547.139648  9527.389648  3606.760010        NaN   \n",
       "5          2083.770020  9584.459961  9533.750000  3587.320068        NaN   \n",
       "\n",
       "   Close_CAC40     Open_DAX  15h_DAX    Close_DAX  Open_FTSE100  15h_FTSE100  \\\n",
       "1  3580.479980  7428.129883      NaN  7435.120117   5871.200195          NaN   \n",
       "2  3590.500000  7480.589844      NaN  7454.549805   5869.000000          NaN   \n",
       "3  3601.649902  7469.540039      NaN  7534.540039   5892.100098          NaN   \n",
       "4  3605.610107  7539.779785      NaN  7517.799805   5901.399902          NaN   \n",
       "5  3612.100098  7484.950195      NaN  7530.919922   5914.399902          NaN   \n",
       "\n",
       "   Close_FTSE100  \n",
       "1    5869.000000  \n",
       "2    5892.100098  \n",
       "3    5901.399902  \n",
       "4    5914.399902  \n",
       "5    5921.600098  "
      ]
     },
     "execution_count": 31,
     "metadata": {},
     "output_type": "execute_result"
    }
   ],
   "source": [
    "data_all.loc[1:5]"
   ]
  },
  {
   "cell_type": "markdown",
   "metadata": {},
   "source": [
    "Prise en compte des valeurs manquantes :\n",
    "\n",
    "* Lors de l'agrégation on a du faire face à des valeurs manquantes étant donné que les jours travaillés ne sont pas forcément les mêmes en fonction des pays. Dans ce cas si on ne dispose pas de l'indice X pour la ligne n de notre dataset, on a considéré la valeur de la ligne n-1. A noter qu'il n'y a aucune valeur manquante pour le Dow Jones car nous avons pris les jours travaillés américain comme base, la valeur des indices lorsque Wall Street est fermé est donc ignorée."
   ]
  },
  {
   "cell_type": "markdown",
   "metadata": {},
   "source": [
    "Pour les variables concernant le CAC40, le DAX30 et le FTSE100 le mois de décembre 2012 n'est pas renseigné, on décide donc d'ignorer ce mois et de commencer l'étude à partir du mois de janvier 2013"
   ]
  },
  {
   "cell_type": "code",
   "execution_count": 4,
   "metadata": {},
   "outputs": [],
   "source": [
    "data = data_all[20:].reset_index(drop=True)  #On retire le mois de décembre 2012"
   ]
  },
  {
   "cell_type": "markdown",
   "metadata": {},
   "source": [
    "## Création de variables <a class=\"anchor\" id=\"23\"></a>"
   ]
  },
  {
   "cell_type": "markdown",
   "metadata": {},
   "source": [
    "### Rendements journaliers <a class=\"anchor\" id=\"231\"></a>"
   ]
  },
  {
   "cell_type": "code",
   "execution_count": 5,
   "metadata": {},
   "outputs": [],
   "source": [
    "Index = [\"DJ\",\"SSE_Composite\", \"N225\"]\n",
    "\n",
    "\n",
    "for i in range (len(Index)):   #Création des rendements pour les variables dont on veut l'ensemble de la journée\n",
    "    Open= \"Open_\"+Index[i]\n",
    "    Close=\"Close_\"+Index[i]\n",
    "    Nom_var = \"Returns_\" + Index[i]\n",
    "    data[Nom_var]=((data[Close]-data[Open])/data[Open])\n",
    "    \n",
    "Index_15h = [\"CAC40\", \"DAX\", \"FTSE100\"]\n",
    "\n",
    "for i in range (len(Index_15h)):  #Création des rendements uniquement de 9h à 15h \n",
    "    Open= \"Open_\"+Index_15h[i]\n",
    "    Close=\"15h_\"+Index_15h[i]\n",
    "    Nom_var = \"Returns_9_15_\" + Index_15h[i]\n",
    "    data[Nom_var]=((data[Close]-data[Open])/data[Open])\n",
    "    \n",
    "\n",
    "Var = [\"Returns_\"+Index[i] for i in range(len(Index))]\n",
    "Var+= [\"Returns_9_15_\"+Index_15h[i] for i in range(len(Index_15h))]\n",
    "    "
   ]
  },
  {
   "cell_type": "markdown",
   "metadata": {},
   "source": [
    "Calcul des rendements pour le Dow Jones, N225 et SSE_Composite :\n",
    "\n",
    "$Returns\\_index = \\frac{Close\\_index - Open\\_index}{Open\\_index}$\n",
    "\n",
    "Calcul des rendements pour le CAC40, FTSE100, DAX30 :\n",
    "\n",
    "$Returns\\_9\\_15\\_index = \\frac{15h\\_index - Open\\_index}{Open\\_index}$"
   ]
  },
  {
   "cell_type": "markdown",
   "metadata": {},
   "source": [
    "### Variable catégoriel <a class=\"anchor\" id=\"232\"></a>"
   ]
  },
  {
   "cell_type": "code",
   "execution_count": 6,
   "metadata": {},
   "outputs": [
    {
     "data": {
      "text/html": [
       "<div>\n",
       "<style scoped>\n",
       "    .dataframe tbody tr th:only-of-type {\n",
       "        vertical-align: middle;\n",
       "    }\n",
       "\n",
       "    .dataframe tbody tr th {\n",
       "        vertical-align: top;\n",
       "    }\n",
       "\n",
       "    .dataframe thead th {\n",
       "        text-align: right;\n",
       "    }\n",
       "</style>\n",
       "<table border=\"1\" class=\"dataframe\">\n",
       "  <thead>\n",
       "    <tr style=\"text-align: right;\">\n",
       "      <th></th>\n",
       "      <th>Date</th>\n",
       "      <th>Open_DJ</th>\n",
       "      <th>Close_DJ</th>\n",
       "      <th>Open_SSE_Composite</th>\n",
       "      <th>Close_SSE_Composite</th>\n",
       "      <th>Open_N225</th>\n",
       "      <th>Close_N225</th>\n",
       "      <th>Open_CAC40</th>\n",
       "      <th>15h_CAC40</th>\n",
       "      <th>Close_CAC40</th>\n",
       "      <th>...</th>\n",
       "      <th>Returns_N225</th>\n",
       "      <th>Returns_9_15_CAC40</th>\n",
       "      <th>Returns_9_15_DAX</th>\n",
       "      <th>Returns_9_15_FTSE100</th>\n",
       "      <th>Returns_DJ_positive</th>\n",
       "      <th>Returns_N225_positive</th>\n",
       "      <th>Returns_SSE_Composite_positive</th>\n",
       "      <th>Returns_9_15_FTSE100_positive</th>\n",
       "      <th>Returns_9_15_DAX_positive</th>\n",
       "      <th>Returns_9_15_CAC40_positive</th>\n",
       "    </tr>\n",
       "  </thead>\n",
       "  <tbody>\n",
       "    <tr>\n",
       "      <th>0</th>\n",
       "      <td>2013-01-02</td>\n",
       "      <td>13104.299805</td>\n",
       "      <td>13412.549805</td>\n",
       "      <td>2236.460938</td>\n",
       "      <td>2269.127930</td>\n",
       "      <td>10406.360352</td>\n",
       "      <td>10395.179688</td>\n",
       "      <td>3702.659912</td>\n",
       "      <td>3718.29</td>\n",
       "      <td>3733.929932</td>\n",
       "      <td>...</td>\n",
       "      <td>-0.001074</td>\n",
       "      <td>0.004221</td>\n",
       "      <td>0.010547</td>\n",
       "      <td>0.023206</td>\n",
       "      <td>1</td>\n",
       "      <td>0</td>\n",
       "      <td>1</td>\n",
       "      <td>1</td>\n",
       "      <td>1</td>\n",
       "      <td>1</td>\n",
       "    </tr>\n",
       "    <tr>\n",
       "      <th>1</th>\n",
       "      <td>2013-01-03</td>\n",
       "      <td>13413.009766</td>\n",
       "      <td>13391.360352</td>\n",
       "      <td>2236.460938</td>\n",
       "      <td>2269.127930</td>\n",
       "      <td>10406.360352</td>\n",
       "      <td>10395.179688</td>\n",
       "      <td>3724.300049</td>\n",
       "      <td>3717.11</td>\n",
       "      <td>3721.169922</td>\n",
       "      <td>...</td>\n",
       "      <td>-0.001074</td>\n",
       "      <td>-0.001931</td>\n",
       "      <td>-0.000247</td>\n",
       "      <td>0.000463</td>\n",
       "      <td>0</td>\n",
       "      <td>0</td>\n",
       "      <td>1</td>\n",
       "      <td>1</td>\n",
       "      <td>0</td>\n",
       "      <td>0</td>\n",
       "    </tr>\n",
       "    <tr>\n",
       "      <th>2</th>\n",
       "      <td>2013-01-04</td>\n",
       "      <td>13391.049805</td>\n",
       "      <td>13435.209961</td>\n",
       "      <td>2289.510010</td>\n",
       "      <td>2276.991943</td>\n",
       "      <td>10604.500000</td>\n",
       "      <td>10688.110352</td>\n",
       "      <td>3713.320068</td>\n",
       "      <td>3716.21</td>\n",
       "      <td>3730.020020</td>\n",
       "      <td>...</td>\n",
       "      <td>0.007884</td>\n",
       "      <td>0.000778</td>\n",
       "      <td>0.002327</td>\n",
       "      <td>0.004360</td>\n",
       "      <td>1</td>\n",
       "      <td>1</td>\n",
       "      <td>0</td>\n",
       "      <td>1</td>\n",
       "      <td>1</td>\n",
       "      <td>1</td>\n",
       "    </tr>\n",
       "    <tr>\n",
       "      <th>3</th>\n",
       "      <td>2013-01-07</td>\n",
       "      <td>13436.129883</td>\n",
       "      <td>13384.290039</td>\n",
       "      <td>2271.663086</td>\n",
       "      <td>2285.364014</td>\n",
       "      <td>10743.690430</td>\n",
       "      <td>10599.009766</td>\n",
       "      <td>3731.489990</td>\n",
       "      <td>3703.59</td>\n",
       "      <td>3704.639893</td>\n",
       "      <td>...</td>\n",
       "      <td>-0.013467</td>\n",
       "      <td>-0.007477</td>\n",
       "      <td>-0.003282</td>\n",
       "      <td>-0.003752</td>\n",
       "      <td>0</td>\n",
       "      <td>0</td>\n",
       "      <td>1</td>\n",
       "      <td>0</td>\n",
       "      <td>0</td>\n",
       "      <td>0</td>\n",
       "    </tr>\n",
       "    <tr>\n",
       "      <th>4</th>\n",
       "      <td>2013-01-08</td>\n",
       "      <td>13377.419922</td>\n",
       "      <td>13328.849609</td>\n",
       "      <td>2284.654053</td>\n",
       "      <td>2276.070068</td>\n",
       "      <td>10544.209961</td>\n",
       "      <td>10508.059570</td>\n",
       "      <td>3694.209961</td>\n",
       "      <td>3716.88</td>\n",
       "      <td>3705.879883</td>\n",
       "      <td>...</td>\n",
       "      <td>-0.003428</td>\n",
       "      <td>0.006137</td>\n",
       "      <td>0.001748</td>\n",
       "      <td>0.000465</td>\n",
       "      <td>0</td>\n",
       "      <td>0</td>\n",
       "      <td>0</td>\n",
       "      <td>1</td>\n",
       "      <td>1</td>\n",
       "      <td>1</td>\n",
       "    </tr>\n",
       "  </tbody>\n",
       "</table>\n",
       "<p>5 rows × 28 columns</p>\n",
       "</div>"
      ],
      "text/plain": [
       "        Date       Open_DJ      Close_DJ  Open_SSE_Composite  \\\n",
       "0 2013-01-02  13104.299805  13412.549805         2236.460938   \n",
       "1 2013-01-03  13413.009766  13391.360352         2236.460938   \n",
       "2 2013-01-04  13391.049805  13435.209961         2289.510010   \n",
       "3 2013-01-07  13436.129883  13384.290039         2271.663086   \n",
       "4 2013-01-08  13377.419922  13328.849609         2284.654053   \n",
       "\n",
       "   Close_SSE_Composite     Open_N225    Close_N225   Open_CAC40  15h_CAC40  \\\n",
       "0          2269.127930  10406.360352  10395.179688  3702.659912    3718.29   \n",
       "1          2269.127930  10406.360352  10395.179688  3724.300049    3717.11   \n",
       "2          2276.991943  10604.500000  10688.110352  3713.320068    3716.21   \n",
       "3          2285.364014  10743.690430  10599.009766  3731.489990    3703.59   \n",
       "4          2276.070068  10544.209961  10508.059570  3694.209961    3716.88   \n",
       "\n",
       "   Close_CAC40  ...  Returns_N225  Returns_9_15_CAC40  Returns_9_15_DAX  \\\n",
       "0  3733.929932  ...     -0.001074            0.004221          0.010547   \n",
       "1  3721.169922  ...     -0.001074           -0.001931         -0.000247   \n",
       "2  3730.020020  ...      0.007884            0.000778          0.002327   \n",
       "3  3704.639893  ...     -0.013467           -0.007477         -0.003282   \n",
       "4  3705.879883  ...     -0.003428            0.006137          0.001748   \n",
       "\n",
       "   Returns_9_15_FTSE100  Returns_DJ_positive  Returns_N225_positive  \\\n",
       "0              0.023206                    1                      0   \n",
       "1              0.000463                    0                      0   \n",
       "2              0.004360                    1                      1   \n",
       "3             -0.003752                    0                      0   \n",
       "4              0.000465                    0                      0   \n",
       "\n",
       "   Returns_SSE_Composite_positive  Returns_9_15_FTSE100_positive  \\\n",
       "0                               1                              1   \n",
       "1                               1                              1   \n",
       "2                               0                              1   \n",
       "3                               1                              0   \n",
       "4                               0                              1   \n",
       "\n",
       "   Returns_9_15_DAX_positive  Returns_9_15_CAC40_positive  \n",
       "0                          1                            1  \n",
       "1                          0                            0  \n",
       "2                          1                            1  \n",
       "3                          0                            0  \n",
       "4                          1                            1  \n",
       "\n",
       "[5 rows x 28 columns]"
      ]
     },
     "execution_count": 6,
     "metadata": {},
     "output_type": "execute_result"
    }
   ],
   "source": [
    "data['Returns_DJ_positive']=(data['Returns_DJ']>0).astype(int)\n",
    "data['Returns_N225_positive']=(data['Returns_N225']>0).astype(int)\n",
    "data['Returns_SSE_Composite_positive']=(data['Returns_SSE_Composite']>0).astype(int)\n",
    "data['Returns_9_15_FTSE100_positive']=(data['Returns_9_15_FTSE100']>0).astype(int)\n",
    "data['Returns_9_15_DAX_positive']=(data['Returns_9_15_DAX']>0).astype(int)\n",
    "data['Returns_9_15_CAC40_positive']=(data['Returns_9_15_CAC40']>0).astype(int)\n",
    "\n",
    "data.head()"
   ]
  },
  {
   "cell_type": "markdown",
   "metadata": {},
   "source": [
    "Création de variables catégoriel qui sont égales à 1 lorsque les rendements sont positifs et 0 lorsque les rendements sont négatifs. La variable du Dow Jones sera utilisée pour la classification. Pour les autres indices elles seront utiles uniquement pour la création de graphes dans la partie suivante."
   ]
  },
  {
   "cell_type": "markdown",
   "metadata": {},
   "source": [
    "## Séparation du dataset <a class=\"anchor\" id=\"24\"></a>"
   ]
  },
  {
   "cell_type": "markdown",
   "metadata": {},
   "source": [
    "Pour la séparation du dataset en train/test nous avons  décidé ne pas le faire de manière aléatoire \n",
    "comme on pourrait le faire avec sklearn mais de faire l'entraînement des années 2013 à 2018 et de tester les modèles\n",
    "sur les années 2019 et 2020.  \n",
    "\n",
    "Cela permettra de mettre en place des stratégies d'investissement comme si nous avions mis en place les modèles fin 2018."
   ]
  },
  {
   "cell_type": "code",
   "execution_count": 7,
   "metadata": {},
   "outputs": [],
   "source": [
    "data_train = data.iloc[0:1510]\n",
    "data_test = data.iloc[1510:].reset_index(drop=True)\n",
    "\n",
    "#Variables explicatives X et target y\n",
    "VarExpli = Var[1:]  #Nom des variables explicatives (on enlève juste Returns_DJ qu'on veut prédire)\n",
    "\n",
    "X_train = data_train[VarExpli]\n",
    "y_trainReg = data_train[\"Returns_DJ\"]\n",
    "y_trainClassif = data_train[\"Returns_DJ_positive\"]\n",
    "\n",
    "X_test = data_test[VarExpli]\n",
    "y_testReg = data_test[\"Returns_DJ\"]\n",
    "y_testClassif = data_test[\"Returns_DJ_positive\"]\n"
   ]
  },
  {
   "cell_type": "code",
   "execution_count": 8,
   "metadata": {},
   "outputs": [
    {
     "data": {
      "text/html": [
       "<div>\n",
       "<style scoped>\n",
       "    .dataframe tbody tr th:only-of-type {\n",
       "        vertical-align: middle;\n",
       "    }\n",
       "\n",
       "    .dataframe tbody tr th {\n",
       "        vertical-align: top;\n",
       "    }\n",
       "\n",
       "    .dataframe thead th {\n",
       "        text-align: right;\n",
       "    }\n",
       "</style>\n",
       "<table border=\"1\" class=\"dataframe\">\n",
       "  <thead>\n",
       "    <tr style=\"text-align: right;\">\n",
       "      <th></th>\n",
       "      <th>Returns_SSE_Composite</th>\n",
       "      <th>Returns_N225</th>\n",
       "      <th>Returns_9_15_CAC40</th>\n",
       "      <th>Returns_9_15_DAX</th>\n",
       "      <th>Returns_9_15_FTSE100</th>\n",
       "    </tr>\n",
       "  </thead>\n",
       "  <tbody>\n",
       "    <tr>\n",
       "      <th>0</th>\n",
       "      <td>0.014607</td>\n",
       "      <td>-0.001074</td>\n",
       "      <td>0.004221</td>\n",
       "      <td>0.010547</td>\n",
       "      <td>0.023206</td>\n",
       "    </tr>\n",
       "    <tr>\n",
       "      <th>1</th>\n",
       "      <td>0.014607</td>\n",
       "      <td>-0.001074</td>\n",
       "      <td>-0.001931</td>\n",
       "      <td>-0.000247</td>\n",
       "      <td>0.000463</td>\n",
       "    </tr>\n",
       "    <tr>\n",
       "      <th>2</th>\n",
       "      <td>-0.005468</td>\n",
       "      <td>0.007884</td>\n",
       "      <td>0.000778</td>\n",
       "      <td>0.002327</td>\n",
       "      <td>0.004360</td>\n",
       "    </tr>\n",
       "    <tr>\n",
       "      <th>3</th>\n",
       "      <td>0.006031</td>\n",
       "      <td>-0.013467</td>\n",
       "      <td>-0.007477</td>\n",
       "      <td>-0.003282</td>\n",
       "      <td>-0.003752</td>\n",
       "    </tr>\n",
       "    <tr>\n",
       "      <th>4</th>\n",
       "      <td>-0.003757</td>\n",
       "      <td>-0.003428</td>\n",
       "      <td>0.006137</td>\n",
       "      <td>0.001748</td>\n",
       "      <td>0.000465</td>\n",
       "    </tr>\n",
       "  </tbody>\n",
       "</table>\n",
       "</div>"
      ],
      "text/plain": [
       "   Returns_SSE_Composite  Returns_N225  Returns_9_15_CAC40  Returns_9_15_DAX  \\\n",
       "0               0.014607     -0.001074            0.004221          0.010547   \n",
       "1               0.014607     -0.001074           -0.001931         -0.000247   \n",
       "2              -0.005468      0.007884            0.000778          0.002327   \n",
       "3               0.006031     -0.013467           -0.007477         -0.003282   \n",
       "4              -0.003757     -0.003428            0.006137          0.001748   \n",
       "\n",
       "   Returns_9_15_FTSE100  \n",
       "0              0.023206  \n",
       "1              0.000463  \n",
       "2              0.004360  \n",
       "3             -0.003752  \n",
       "4              0.000465  "
      ]
     },
     "execution_count": 8,
     "metadata": {},
     "output_type": "execute_result"
    }
   ],
   "source": [
    "X_train.head()"
   ]
  },
  {
   "cell_type": "markdown",
   "metadata": {},
   "source": [
    "## Visualisation des données <a class=\"anchor\" id=\"25\"></a>"
   ]
  },
  {
   "cell_type": "code",
   "execution_count": 9,
   "metadata": {},
   "outputs": [
    {
     "data": {
      "text/plain": [
       "Text(0.5, 1.0, 'Evolution des valeurs normalisées de fermeture du Dow-Jones, du N225 et du FTSE100')"
      ]
     },
     "execution_count": 9,
     "metadata": {},
     "output_type": "execute_result"
    },
    {
     "data": {
      "image/png": "[encoded data removed]",
      "text/plain": [
       "<Figure size 1080x720 with 1 Axes>"
      ]
     },
     "metadata": {
      "needs_background": "light"
     },
     "output_type": "display_data"
    }
   ],
   "source": [
    "from sklearn.preprocessing import MinMaxScaler\n",
    "from sklearn.preprocessing import StandardScaler\n",
    "\n",
    "scaler = StandardScaler()\n",
    "\n",
    "Close = ['Close_DJ','Close_N225',\"15h_FTSE100\"]\n",
    "\n",
    "Standardized_close = pd.DataFrame(data[Close])\n",
    "scaler.fit(Standardized_close)\n",
    "Standardized_close = scaler.transform(Standardized_close)\n",
    "\n",
    "\n",
    "plt.figure(figsize=(15, 10)) \n",
    "for i in range(len(Close)):\n",
    "    plt.plot(data[\"Date\"],Standardized_close[:,i])\n",
    "\n",
    "plt.legend(('Close_DJ', 'Close_N225',\"15h_FTSE100\"))\n",
    "plt.title(\"Evolution des valeurs normalisées de fermeture du Dow-Jones, du N225 et du FTSE100\")"
   ]
  },
  {
   "cell_type": "markdown",
   "metadata": {},
   "source": [
    "On a représenté ici l'évolution des valeurs normalisées de fermeture du Dow Jones et du N225, ainsi que la valeur à 15h du FTSE100. On observe des tendances assez similaires entre les 3 valeurs montrant ainsi la forte corrélation entre les bourses. Il est intéressant aussi de remarquer que le décalage vers la droite du FTSE100 par rapport au Dow Jones, signe d'un marché mené par le Dow Jones, n'est pas tout le temps évident."
   ]
  },
  {
   "cell_type": "code",
   "execution_count": 10,
   "metadata": {},
   "outputs": [
    {
     "data": {
      "text/plain": [
       "<matplotlib.legend.Legend at 0x2290c418c10>"
      ]
     },
     "execution_count": 10,
     "metadata": {},
     "output_type": "execute_result"
    },
    {
     "data": {
      "image/png": "[encoded data removed]",
      "text/plain": [
       "<Figure size 432x288 with 1 Axes>"
      ]
     },
     "metadata": {
      "needs_background": "light"
     },
     "output_type": "display_data"
    }
   ],
   "source": [
    "ax = sns.scatterplot(x=\"Returns_9_15_CAC40\", y=\"Returns_9_15_FTSE100\", data=data_train,hue=\"Returns_DJ_positive\")\n",
    "leg_handles = ax.get_legend_handles_labels()[0]\n",
    "ax.legend(leg_handles, [\"négatifs\", \"positifs\"], title='Rendements Dow Jones')"
   ]
  },
  {
   "cell_type": "markdown",
   "metadata": {},
   "source": [
    "Tout d'abord, on peut remarquer une certaine linéarité dans le graphe montrant ainsi une corrélation positive entre le FTSE100 et le CAC40. De plus la couleur des points, nous indiquant le signe futur des rendements du Dow Jones semble indiquer un certain \"pattern\". En effet la concentration des points oranges est plus importante dans le cadran haut-droite, tandis que la concentration des points bleus est plus importante dans  le cadran bas-gauche. Cela confirme donc une hypothèse assez intuitive, lorsque les marchés européens se portent bien, les futurs rendements du Dow Jones ont tendance à être également positifs. La fonction pairplot du package seaborn nous permet de représenter l'ensemble des combinaisons de graphes sur une même figure :"
   ]
  },
  {
   "cell_type": "code",
   "execution_count": 11,
   "metadata": {},
   "outputs": [],
   "source": [
    "All = X_train.copy(deep=True)  #copier X_train sans qu'une modification de la copie modifie X_train\n",
    "All[\"Returns_DJ\"] = y_trainReg\n",
    "All[\"Returns_DJ_positive\"] = y_trainClassif"
   ]
  },
  {
   "cell_type": "code",
   "execution_count": null,
   "metadata": {
    "scrolled": true
   },
   "outputs": [],
   "source": [
    "sns.pairplot(All, hue = \"Returns_DJ_positive\")\n"
   ]
  },
  {
   "cell_type": "markdown",
   "metadata": {},
   "source": [
    "On remarque ici de très fortes corrélations, notamment entre le DAX et le CAC qui forment une droite clairement linéaire. A l'inverse pour les indices asiatiques, les corrélations sont moins évidentes et les graphes ressemblent surtout à des amas de points dans lesquels il est assez difficile de repérer une quelconque droite.\n",
    "\n",
    "On peut également regarder les fonctions de densité, permettant de comparer la différence de densité des indices lorsque les rendements du Dow Jones sont positifs et lorsqu'ils sont négatifs. A l'exception du SSE_Composite pour lesquels les deux densités se superposent, on remarque pour l'ensemble des autres indices un décalage vers la droite de leur densité lorsque les rendements à venir du Dow Jones sont positifs."
   ]
  },
  {
   "cell_type": "code",
   "execution_count": 12,
   "metadata": {},
   "outputs": [],
   "source": [
    "# Création du dataset permettant de former le boxplot ci-dessous\n",
    "\n",
    "df=[]\n",
    "Var_expli = Var[1:]\n",
    "for i in range(len(Var_expli)):\n",
    "    data = pd.DataFrame(data_train[[Var_expli[i],\"Returns_DJ_positive\"]]).assign(Returns_name = Var_expli[i])\n",
    "    data=data.rename(columns = {Var_expli[i]:'Returns_value'})\n",
    "    df.append(data)\n",
    "\n",
    "all_df = pd.concat(df)"
   ]
  },
  {
   "cell_type": "code",
   "execution_count": 13,
   "metadata": {},
   "outputs": [
    {
     "data": {
      "text/html": [
       "<div>\n",
       "<style scoped>\n",
       "    .dataframe tbody tr th:only-of-type {\n",
       "        vertical-align: middle;\n",
       "    }\n",
       "\n",
       "    .dataframe tbody tr th {\n",
       "        vertical-align: top;\n",
       "    }\n",
       "\n",
       "    .dataframe thead th {\n",
       "        text-align: right;\n",
       "    }\n",
       "</style>\n",
       "<table border=\"1\" class=\"dataframe\">\n",
       "  <thead>\n",
       "    <tr style=\"text-align: right;\">\n",
       "      <th></th>\n",
       "      <th>Returns_value</th>\n",
       "      <th>Returns_DJ_positive</th>\n",
       "      <th>Returns_name</th>\n",
       "    </tr>\n",
       "  </thead>\n",
       "  <tbody>\n",
       "    <tr>\n",
       "      <th>0</th>\n",
       "      <td>0.014607</td>\n",
       "      <td>1</td>\n",
       "      <td>Returns_SSE_Composite</td>\n",
       "    </tr>\n",
       "    <tr>\n",
       "      <th>1</th>\n",
       "      <td>0.014607</td>\n",
       "      <td>0</td>\n",
       "      <td>Returns_SSE_Composite</td>\n",
       "    </tr>\n",
       "    <tr>\n",
       "      <th>2</th>\n",
       "      <td>-0.005468</td>\n",
       "      <td>1</td>\n",
       "      <td>Returns_SSE_Composite</td>\n",
       "    </tr>\n",
       "    <tr>\n",
       "      <th>3</th>\n",
       "      <td>0.006031</td>\n",
       "      <td>0</td>\n",
       "      <td>Returns_SSE_Composite</td>\n",
       "    </tr>\n",
       "    <tr>\n",
       "      <th>4</th>\n",
       "      <td>-0.003757</td>\n",
       "      <td>0</td>\n",
       "      <td>Returns_SSE_Composite</td>\n",
       "    </tr>\n",
       "    <tr>\n",
       "      <th>...</th>\n",
       "      <td>...</td>\n",
       "      <td>...</td>\n",
       "      <td>...</td>\n",
       "    </tr>\n",
       "    <tr>\n",
       "      <th>1505</th>\n",
       "      <td>-0.006576</td>\n",
       "      <td>0</td>\n",
       "      <td>Returns_9_15_FTSE100</td>\n",
       "    </tr>\n",
       "    <tr>\n",
       "      <th>1506</th>\n",
       "      <td>-0.006576</td>\n",
       "      <td>1</td>\n",
       "      <td>Returns_9_15_FTSE100</td>\n",
       "    </tr>\n",
       "    <tr>\n",
       "      <th>1507</th>\n",
       "      <td>-0.014242</td>\n",
       "      <td>1</td>\n",
       "      <td>Returns_9_15_FTSE100</td>\n",
       "    </tr>\n",
       "    <tr>\n",
       "      <th>1508</th>\n",
       "      <td>0.023517</td>\n",
       "      <td>0</td>\n",
       "      <td>Returns_9_15_FTSE100</td>\n",
       "    </tr>\n",
       "    <tr>\n",
       "      <th>1509</th>\n",
       "      <td>-0.002070</td>\n",
       "      <td>1</td>\n",
       "      <td>Returns_9_15_FTSE100</td>\n",
       "    </tr>\n",
       "  </tbody>\n",
       "</table>\n",
       "<p>7550 rows × 3 columns</p>\n",
       "</div>"
      ],
      "text/plain": [
       "      Returns_value  Returns_DJ_positive           Returns_name\n",
       "0          0.014607                    1  Returns_SSE_Composite\n",
       "1          0.014607                    0  Returns_SSE_Composite\n",
       "2         -0.005468                    1  Returns_SSE_Composite\n",
       "3          0.006031                    0  Returns_SSE_Composite\n",
       "4         -0.003757                    0  Returns_SSE_Composite\n",
       "...             ...                  ...                    ...\n",
       "1505      -0.006576                    0   Returns_9_15_FTSE100\n",
       "1506      -0.006576                    1   Returns_9_15_FTSE100\n",
       "1507      -0.014242                    1   Returns_9_15_FTSE100\n",
       "1508       0.023517                    0   Returns_9_15_FTSE100\n",
       "1509      -0.002070                    1   Returns_9_15_FTSE100\n",
       "\n",
       "[7550 rows x 3 columns]"
      ]
     },
     "execution_count": 13,
     "metadata": {},
     "output_type": "execute_result"
    }
   ],
   "source": [
    "all_df"
   ]
  },
  {
   "cell_type": "code",
   "execution_count": 14,
   "metadata": {},
   "outputs": [
    {
     "data": {
      "text/plain": [
       "<matplotlib.legend.Legend at 0x20b43997e50>"
      ]
     },
     "execution_count": 14,
     "metadata": {},
     "output_type": "execute_result"
    },
    {
     "data": {
      "image/png": "[encoded data removed]",
      "text/plain": [
       "<Figure size 1080x576 with 1 Axes>"
      ]
     },
     "metadata": {
      "needs_background": "light"
     },
     "output_type": "display_data"
    }
   ],
   "source": [
    "plt.figure(figsize=(15, 8))\n",
    "ax=sns.boxplot(data = all_df,x=\"Returns_name\", y=\"Returns_value\", hue=\"Returns_DJ_positive\")\n",
    "ax.set_title(\"Répartition des rendements des bourses internationales en fonction des futurs résultats du Dow Jones\", fontsize=15)\n",
    "leg_handles = ax.get_legend_handles_labels()[0]\n",
    "ax.legend(leg_handles, [\"négatifs\", \"positifs\"], title='Rendements Dow Jones')\n"
   ]
  },
  {
   "cell_type": "markdown",
   "metadata": {},
   "source": [
    "Assez logiquement les résultats correspondent aux précédentes observations faites sur les densités, à l'exception du SSE_Composite, il y a un décalage des boxplot vers des valeurs positives lorsque les rendements du Dow Jones sont eux mêmes positifs."
   ]
  },
  {
   "cell_type": "code",
   "execution_count": 15,
   "metadata": {},
   "outputs": [
    {
     "data": {
      "text/html": [
       "<div>\n",
       "<style scoped>\n",
       "    .dataframe tbody tr th:only-of-type {\n",
       "        vertical-align: middle;\n",
       "    }\n",
       "\n",
       "    .dataframe tbody tr th {\n",
       "        vertical-align: top;\n",
       "    }\n",
       "\n",
       "    .dataframe thead th {\n",
       "        text-align: right;\n",
       "    }\n",
       "</style>\n",
       "<table border=\"1\" class=\"dataframe\">\n",
       "  <thead>\n",
       "    <tr style=\"text-align: right;\">\n",
       "      <th></th>\n",
       "      <th>Returns_value</th>\n",
       "      <th>Returns_DJ_positive</th>\n",
       "      <th>Returns_name</th>\n",
       "    </tr>\n",
       "  </thead>\n",
       "  <tbody>\n",
       "    <tr>\n",
       "      <th>0</th>\n",
       "      <td>1</td>\n",
       "      <td>1</td>\n",
       "      <td>Returns_SSE_Composite_positive</td>\n",
       "    </tr>\n",
       "    <tr>\n",
       "      <th>1</th>\n",
       "      <td>1</td>\n",
       "      <td>0</td>\n",
       "      <td>Returns_SSE_Composite_positive</td>\n",
       "    </tr>\n",
       "    <tr>\n",
       "      <th>2</th>\n",
       "      <td>0</td>\n",
       "      <td>1</td>\n",
       "      <td>Returns_SSE_Composite_positive</td>\n",
       "    </tr>\n",
       "    <tr>\n",
       "      <th>3</th>\n",
       "      <td>1</td>\n",
       "      <td>0</td>\n",
       "      <td>Returns_SSE_Composite_positive</td>\n",
       "    </tr>\n",
       "    <tr>\n",
       "      <th>4</th>\n",
       "      <td>0</td>\n",
       "      <td>0</td>\n",
       "      <td>Returns_SSE_Composite_positive</td>\n",
       "    </tr>\n",
       "    <tr>\n",
       "      <th>...</th>\n",
       "      <td>...</td>\n",
       "      <td>...</td>\n",
       "      <td>...</td>\n",
       "    </tr>\n",
       "    <tr>\n",
       "      <th>1505</th>\n",
       "      <td>0</td>\n",
       "      <td>0</td>\n",
       "      <td>Returns_9_15_FTSE100_positive</td>\n",
       "    </tr>\n",
       "    <tr>\n",
       "      <th>1506</th>\n",
       "      <td>0</td>\n",
       "      <td>1</td>\n",
       "      <td>Returns_9_15_FTSE100_positive</td>\n",
       "    </tr>\n",
       "    <tr>\n",
       "      <th>1507</th>\n",
       "      <td>0</td>\n",
       "      <td>1</td>\n",
       "      <td>Returns_9_15_FTSE100_positive</td>\n",
       "    </tr>\n",
       "    <tr>\n",
       "      <th>1508</th>\n",
       "      <td>1</td>\n",
       "      <td>0</td>\n",
       "      <td>Returns_9_15_FTSE100_positive</td>\n",
       "    </tr>\n",
       "    <tr>\n",
       "      <th>1509</th>\n",
       "      <td>0</td>\n",
       "      <td>1</td>\n",
       "      <td>Returns_9_15_FTSE100_positive</td>\n",
       "    </tr>\n",
       "  </tbody>\n",
       "</table>\n",
       "<p>7550 rows × 3 columns</p>\n",
       "</div>"
      ],
      "text/plain": [
       "      Returns_value  Returns_DJ_positive                    Returns_name\n",
       "0                 1                    1  Returns_SSE_Composite_positive\n",
       "1                 1                    0  Returns_SSE_Composite_positive\n",
       "2                 0                    1  Returns_SSE_Composite_positive\n",
       "3                 1                    0  Returns_SSE_Composite_positive\n",
       "4                 0                    0  Returns_SSE_Composite_positive\n",
       "...             ...                  ...                             ...\n",
       "1505              0                    0   Returns_9_15_FTSE100_positive\n",
       "1506              0                    1   Returns_9_15_FTSE100_positive\n",
       "1507              0                    1   Returns_9_15_FTSE100_positive\n",
       "1508              1                    0   Returns_9_15_FTSE100_positive\n",
       "1509              0                    1   Returns_9_15_FTSE100_positive\n",
       "\n",
       "[7550 rows x 3 columns]"
      ]
     },
     "execution_count": 15,
     "metadata": {},
     "output_type": "execute_result"
    }
   ],
   "source": [
    "# Création du dataset pour former le graphe ci-dessous\n",
    "\n",
    "Var_expli_classif = []\n",
    "for i in range(len(Var_expli)): Var_expli_classif.append(Var_expli[i] + \"_positive\")\n",
    "\n",
    "df=[]\n",
    "for i in range(len(Var_expli_classif)):\n",
    "    data = pd.DataFrame(data_train[[Var_expli_classif[i],\"Returns_DJ_positive\"]]).assign(Returns_name = Var_expli_classif[i])\n",
    "    data=data.rename(columns = {Var_expli_classif[i]:'Returns_value'})\n",
    "    df.append(data)\n",
    "\n",
    "all_df_classif = pd.concat(df)\n",
    "all_df_classif"
   ]
  },
  {
   "cell_type": "code",
   "execution_count": 16,
   "metadata": {},
   "outputs": [
    {
     "data": {
      "image/png": "[encoded data removed]",
      "text/plain": [
       "<Figure size 1440x720 with 1 Axes>"
      ]
     },
     "metadata": {
      "needs_background": "light"
     },
     "output_type": "display_data"
    }
   ],
   "source": [
    "plt.figure(figsize=(20, 10))\n",
    "ax=sns.countplot(data= all_df_classif[all_df_classif[\"Returns_DJ_positive\"] == 0], x = \"Returns_name\",hue=\"Returns_value\")\n",
    "leg_handles = ax.get_legend_handles_labels()[0]\n",
    "ax.legend(leg_handles, [\"négatifs\", \"positifs\"], title='Rendements bourses inter')\n",
    "ax.set_title(\"Rendements des bourses internationales lorsque les rendements futurs du Dow Jones sont négatifs\", fontsize=20)\n",
    "plt.show()"
   ]
  },
  {
   "cell_type": "markdown",
   "metadata": {},
   "source": [
    "On a ici le signe des indices internationaux quand les rendements du Dow Jones sont négatifs. On remarque très clairement que les rendements des autres indices ont tendance à être d'avantages négatifs que positifs. Exception encore une fois pour le SSE_Composite, attention cependant, même si les rendements sont clairement plus positifs, cela n'indique pas nécessairement une corrélation négative, étant donné que la proportion générale des rendements positifs est plus importante que les négatifs pour cet indice."
   ]
  },
  {
   "cell_type": "code",
   "execution_count": 17,
   "metadata": {},
   "outputs": [
    {
     "data": {
      "image/png": "[encoded data removed]",
      "text/plain": [
       "<Figure size 1440x720 with 1 Axes>"
      ]
     },
     "metadata": {
      "needs_background": "light"
     },
     "output_type": "display_data"
    }
   ],
   "source": [
    "plt.figure(figsize=(20, 10))\n",
    "ax=sns.countplot(data= all_df_classif[all_df_classif[\"Returns_DJ_positive\"] == 1], x = \"Returns_name\",hue=\"Returns_value\")\n",
    "leg_handles = ax.get_legend_handles_labels()[0]\n",
    "ax.legend(leg_handles, [\"négatifs\", \"positifs\"], title='Rendements bourses inter')\n",
    "ax.set_title(\"Rendements des bourses lorsque les rendements futurs du Dow Jones sont positifs\", fontsize=20)\n",
    "plt.show()"
   ]
  },
  {
   "cell_type": "markdown",
   "metadata": {},
   "source": [
    "Lorsque cette fois on regarde la répartition quand les rendements du Dow Jones sont positifs, on observe une tendance inverse, à part pour le SSE_Composite dont les proportions sont globalement équivalentes au graphe précédent. La corrélation la plus claire revient au FTSE100 pour lequel pratiquement 2/3 des rendements sont positifs lorsque les futurs rendements du Dow Jones le sont également."
   ]
  },
  {
   "cell_type": "markdown",
   "metadata": {},
   "source": [
    "# Prédictions <a class=\"anchor\" id=\"3\"></a>"
   ]
  },
  {
   "cell_type": "markdown",
   "metadata": {},
   "source": [
    "## Choix des variables <a class=\"anchor\" id=\"31\"></a>"
   ]
  },
  {
   "cell_type": "markdown",
   "metadata": {},
   "source": [
    "### Description des 3 méthodes de sélections de variables <a class=\"anchor\" id=\"311\"></a>"
   ]
  },
  {
   "cell_type": "markdown",
   "metadata": {},
   "source": [
    "En machine learning on distingue souvent les méthodes de sélection de variables en 3 catégories :\n",
    "\n",
    "* Filter method: on opère directement sur le jeu de données à l'aide d'une certaine mesure que l'on doit spécifier, on obtient une pondération, un classement ou un ensemble de variables en sortie.\n",
    "\n",
    "\n",
    "* Wrapper method: on effectue une recherche dans l’espace des sous-ensembles de variables, guidée par le résultat du modèle, par exemple les performances en validation croisée sur les données d’apprentissage. Le temps de calcul est de fait plus important que les méthodes de filtre.\n",
    "\n",
    "\n",
    "* Embedded method: on sélectionne les variables à partir des méthodes de sélection de features intégrées aux algrithmes (ce qui n'existe pas toujours en fonction des modèles).\n",
    "\n",
    "Dans cette partie, on va donc tenter de choisir au mieux les variables pertinentes en utilisant plusieurs types de méthodes."
   ]
  },
  {
   "cell_type": "markdown",
   "metadata": {},
   "source": [
    "### Filter method : Pearson Correlation <a class=\"anchor\" id=\"312\"></a>"
   ]
  },
  {
   "cell_type": "code",
   "execution_count": 1,
   "metadata": {
    "scrolled": true
   },
   "outputs": [
    {
     "ename": "NameError",
     "evalue": "name 'data_train' is not defined",
     "output_type": "error",
     "traceback": [
      "\u001b[1;31m---------------------------------------------------------------------------\u001b[0m",
      "\u001b[1;31mNameError\u001b[0m                                 Traceback (most recent call last)",
      "\u001b[1;32m<ipython-input-1-8ec938916354>\u001b[0m in \u001b[0;36m<module>\u001b[1;34m\u001b[0m\n\u001b[1;32m----> 1\u001b[1;33m \u001b[0mcorrMatrix\u001b[0m \u001b[1;33m=\u001b[0m \u001b[0mdata_train\u001b[0m\u001b[1;33m[\u001b[0m\u001b[0mVar\u001b[0m\u001b[1;33m]\u001b[0m\u001b[1;33m.\u001b[0m\u001b[0mcorr\u001b[0m\u001b[1;33m(\u001b[0m\u001b[1;33m)\u001b[0m\u001b[1;33m\u001b[0m\u001b[1;33m\u001b[0m\u001b[0m\n\u001b[0m\u001b[0;32m      2\u001b[0m \u001b[0mplt\u001b[0m\u001b[1;33m.\u001b[0m\u001b[0mfigure\u001b[0m\u001b[1;33m(\u001b[0m\u001b[0mfigsize\u001b[0m\u001b[1;33m=\u001b[0m\u001b[1;33m(\u001b[0m\u001b[1;36m10\u001b[0m\u001b[1;33m,\u001b[0m \u001b[1;36m10\u001b[0m\u001b[1;33m)\u001b[0m\u001b[1;33m)\u001b[0m   \u001b[1;31m#Pour régler la taille de notre matrice de corrélation\u001b[0m\u001b[1;33m\u001b[0m\u001b[1;33m\u001b[0m\u001b[0m\n\u001b[0;32m      3\u001b[0m \u001b[0max\u001b[0m \u001b[1;33m=\u001b[0m \u001b[0msns\u001b[0m\u001b[1;33m.\u001b[0m\u001b[0mheatmap\u001b[0m\u001b[1;33m(\u001b[0m\u001b[0mcorrMatrix\u001b[0m\u001b[1;33m,\u001b[0m \u001b[0mannot\u001b[0m\u001b[1;33m=\u001b[0m\u001b[1;32mTrue\u001b[0m\u001b[1;33m,\u001b[0m\u001b[0mcmap\u001b[0m\u001b[1;33m=\u001b[0m\u001b[1;34m'BuGn'\u001b[0m\u001b[1;33m,\u001b[0m\u001b[0mfmt\u001b[0m \u001b[1;33m=\u001b[0m \u001b[1;34m'.1%'\u001b[0m\u001b[1;33m,\u001b[0m \u001b[0msquare\u001b[0m\u001b[1;33m=\u001b[0m\u001b[1;36m1\u001b[0m\u001b[1;33m,\u001b[0m \u001b[0mlinewidth\u001b[0m\u001b[1;33m=\u001b[0m\u001b[1;36m1.0\u001b[0m\u001b[1;33m)\u001b[0m   \u001b[1;31m#On ajoute des params pour mettre en pourcentage (plus lisible)\u001b[0m\u001b[1;33m\u001b[0m\u001b[1;33m\u001b[0m\u001b[0m\n\u001b[0;32m      4\u001b[0m \u001b[0mbottom\u001b[0m\u001b[1;33m,\u001b[0m \u001b[0mtop\u001b[0m \u001b[1;33m=\u001b[0m \u001b[0max\u001b[0m\u001b[1;33m.\u001b[0m\u001b[0mget_ylim\u001b[0m\u001b[1;33m(\u001b[0m\u001b[1;33m)\u001b[0m          \u001b[1;31m#Pour régler le problème de matplotlib 3.1.1 qui coupe la matrice de corrélation\u001b[0m\u001b[1;33m\u001b[0m\u001b[1;33m\u001b[0m\u001b[0m\n\u001b[0;32m      5\u001b[0m \u001b[0max\u001b[0m\u001b[1;33m.\u001b[0m\u001b[0mset_ylim\u001b[0m\u001b[1;33m(\u001b[0m\u001b[0mbottom\u001b[0m \u001b[1;33m+\u001b[0m\u001b[1;36m0.5\u001b[0m\u001b[1;33m,\u001b[0m \u001b[0mtop\u001b[0m\u001b[1;33m-\u001b[0m\u001b[1;36m0.5\u001b[0m\u001b[1;33m)\u001b[0m\u001b[1;33m\u001b[0m\u001b[1;33m\u001b[0m\u001b[0m\n",
      "\u001b[1;31mNameError\u001b[0m: name 'data_train' is not defined"
     ]
    }
   ],
   "source": [
    "corrMatrix = data_train[Var].corr()\n",
    "plt.figure(figsize=(10, 10))   #Pour régler la taille de notre matrice de corrélation\n",
    "ax = sns.heatmap(corrMatrix, annot=True,cmap='BuGn',fmt = '.1%', square=1, linewidth=1.0)   #On ajoute des params pour mettre en pourcentage (plus lisible)\n",
    "bottom, top = ax.get_ylim()          #Pour régler le problème de matplotlib 3.1.1 qui coupe la matrice de corrélation\n",
    "ax.set_ylim(bottom +0.5, top-0.5)\n",
    "plt.show()\n"
   ]
  },
  {
   "cell_type": "markdown",
   "metadata": {},
   "source": [
    "Le coefficient de Pearson, aussi appelé coefficient de corrélation linéaire, évalue la relation linéaire entre deux variables. On calcule le coefficient de Pearson entre une variable X et Y de la manière suivante :\n",
    "\n",
    "$\\rho = \\frac{\\text{cov}(X,Y)}{\\sigma_x \\sigma_y}$\n",
    "\n",
    "Le coefficient est compris entre -1 et 1. Plus le coefficient est proche de 1, plus la relation linéaire positive entre les variables est forte et plus il est proche de -1 plus la relation linéaire négative est forte. Un coefficient proche de 0 indiquant une relation linéaire faible. On l'exprime ici en pourcentages pour plus de lisibilité.\n",
    "\n",
    "A partir de ce coefficient on peut effectuer un classement qui va de la variable la plus corrélée linéairement aux rendements du Dow Jones à la variable la moins corrélée :\n",
    "\n",
    "1. FTSE100 avec un coefficient de 0.336\n",
    "2. CAC40 avec un coefficient de 0.286\n",
    "3. DAX avec un coefficient de 0.259\n",
    "4. N225 avec un coefficient de 0.180\n",
    "5. SSE_Composite avec un coefficient de 0.092\n",
    "\n",
    "Il est également intéressant de remarquer la forte corrélation entre les indices européens, avec une corrélation atteignant presque les 80% entre le DAX et le CAC. La présence de variables trop fortement corrélées entres elles dans les modèles peut être contre-productif, il est donc important de considérer d'autres méthodes de sélection de variables."
   ]
  },
  {
   "cell_type": "markdown",
   "metadata": {},
   "source": [
    "### Filter method : test ANOVA <a class=\"anchor\" id=\"313\"></a>"
   ]
  },
  {
   "cell_type": "markdown",
   "metadata": {},
   "source": [
    "Le test ANOVA permet de mesurer la dépendance entre une variable quantitative et une variable qualitative. Dans notre cas, on mesure donc la dépendance entre les rendements des bourses non-américaines avec la variable qualitative Returns_DJ_positive qui nous retourne 1 si les rendements sont positifs et 0 si ils sont négatifs.\n",
    "\n",
    "L'idée du test est de vérifier si la moyenne de la variable quantitative est homogène sur l'ensemble des modalités de la variable qualitative.\n",
    "\n",
    "Le test nous retourne la statistique F de Fisher nous permettant de déterminer si on peut rejeter l'hypothèse H0 d'égalité des moyennes."
   ]
  },
  {
   "cell_type": "code",
   "execution_count": 19,
   "metadata": {},
   "outputs": [
    {
     "data": {
      "text/plain": [
       "(array([  6.5263368 ,  29.44349794,  79.81072607,  67.27352493,\n",
       "        100.62777359]),\n",
       " array([1.07263660e-02, 6.69824893e-08, 1.17254616e-18, 5.00502619e-16,\n",
       "        5.72064826e-23]))"
      ]
     },
     "execution_count": 19,
     "metadata": {},
     "output_type": "execute_result"
    }
   ],
   "source": [
    "from sklearn.feature_selection import f_classif\n",
    "\n",
    "f_classif(X_train, y_trainClassif)"
   ]
  },
  {
   "cell_type": "markdown",
   "metadata": {},
   "source": [
    "L'ensemble des p-values sont inférieurs à 0.05 nous permettent de rejeter l'hypothèse d'égalité des moyennes pour l'ensemble des variables quantitatives. On peut tout de même noter le classement qui se dégage, de la variable la plus dépendante, à la moins dépendante selon la statistique de test : \n",
    "1. FTSE100\n",
    "2. CAC40\n",
    "3. DAX\n",
    "4. N225\n",
    "5. SSE_Composite"
   ]
  },
  {
   "cell_type": "code",
   "execution_count": 20,
   "metadata": {},
   "outputs": [
    {
     "data": {
      "text/plain": [
       "['Returns_SSE_Composite',\n",
       " 'Returns_N225',\n",
       " 'Returns_9_15_CAC40',\n",
       " 'Returns_9_15_DAX',\n",
       " 'Returns_9_15_FTSE100']"
      ]
     },
     "execution_count": 20,
     "metadata": {},
     "output_type": "execute_result"
    }
   ],
   "source": [
    "list(X_train.columns)"
   ]
  },
  {
   "cell_type": "markdown",
   "metadata": {},
   "source": [
    "Pour savoir à quel indice correspond chaque coeffcient voici pour rappel l'ordre dans lequel sont affichés les résultats pour chaque vecteur."
   ]
  },
  {
   "cell_type": "markdown",
   "metadata": {},
   "source": [
    "### Wrapper method : Recursive Feature Elimination (RFE) <a class=\"anchor\" id=\"314\"></a>"
   ]
  },
  {
   "cell_type": "markdown",
   "metadata": {},
   "source": [
    "Description du fonctionnement de l'algorithme RFECV - Recursive Feature Elimination Cross Validation :\n",
    "\n",
    "1- On détermine le nombre de variables minimum à sélectionner (params : min_features_to_select) ainsi que le nombre de variables à supprimer à chaque itération (params : step). Pour simplifier l'explication, on va considérer que step = 1.\n",
    "\n",
    "\n",
    "2- On calcule le score de cross-validation de notre modèle avec l'ensemble de nos variables.\n",
    "\n",
    "\n",
    "3- On enlève la variable la moins importante (l'importance étant déterminé par l'attribut .coef_ ou .feature_importances_ du modèle).\n",
    "\n",
    "\n",
    "4- On réitère les étapes 2 et 3 en recalculant le score de cross-validation sans la variable que l'on vient d'enlever puis on enlève la prochaine variable la moins importante.\n",
    "\n",
    "\n",
    "5- On s'arrête une fois que l'on atteint le nombre minimum de variables à sélectionner\n",
    "\n",
    "\n",
    "6- On sélectionne pour finir le sous-ensemble de variables donnant le meilleur score de cross-validation\n",
    "\n",
    "\n",
    "Remarque : cette algorithme ne marche pas avec tous les modèles étant donné que certains d'entre eux ne possède ni d'attributs .coef_ ni d'attributs .feature_importances_ (modèle KNN par exemple)"
   ]
  },
  {
   "cell_type": "markdown",
   "metadata": {},
   "source": [
    "#### RFECV avec modèle linéaire <a class=\"anchor\" id=\"3141\"></a>"
   ]
  },
  {
   "cell_type": "code",
   "execution_count": 22,
   "metadata": {},
   "outputs": [
    {
     "data": {
      "text/plain": [
       "array([0.02481282, 0.08727084, 0.11140483, 0.08328022, 0.20156368])"
      ]
     },
     "execution_count": 22,
     "metadata": {},
     "output_type": "execute_result"
    }
   ],
   "source": [
    "from sklearn.linear_model import LinearRegression\n",
    "model = LinearRegression()\n",
    "model.fit(X_train, y_trainReg)\n",
    "\n",
    "model.coef_"
   ]
  },
  {
   "cell_type": "markdown",
   "metadata": {},
   "source": [
    "Pour le modèle linéaire par exemple, le plus petit coefficient $\\beta$ est celui du SSE_Composite, c'est donc celui-ci qui sera supprimé en premier dans l'algorithme. (A noter que pour connaître la 2ème variable qui sera supprimée il faut recalculer les coefs du modèle sans le SSE_Composite)"
   ]
  },
  {
   "cell_type": "code",
   "execution_count": 23,
   "metadata": {},
   "outputs": [
    {
     "data": {
      "text/plain": [
       "array([2, 1, 1, 1, 1])"
      ]
     },
     "execution_count": 23,
     "metadata": {},
     "output_type": "execute_result"
    }
   ],
   "source": [
    "from sklearn.feature_selection import RFECV\n",
    "from sklearn.svm import SVR\n",
    "\n",
    "selector = RFECV(LinearRegression(), \n",
    "                 step = 1, \n",
    "                 min_features_to_select =1, \n",
    "                 cv=5)\n",
    "\n",
    "\n",
    "selector.fit(X_train, y_trainReg)\n",
    "selector.ranking_"
   ]
  },
  {
   "cell_type": "code",
   "execution_count": 24,
   "metadata": {},
   "outputs": [
    {
     "data": {
      "text/plain": [
       "array([0.04132099, 0.08059919, 0.08031923, 0.09179793, 0.08916126])"
      ]
     },
     "execution_count": 24,
     "metadata": {},
     "output_type": "execute_result"
    }
   ],
   "source": [
    "selector.grid_scores_"
   ]
  },
  {
   "cell_type": "markdown",
   "metadata": {},
   "source": [
    "Pour le modèle conservant toutes les variables, on trouve un R2 de 8,92% (**dernière** position du vecteur). Lorsqu'on enlève la variable la moins pertinente, on obtient sur le nouveau modèle un score de 9,18%, il s'agit de la variable étant en dernière position dans le vecteur ranking (position 2), soit Returns_SSE_Composite. Lorsqu'on retire d'autres variables, les R2 sont plus faibles. Ainsi le ranking de toutes les autres variables est de 1.\n",
    "\n",
    "Selon le RFE sur la régression linéaire on devrait donc retirer le SSE_Composite vu que le R2 obtenu est meilleur quand on enlève cette variable. Mais qu'il s'empire lorsque l'on en retire d'autres."
   ]
  },
  {
   "cell_type": "markdown",
   "metadata": {},
   "source": [
    "#### RFECV avec régression logistique Lasso <a class=\"anchor\" id=\"3142\"></a>"
   ]
  },
  {
   "cell_type": "markdown",
   "metadata": {},
   "source": [
    "La régression logistique est similaire à la régression linéaire pour des problèmes de classification binaire, on reviendra dessus plus en détail dans les prédictions de la prochaine partie."
   ]
  },
  {
   "cell_type": "markdown",
   "metadata": {},
   "source": [
    "On commence par sélectionner les meilleurs paramètres de notre modèle avec la fonction GridSearchCV (on reviendra dessus plus en détail un peu plus tard dans l'analyse) puis applique la méthode RFECV sur notre régression logistique."
   ]
  },
  {
   "cell_type": "markdown",
   "metadata": {},
   "source": [
    "Avant de faire notre sélection de variable grâce à une régression logistique LASSO (norme 1), commençons par déterminer le paramètre de pénalisation C=1/λ optimal"
   ]
  },
  {
   "cell_type": "code",
   "execution_count": 25,
   "metadata": {},
   "outputs": [
    {
     "data": {
      "text/plain": [
       "{'C': 10.0}"
      ]
     },
     "execution_count": 25,
     "metadata": {},
     "output_type": "execute_result"
    }
   ],
   "source": [
    "from sklearn.feature_selection import RFECV\n",
    "from sklearn.linear_model import LogisticRegression\n",
    "from sklearn.model_selection import GridSearchCV\n",
    "\n",
    "\n",
    "param_grid = {\"C\": np.logspace(-3, 3, num=7)}\n",
    "\n",
    "grid = GridSearchCV(LogisticRegression( penalty='l1', solver='liblinear', random_state=0), param_grid, cv=5)\n",
    "grid.fit(X_train, y_trainClassif)\n",
    "grid.best_params_"
   ]
  },
  {
   "cell_type": "code",
   "execution_count": 26,
   "metadata": {},
   "outputs": [
    {
     "data": {
      "text/plain": [
       "array([[ 3.75475569, 19.26476432, 23.53601142, 19.31216718, 39.79685969]])"
      ]
     },
     "execution_count": 26,
     "metadata": {},
     "output_type": "execute_result"
    }
   ],
   "source": [
    "model = LogisticRegression(C=grid.best_params_[\"C\"], penalty='l1', solver='liblinear')\n",
    "model.fit(X_train, y_trainClassif)\n",
    "model.coef_"
   ]
  },
  {
   "cell_type": "markdown",
   "metadata": {},
   "source": [
    "SSE_Composite possède le coefficient plus faible, il sera donc retiré en premier de l'algorithme\n"
   ]
  },
  {
   "cell_type": "code",
   "execution_count": 27,
   "metadata": {},
   "outputs": [
    {
     "data": {
      "text/plain": [
       "array([2, 1, 1, 1, 1])"
      ]
     },
     "execution_count": 27,
     "metadata": {},
     "output_type": "execute_result"
    }
   ],
   "source": [
    "selector = RFECV(LogisticRegression(C=grid.best_params_[\"C\"], penalty='l1', solver='liblinear'), \n",
    "                 step = 1, \n",
    "                 min_features_to_select =1, \n",
    "                 cv=5)\n",
    "\n",
    "selector.fit(X_train, y_trainClassif)\n",
    "selector.ranking_"
   ]
  },
  {
   "cell_type": "code",
   "execution_count": 28,
   "metadata": {},
   "outputs": [
    {
     "data": {
      "text/plain": [
       "array([0.61258278, 0.62317881, 0.62384106, 0.63377483, 0.62781457])"
      ]
     },
     "execution_count": 28,
     "metadata": {},
     "output_type": "execute_result"
    }
   ],
   "source": [
    "selector.grid_scores_"
   ]
  },
  {
   "cell_type": "markdown",
   "metadata": {},
   "source": [
    "Avec un modèle conservant l'ensemble des variables on obtient un score de précision de 62.8%, en enlevant la variable avec le coefficient le plus faible (SSE_Composite), on obtient un meilleur score de l'ordre de 63.4%. En retirant d'autres variables les scores de précisions sont moins bons.\n",
    "\n",
    "Rappel concernant le score d'accuracy :\n",
    "\n",
    "$Accuracy~score = \\frac{Nombre~de~prédictions~correctes}{Nombre~total~de~prédictions} = \\frac{VP + VN}{VP + VN + FP + FN}$"
   ]
  },
  {
   "cell_type": "markdown",
   "metadata": {},
   "source": [
    "Selon le RFECV sur la régression logistique avec pénalisation Lasso, on doit retirer uniquement la variable SSE_Composite"
   ]
  },
  {
   "cell_type": "markdown",
   "metadata": {},
   "source": [
    "## Embedded method : Select From Model <a class=\"anchor\" id=\"315\"></a>"
   ]
  },
  {
   "cell_type": "markdown",
   "metadata": {},
   "source": [
    "La méthode Select From Model consiste à sélectionner les variables directement à partir des coefficients du modèle. C'est donc encore une fois une technique qui doit faire appelle à un estimateur qui développe soit des coefficients (ex : modèle linéaire), soit qui calcule l'importance des variables pendant leur création (ex : random forest).\n",
    "\n",
    "Description des étapes de l'algorithme en détail :\n",
    "\n",
    "1- On calcule les coefficients\n",
    "\n",
    "\n",
    "2- On définit l'importance en faisant la norme 1 des lignes de la matrice de transformation (i.e  importances = np.linalg.norm(selector.estimator_.coef_, axis=0, ord=1) ). Dans le cas ou les labels \"y\" sont des réels, il s'agit simplement de faire la valeur absolue des coefficients de chaque features.\n",
    "\n",
    "\n",
    "3- On calcule la moyenne du vecteur norme : mean = np.mean(importances) (on peut choisir un autre indicateur que le mean en modifiant le threshold)\n",
    "\n",
    "\n",
    "4- Si importances > mean alors la variable est sélectionnée"
   ]
  },
  {
   "cell_type": "markdown",
   "metadata": {},
   "source": [
    "#### Select From Model avec régression logistique Lasso <a class=\"anchor\" id=\"3151\"></a>"
   ]
  },
  {
   "cell_type": "code",
   "execution_count": 29,
   "metadata": {},
   "outputs": [
    {
     "data": {
      "text/plain": [
       "array([False, False,  True, False,  True])"
      ]
     },
     "execution_count": 29,
     "metadata": {},
     "output_type": "execute_result"
    }
   ],
   "source": [
    "from sklearn.feature_selection import SelectFromModel\n",
    "from sklearn.ensemble import RandomForestClassifier\n",
    "\n",
    "embeded_lr_selector = SelectFromModel(LogisticRegression(C=grid.best_params_[\"C\"], penalty='l1', solver='liblinear'), threshold='mean')\n",
    "embeded_lr_selector.fit(X_train, y_trainClassif)\n",
    "\n",
    "embeded_lr_selector.get_support()"
   ]
  },
  {
   "cell_type": "markdown",
   "metadata": {},
   "source": [
    "Il faudrait donc garder uniquement le FTSE100 et le CAC40 selon cet algo. On peut le reproduire facilement à la main en suivant les étapes ci-dessus."
   ]
  },
  {
   "cell_type": "code",
   "execution_count": 30,
   "metadata": {},
   "outputs": [
    {
     "data": {
      "text/plain": [
       "array([ 3.74594522, 19.25873972, 23.21498771, 19.61132064, 39.86137682])"
      ]
     },
     "execution_count": 30,
     "metadata": {},
     "output_type": "execute_result"
    }
   ],
   "source": [
    "importances = np.linalg.norm(embeded_lr_selector.estimator_.coef_, axis=0, ord=1)\n",
    "importances"
   ]
  },
  {
   "cell_type": "code",
   "execution_count": 31,
   "metadata": {},
   "outputs": [],
   "source": [
    "mean = np.mean(embeded_lr_selector.estimator_.coef_)"
   ]
  },
  {
   "cell_type": "code",
   "execution_count": 32,
   "metadata": {},
   "outputs": [
    {
     "data": {
      "text/plain": [
       "array([False, False,  True, False,  True])"
      ]
     },
     "execution_count": 32,
     "metadata": {},
     "output_type": "execute_result"
    }
   ],
   "source": [
    "importances > mean"
   ]
  },
  {
   "cell_type": "markdown",
   "metadata": {},
   "source": [
    "On retrouve bien les mêmes résultats que l'algorithme en le faisant à la main. "
   ]
  },
  {
   "cell_type": "markdown",
   "metadata": {},
   "source": [
    "Selon la régression logistique Lasso, les variables les plus pertinentes sont dans l'ordre :\n",
    "\n",
    "1. FTSE100\n",
    "2. CAC40\n",
    "3. DAX\n",
    "4. N225\n",
    "5. SSE_Composite"
   ]
  },
  {
   "cell_type": "markdown",
   "metadata": {},
   "source": [
    "#### Select from model avec Random Forest et l'OOB ERROR <a class=\"anchor\" id=\"3152\"></a>"
   ]
  },
  {
   "cell_type": "code",
   "execution_count": 34,
   "metadata": {},
   "outputs": [
    {
     "data": {
      "text/plain": [
       "array([False,  True, False, False,  True])"
      ]
     },
     "execution_count": 34,
     "metadata": {},
     "output_type": "execute_result"
    }
   ],
   "source": [
    "from sklearn.ensemble import RandomForestClassifier\n",
    "\n",
    "m = RandomForestClassifier(n_estimators=500, random_state=0, oob_score=True)\n",
    "m.fit(X_train, y_trainClassif)\n",
    "\n",
    "RF_selector = SelectFromModel(m, max_features=5)\n",
    "RF_selector.fit(X_train, y_trainClassif)\n",
    "\n",
    "RF_selector.get_support()"
   ]
  },
  {
   "cell_type": "markdown",
   "metadata": {},
   "source": [
    "Selon cet algorithme il faudrait conserver uniquement les rendements du N225 et du FTSE100. On peut s'intéresser au classement de chaque variable selon l'OOB error :"
   ]
  },
  {
   "cell_type": "code",
   "execution_count": 35,
   "metadata": {},
   "outputs": [
    {
     "data": {
      "text/html": [
       "<div>\n",
       "<style scoped>\n",
       "    .dataframe tbody tr th:only-of-type {\n",
       "        vertical-align: middle;\n",
       "    }\n",
       "\n",
       "    .dataframe tbody tr th {\n",
       "        vertical-align: top;\n",
       "    }\n",
       "\n",
       "    .dataframe thead th {\n",
       "        text-align: right;\n",
       "    }\n",
       "</style>\n",
       "<table border=\"1\" class=\"dataframe\">\n",
       "  <thead>\n",
       "    <tr style=\"text-align: right;\">\n",
       "      <th></th>\n",
       "      <th>cols</th>\n",
       "      <th>imp</th>\n",
       "    </tr>\n",
       "  </thead>\n",
       "  <tbody>\n",
       "    <tr>\n",
       "      <th>4</th>\n",
       "      <td>Returns_9_15_FTSE100</td>\n",
       "      <td>0.222950</td>\n",
       "    </tr>\n",
       "    <tr>\n",
       "      <th>1</th>\n",
       "      <td>Returns_N225</td>\n",
       "      <td>0.203064</td>\n",
       "    </tr>\n",
       "    <tr>\n",
       "      <th>2</th>\n",
       "      <td>Returns_9_15_CAC40</td>\n",
       "      <td>0.199791</td>\n",
       "    </tr>\n",
       "    <tr>\n",
       "      <th>3</th>\n",
       "      <td>Returns_9_15_DAX</td>\n",
       "      <td>0.190089</td>\n",
       "    </tr>\n",
       "    <tr>\n",
       "      <th>0</th>\n",
       "      <td>Returns_SSE_Composite</td>\n",
       "      <td>0.184107</td>\n",
       "    </tr>\n",
       "  </tbody>\n",
       "</table>\n",
       "</div>"
      ],
      "text/plain": [
       "                    cols       imp\n",
       "4   Returns_9_15_FTSE100  0.222950\n",
       "1           Returns_N225  0.203064\n",
       "2     Returns_9_15_CAC40  0.199791\n",
       "3       Returns_9_15_DAX  0.190089\n",
       "0  Returns_SSE_Composite  0.184107"
      ]
     },
     "execution_count": 35,
     "metadata": {},
     "output_type": "execute_result"
    }
   ],
   "source": [
    "\n",
    "\n",
    "def rf_feat_importance(m, df):\n",
    "    return pd.DataFrame({'cols':df.columns, 'imp':m.feature_importances_}\n",
    "                       ).sort_values('imp', ascending=False)\n",
    "fi = rf_feat_importance(m, X_train)\n",
    "fi"
   ]
  },
  {
   "cell_type": "markdown",
   "metadata": {},
   "source": [
    "Si on décide de se baser sur l'erreur OOB donnée par Random Forest et qu'on décide par exemple de conserver 4 variables il faudrait retirer les rendements du SSE_Composite."
   ]
  },
  {
   "cell_type": "markdown",
   "metadata": {},
   "source": [
    "### Choix final <a class=\"anchor\" id=\"316\"></a>"
   ]
  },
  {
   "cell_type": "markdown",
   "metadata": {},
   "source": [
    "A partir de l'ensemble des méthodes ci-dessus nous avons décidé de retirer uniquement la variable Returns_SSE_Composite, pour les raisons suivantes : \n",
    "\n",
    "* C'est la variable la moins dépendante des rendements du Dow Jones selon la corrélation linéaire de Pearson\n",
    "* C'est la variable la moins dépendante des rendements du Dow Jones selon le test ANOVA\n",
    "\n",
    "\n",
    "* La variable empire le R2 de la régression linéaire lorsqu'on l'ajoute\n",
    "* La variable empire le score de précision de la régression logistique avec pénalisation Lasso lorsqu'on l'ajoute\n",
    "* En enlevant d'autres variables supplémentaires les scores empirent\n",
    "\n",
    "\n",
    "* La variable possède la plus faible importance selon les coefficients de la régression logistique\n",
    "* La variable possède la plus faible importance selon l'importance donnée par l'erreur OOB"
   ]
  },
  {
   "cell_type": "code",
   "execution_count": 36,
   "metadata": {},
   "outputs": [],
   "source": [
    "VarExpli = [\"Returns_9_15_FTSE100\", \"Returns_9_15_CAC40\", \"Returns_N225\", \"Returns_9_15_DAX\"]\n",
    "X_trainOpti = data_train[VarExpli]\n",
    "X_testOpti = data_test[VarExpli]"
   ]
  },
  {
   "cell_type": "markdown",
   "metadata": {},
   "source": [
    "## Classification <a class=\"anchor\" id=\"32\"></a>"
   ]
  },
  {
   "cell_type": "code",
   "execution_count": 37,
   "metadata": {},
   "outputs": [],
   "source": [
    "# Préparation du tableau récapitulatif final\n",
    "\n",
    "Number_models = 10\n",
    "Total_models = {}\n",
    "Total_best_params =  {}\n",
    "Total_val_score = {}\n",
    "Total_test_score = {}\n",
    "Total_puissance_val_score = {}\n",
    "Total_puissance_test_score = {}"
   ]
  },
  {
   "cell_type": "markdown",
   "metadata": {},
   "source": [
    "### 1er modèle : CART <a class=\"anchor\" id=\"321\"></a>"
   ]
  },
  {
   "cell_type": "markdown",
   "metadata": {},
   "source": [
    "Le modèle CART (Classification And Regression Trees) permet de faire de la prédiction à partir d'un arbre de décision que l'on construit à partir de nos observations. La construction d'un arbre se fait en 3 étapes :\n",
    "\n",
    "1. Construction de l'arbre maximal\n",
    "\n",
    "2. Elagage\n",
    "\n",
    "3. Sélection finale\n",
    "\n",
    "Les divisions de l'abre se font à partir de questions binaires de la forme $X\\leq a~?$ . L'idée pour choisir ces divisions et de toutes les tester et de retenir la meilleure selon un critère. Ce critère il s'agit de l'information gain. On veut donc trouver la meilleure combinaison (variable, seuil) qui maximine l'Information Gain IG(j,t) avec j représentant la variable $X_j$ et t le seuil.\n",
    "\n",
    "Dans le cadre de la classification, il nous faut d'abord introduire les notions d'indices de Gini ou d'indices d'Entropy, ainsi que les notations dont nous aurons besoin :\n",
    "\n",
    "On considère un noeud N, qui n'est rien d'autre qu'un sous ensemble de notre échantillon. De plus introduisons un le noeud gauche $N_L$ ainsi que le noeud droite $N_R$ avec : \n",
    "\n",
    "$N_L(j,t) = \\{x \\in N : x < t\\}$ et $N_R(j,t) = \\{x \\in N : x \\geq t\\}$ \n",
    "\n",
    "De plus on note la distribution de chaque classe avec : $p_N = (p_{N,1},...,p_{N,K})$\n",
    "\n",
    "On peut désormais définir l'indice de Gini G, ainsi que l'indice d'Entropy H :\n",
    "\n",
    "$G(N) = G(p_N) = \\sum_{k=1}^K p_{N,k}(1-p_{N,k}) = 1- \\sum_{k=1}^K p_{N,k}^2$\n",
    "\n",
    "$H(N) = H(p_N) = -\\sum_{k=1}^K p_{N,k}log(p_{N,k})$\n",
    "\n",
    "\n",
    "\n",
    "Lorsqu'un noeud est pure c'est à dire lorsqu'un noeud est entièrement représenté par un certain label $y_i$, alors $p_{N,i}=1$ et dans ce cas les deux indices sont nulles.\n",
    "\n",
    "On définit enfin l'information gain qu'on va chercher à maximiser à chaque split : \n",
    "\n",
    "$IG(j, t) = I(N) - \\frac{|N_L(j,t)|}{|N|}G(N_L(j,t)) - \\frac{|N_R(j,t)|}{|N|}G(N_R(j,t)) $\n",
    "\n",
    "On a pris comme exemple ici l'indice de Gini mais la formule est équivalent pour l'indice d'Entropy.\n"
   ]
  },
  {
   "cell_type": "markdown",
   "metadata": {},
   "source": [
    "#### Exemple d'arbre <a class=\"anchor\" id=\"3211\"></a>"
   ]
  },
  {
   "cell_type": "code",
   "execution_count": 38,
   "metadata": {},
   "outputs": [
    {
     "data": {
      "image/svg+xml": [
       "<?xml version=\"1.0\" encoding=\"UTF-8\" standalone=\"no\"?>\r\n",
       "<!DOCTYPE svg PUBLIC \"-//W3C//DTD SVG 1.1//EN\"\r\n",
       " \"http://www.w3.org/Graphics/SVG/1.1/DTD/svg11.dtd\">\r\n",
       "<!-- Generated by graphviz version 2.38.0 (20140413.2041)\r\n",
       " -->\r\n",
       "<!-- Title: Tree Pages: 1 -->\r\n",
       "<svg width=\"1334pt\" height=\"373pt\"\r\n",
       " viewBox=\"0.00 0.00 1334.00 373.00\" xmlns=\"http://www.w3.org/2000/svg\" xmlns:xlink=\"http://www.w3.org/1999/xlink\">\r\n",
       "<g id=\"graph0\" class=\"graph\" transform=\"scale(1 1) rotate(0) translate(4 369)\">\r\n",
       "<title>Tree</title>\r\n",
       "<polygon fill=\"white\" stroke=\"none\" points=\"-4,4 -4,-369 1330,-369 1330,4 -4,4\"/>\r\n",
       "<!-- 0 -->\r\n",
       "<g id=\"node1\" class=\"node\"><title>0</title>\r\n",
       "<path fill=\"#dfeffb\" stroke=\"black\" d=\"M756.5,-365C756.5,-365 537.5,-365 537.5,-365 531.5,-365 525.5,-359 525.5,-353 525.5,-353 525.5,-309 525.5,-309 525.5,-303 531.5,-297 537.5,-297 537.5,-297 756.5,-297 756.5,-297 762.5,-297 768.5,-303 768.5,-309 768.5,-309 768.5,-353 768.5,-353 768.5,-359 762.5,-365 756.5,-365\"/>\r\n",
       "<text text-anchor=\"middle\" x=\"647\" y=\"-349.8\" font-family=\"Helvetica,sans-Serif\" font-size=\"14.00\">Returns_9_15_FTSE100 &lt;= &#45;0.001</text>\r\n",
       "<text text-anchor=\"middle\" x=\"647\" y=\"-334.8\" font-family=\"Helvetica,sans-Serif\" font-size=\"14.00\">gini = 0.496</text>\r\n",
       "<text text-anchor=\"middle\" x=\"647\" y=\"-319.8\" font-family=\"Helvetica,sans-Serif\" font-size=\"14.00\">samples = 100.0%</text>\r\n",
       "<text text-anchor=\"middle\" x=\"647\" y=\"-304.8\" font-family=\"Helvetica,sans-Serif\" font-size=\"14.00\">value = [0.456, 0.544]</text>\r\n",
       "</g>\r\n",
       "<!-- 1 -->\r\n",
       "<g id=\"node2\" class=\"node\"><title>1</title>\r\n",
       "<path fill=\"#f6d5bd\" stroke=\"black\" d=\"M629.5,-261C629.5,-261 410.5,-261 410.5,-261 404.5,-261 398.5,-255 398.5,-249 398.5,-249 398.5,-205 398.5,-205 398.5,-199 404.5,-193 410.5,-193 410.5,-193 629.5,-193 629.5,-193 635.5,-193 641.5,-199 641.5,-205 641.5,-205 641.5,-249 641.5,-249 641.5,-255 635.5,-261 629.5,-261\"/>\r\n",
       "<text text-anchor=\"middle\" x=\"520\" y=\"-245.8\" font-family=\"Helvetica,sans-Serif\" font-size=\"14.00\">Returns_9_15_FTSE100 &lt;= &#45;0.014</text>\r\n",
       "<text text-anchor=\"middle\" x=\"520\" y=\"-230.8\" font-family=\"Helvetica,sans-Serif\" font-size=\"14.00\">gini = 0.48</text>\r\n",
       "<text text-anchor=\"middle\" x=\"520\" y=\"-215.8\" font-family=\"Helvetica,sans-Serif\" font-size=\"14.00\">samples = 42.5%</text>\r\n",
       "<text text-anchor=\"middle\" x=\"520\" y=\"-200.8\" font-family=\"Helvetica,sans-Serif\" font-size=\"14.00\">value = [0.6, 0.4]</text>\r\n",
       "</g>\r\n",
       "<!-- 0&#45;&gt;1 -->\r\n",
       "<g id=\"edge1\" class=\"edge\"><title>0&#45;&gt;1</title>\r\n",
       "<path fill=\"none\" stroke=\"black\" d=\"M605.767,-296.884C594.122,-287.531 581.333,-277.259 569.266,-267.568\"/>\r\n",
       "<polygon fill=\"black\" stroke=\"black\" points=\"571.449,-264.832 561.461,-261.299 567.066,-270.29 571.449,-264.832\"/>\r\n",
       "<text text-anchor=\"middle\" x=\"564.174\" y=\"-282.452\" font-family=\"Helvetica,sans-Serif\" font-size=\"14.00\">True</text>\r\n",
       "</g>\r\n",
       "<!-- 8 -->\r\n",
       "<g id=\"node9\" class=\"node\"><title>8</title>\r\n",
       "<path fill=\"#a3d2f3\" stroke=\"black\" d=\"M847,-261C847,-261 701,-261 701,-261 695,-261 689,-255 689,-249 689,-249 689,-205 689,-205 689,-199 695,-193 701,-193 701,-193 847,-193 847,-193 853,-193 859,-199 859,-205 859,-205 859,-249 859,-249 859,-255 853,-261 847,-261\"/>\r\n",
       "<text text-anchor=\"middle\" x=\"774\" y=\"-245.8\" font-family=\"Helvetica,sans-Serif\" font-size=\"14.00\">Returns_N225 &lt;= 0.001</text>\r\n",
       "<text text-anchor=\"middle\" x=\"774\" y=\"-230.8\" font-family=\"Helvetica,sans-Serif\" font-size=\"14.00\">gini = 0.454</text>\r\n",
       "<text text-anchor=\"middle\" x=\"774\" y=\"-215.8\" font-family=\"Helvetica,sans-Serif\" font-size=\"14.00\">samples = 57.5%</text>\r\n",
       "<text text-anchor=\"middle\" x=\"774\" y=\"-200.8\" font-family=\"Helvetica,sans-Serif\" font-size=\"14.00\">value = [0.349, 0.651]</text>\r\n",
       "</g>\r\n",
       "<!-- 0&#45;&gt;8 -->\r\n",
       "<g id=\"edge8\" class=\"edge\"><title>0&#45;&gt;8</title>\r\n",
       "<path fill=\"none\" stroke=\"black\" d=\"M688.233,-296.884C699.878,-287.531 712.667,-277.259 724.734,-267.568\"/>\r\n",
       "<polygon fill=\"black\" stroke=\"black\" points=\"726.934,-270.29 732.539,-261.299 722.551,-264.832 726.934,-270.29\"/>\r\n",
       "<text text-anchor=\"middle\" x=\"729.826\" y=\"-282.452\" font-family=\"Helvetica,sans-Serif\" font-size=\"14.00\">False</text>\r\n",
       "</g>\r\n",
       "<!-- 2 -->\r\n",
       "<g id=\"node3\" class=\"node\"><title>2</title>\r\n",
       "<path fill=\"#e99356\" stroke=\"black\" d=\"M333,-157C333,-157 133,-157 133,-157 127,-157 121,-151 121,-145 121,-145 121,-101 121,-101 121,-95 127,-89 133,-89 133,-89 333,-89 333,-89 339,-89 345,-95 345,-101 345,-101 345,-145 345,-145 345,-151 339,-157 333,-157\"/>\r\n",
       "<text text-anchor=\"middle\" x=\"233\" y=\"-141.8\" font-family=\"Helvetica,sans-Serif\" font-size=\"14.00\">Returns_9_15_CAC40 &lt;= 0.008</text>\r\n",
       "<text text-anchor=\"middle\" x=\"233\" y=\"-126.8\" font-family=\"Helvetica,sans-Serif\" font-size=\"14.00\">gini = 0.223</text>\r\n",
       "<text text-anchor=\"middle\" x=\"233\" y=\"-111.8\" font-family=\"Helvetica,sans-Serif\" font-size=\"14.00\">samples = 3.1%</text>\r\n",
       "<text text-anchor=\"middle\" x=\"233\" y=\"-96.8\" font-family=\"Helvetica,sans-Serif\" font-size=\"14.00\">value = [0.872, 0.128]</text>\r\n",
       "</g>\r\n",
       "<!-- 1&#45;&gt;2 -->\r\n",
       "<g id=\"edge2\" class=\"edge\"><title>1&#45;&gt;2</title>\r\n",
       "<path fill=\"none\" stroke=\"black\" d=\"M426.819,-192.884C397.724,-182.543 365.469,-171.079 335.755,-160.519\"/>\r\n",
       "<polygon fill=\"black\" stroke=\"black\" points=\"336.799,-157.176 326.204,-157.125 334.454,-163.772 336.799,-157.176\"/>\r\n",
       "</g>\r\n",
       "<!-- 5 -->\r\n",
       "<g id=\"node6\" class=\"node\"><title>5</title>\r\n",
       "<path fill=\"#f8ddc9\" stroke=\"black\" d=\"M611,-157C611,-157 429,-157 429,-157 423,-157 417,-151 417,-145 417,-145 417,-101 417,-101 417,-95 423,-89 429,-89 429,-89 611,-89 611,-89 617,-89 623,-95 623,-101 623,-101 623,-145 623,-145 623,-151 617,-157 611,-157\"/>\r\n",
       "<text text-anchor=\"middle\" x=\"520\" y=\"-141.8\" font-family=\"Helvetica,sans-Serif\" font-size=\"14.00\">Returns_9_15_DAX &lt;= 0.011</text>\r\n",
       "<text text-anchor=\"middle\" x=\"520\" y=\"-126.8\" font-family=\"Helvetica,sans-Serif\" font-size=\"14.00\">gini = 0.488</text>\r\n",
       "<text text-anchor=\"middle\" x=\"520\" y=\"-111.8\" font-family=\"Helvetica,sans-Serif\" font-size=\"14.00\">samples = 39.4%</text>\r\n",
       "<text text-anchor=\"middle\" x=\"520\" y=\"-96.8\" font-family=\"Helvetica,sans-Serif\" font-size=\"14.00\">value = [0.578, 0.422]</text>\r\n",
       "</g>\r\n",
       "<!-- 1&#45;&gt;5 -->\r\n",
       "<g id=\"edge5\" class=\"edge\"><title>1&#45;&gt;5</title>\r\n",
       "<path fill=\"none\" stroke=\"black\" d=\"M520,-192.884C520,-184.778 520,-175.982 520,-167.472\"/>\r\n",
       "<polygon fill=\"black\" stroke=\"black\" points=\"523.5,-167.299 520,-157.299 516.5,-167.299 523.5,-167.299\"/>\r\n",
       "</g>\r\n",
       "<!-- 3 -->\r\n",
       "<g id=\"node4\" class=\"node\"><title>3</title>\r\n",
       "<path fill=\"#e89051\" stroke=\"black\" d=\"M142,-53C142,-53 12,-53 12,-53 6,-53 0,-47 0,-41 0,-41 0,-12 0,-12 0,-6 6,-0 12,-0 12,-0 142,-0 142,-0 148,-0 154,-6 154,-12 154,-12 154,-41 154,-41 154,-47 148,-53 142,-53\"/>\r\n",
       "<text text-anchor=\"middle\" x=\"77\" y=\"-37.8\" font-family=\"Helvetica,sans-Serif\" font-size=\"14.00\">gini = 0.194</text>\r\n",
       "<text text-anchor=\"middle\" x=\"77\" y=\"-22.8\" font-family=\"Helvetica,sans-Serif\" font-size=\"14.00\">samples = 3.0%</text>\r\n",
       "<text text-anchor=\"middle\" x=\"77\" y=\"-7.8\" font-family=\"Helvetica,sans-Serif\" font-size=\"14.00\">value = [0.891, 0.109]</text>\r\n",
       "</g>\r\n",
       "<!-- 2&#45;&gt;3 -->\r\n",
       "<g id=\"edge3\" class=\"edge\"><title>2&#45;&gt;3</title>\r\n",
       "<path fill=\"none\" stroke=\"black\" d=\"M178.439,-88.9485C162.129,-79.0686 144.312,-68.2758 128.225,-58.5305\"/>\r\n",
       "<polygon fill=\"black\" stroke=\"black\" points=\"129.853,-55.4244 119.486,-53.2367 126.226,-61.4115 129.853,-55.4244\"/>\r\n",
       "</g>\r\n",
       "<!-- 4 -->\r\n",
       "<g id=\"node5\" class=\"node\"><title>4</title>\r\n",
       "<path fill=\"#399de5\" stroke=\"black\" d=\"M281.5,-53C281.5,-53 184.5,-53 184.5,-53 178.5,-53 172.5,-47 172.5,-41 172.5,-41 172.5,-12 172.5,-12 172.5,-6 178.5,-0 184.5,-0 184.5,-0 281.5,-0 281.5,-0 287.5,-0 293.5,-6 293.5,-12 293.5,-12 293.5,-41 293.5,-41 293.5,-47 287.5,-53 281.5,-53\"/>\r\n",
       "<text text-anchor=\"middle\" x=\"233\" y=\"-37.8\" font-family=\"Helvetica,sans-Serif\" font-size=\"14.00\">gini = 0.0</text>\r\n",
       "<text text-anchor=\"middle\" x=\"233\" y=\"-22.8\" font-family=\"Helvetica,sans-Serif\" font-size=\"14.00\">samples = 0.1%</text>\r\n",
       "<text text-anchor=\"middle\" x=\"233\" y=\"-7.8\" font-family=\"Helvetica,sans-Serif\" font-size=\"14.00\">value = [0.0, 1.0]</text>\r\n",
       "</g>\r\n",
       "<!-- 2&#45;&gt;4 -->\r\n",
       "<g id=\"edge4\" class=\"edge\"><title>2&#45;&gt;4</title>\r\n",
       "<path fill=\"none\" stroke=\"black\" d=\"M233,-88.9485C233,-80.7153 233,-71.848 233,-63.4814\"/>\r\n",
       "<polygon fill=\"black\" stroke=\"black\" points=\"236.5,-63.2367 233,-53.2367 229.5,-63.2367 236.5,-63.2367\"/>\r\n",
       "</g>\r\n",
       "<!-- 6 -->\r\n",
       "<g id=\"node7\" class=\"node\"><title>6</title>\r\n",
       "<path fill=\"#f7dac4\" stroke=\"black\" d=\"M454,-53C454,-53 324,-53 324,-53 318,-53 312,-47 312,-41 312,-41 312,-12 312,-12 312,-6 318,-0 324,-0 324,-0 454,-0 454,-0 460,-0 466,-6 466,-12 466,-12 466,-41 466,-41 466,-47 460,-53 454,-53\"/>\r\n",
       "<text text-anchor=\"middle\" x=\"389\" y=\"-37.8\" font-family=\"Helvetica,sans-Serif\" font-size=\"14.00\">gini = 0.485</text>\r\n",
       "<text text-anchor=\"middle\" x=\"389\" y=\"-22.8\" font-family=\"Helvetica,sans-Serif\" font-size=\"14.00\">samples = 38.7%</text>\r\n",
       "<text text-anchor=\"middle\" x=\"389\" y=\"-7.8\" font-family=\"Helvetica,sans-Serif\" font-size=\"14.00\">value = [0.587, 0.413]</text>\r\n",
       "</g>\r\n",
       "<!-- 5&#45;&gt;6 -->\r\n",
       "<g id=\"edge6\" class=\"edge\"><title>5&#45;&gt;6</title>\r\n",
       "<path fill=\"none\" stroke=\"black\" d=\"M474.183,-88.9485C460.867,-79.3431 446.355,-68.8747 433.145,-59.345\"/>\r\n",
       "<polygon fill=\"black\" stroke=\"black\" points=\"434.835,-56.2486 424.677,-53.2367 430.74,-61.9257 434.835,-56.2486\"/>\r\n",
       "</g>\r\n",
       "<!-- 7 -->\r\n",
       "<g id=\"node8\" class=\"node\"><title>7</title>\r\n",
       "<path fill=\"#4da7e8\" stroke=\"black\" d=\"M626,-53C626,-53 496,-53 496,-53 490,-53 484,-47 484,-41 484,-41 484,-12 484,-12 484,-6 490,-0 496,-0 496,-0 626,-0 626,-0 632,-0 638,-6 638,-12 638,-12 638,-41 638,-41 638,-47 632,-53 626,-53\"/>\r\n",
       "<text text-anchor=\"middle\" x=\"561\" y=\"-37.8\" font-family=\"Helvetica,sans-Serif\" font-size=\"14.00\">gini = 0.165</text>\r\n",
       "<text text-anchor=\"middle\" x=\"561\" y=\"-22.8\" font-family=\"Helvetica,sans-Serif\" font-size=\"14.00\">samples = 0.7%</text>\r\n",
       "<text text-anchor=\"middle\" x=\"561\" y=\"-7.8\" font-family=\"Helvetica,sans-Serif\" font-size=\"14.00\">value = [0.091, 0.909]</text>\r\n",
       "</g>\r\n",
       "<!-- 5&#45;&gt;7 -->\r\n",
       "<g id=\"edge7\" class=\"edge\"><title>5&#45;&gt;7</title>\r\n",
       "<path fill=\"none\" stroke=\"black\" d=\"M534.34,-88.9485C538.031,-80.4408 542.016,-71.2562 545.751,-62.6464\"/>\r\n",
       "<polygon fill=\"black\" stroke=\"black\" points=\"549.064,-63.8036 549.834,-53.2367 542.643,-61.0174 549.064,-63.8036\"/>\r\n",
       "</g>\r\n",
       "<!-- 9 -->\r\n",
       "<g id=\"node10\" class=\"node\"><title>9</title>\r\n",
       "<path fill=\"#cee7f9\" stroke=\"black\" d=\"M881.5,-157C881.5,-157 666.5,-157 666.5,-157 660.5,-157 654.5,-151 654.5,-145 654.5,-145 654.5,-101 654.5,-101 654.5,-95 660.5,-89 666.5,-89 666.5,-89 881.5,-89 881.5,-89 887.5,-89 893.5,-95 893.5,-101 893.5,-101 893.5,-145 893.5,-145 893.5,-151 887.5,-157 881.5,-157\"/>\r\n",
       "<text text-anchor=\"middle\" x=\"774\" y=\"-141.8\" font-family=\"Helvetica,sans-Serif\" font-size=\"14.00\">Returns_9_15_FTSE100 &lt;= 0.003</text>\r\n",
       "<text text-anchor=\"middle\" x=\"774\" y=\"-126.8\" font-family=\"Helvetica,sans-Serif\" font-size=\"14.00\">gini = 0.49</text>\r\n",
       "<text text-anchor=\"middle\" x=\"774\" y=\"-111.8\" font-family=\"Helvetica,sans-Serif\" font-size=\"14.00\">samples = 29.3%</text>\r\n",
       "<text text-anchor=\"middle\" x=\"774\" y=\"-96.8\" font-family=\"Helvetica,sans-Serif\" font-size=\"14.00\">value = [0.43, 0.57]</text>\r\n",
       "</g>\r\n",
       "<!-- 8&#45;&gt;9 -->\r\n",
       "<g id=\"edge9\" class=\"edge\"><title>8&#45;&gt;9</title>\r\n",
       "<path fill=\"none\" stroke=\"black\" d=\"M774,-192.884C774,-184.778 774,-175.982 774,-167.472\"/>\r\n",
       "<polygon fill=\"black\" stroke=\"black\" points=\"777.5,-167.299 774,-157.299 770.5,-167.299 777.5,-167.299\"/>\r\n",
       "</g>\r\n",
       "<!-- 12 -->\r\n",
       "<g id=\"node13\" class=\"node\"><title>12</title>\r\n",
       "<path fill=\"#80c0ee\" stroke=\"black\" d=\"M1177,-157C1177,-157 977,-157 977,-157 971,-157 965,-151 965,-145 965,-145 965,-101 965,-101 965,-95 971,-89 977,-89 977,-89 1177,-89 1177,-89 1183,-89 1189,-95 1189,-101 1189,-101 1189,-145 1189,-145 1189,-151 1183,-157 1177,-157\"/>\r\n",
       "<text text-anchor=\"middle\" x=\"1077\" y=\"-141.8\" font-family=\"Helvetica,sans-Serif\" font-size=\"14.00\">Returns_9_15_CAC40 &lt;= 0.004</text>\r\n",
       "<text text-anchor=\"middle\" x=\"1077\" y=\"-126.8\" font-family=\"Helvetica,sans-Serif\" font-size=\"14.00\">gini = 0.39</text>\r\n",
       "<text text-anchor=\"middle\" x=\"1077\" y=\"-111.8\" font-family=\"Helvetica,sans-Serif\" font-size=\"14.00\">samples = 28.2%</text>\r\n",
       "<text text-anchor=\"middle\" x=\"1077\" y=\"-96.8\" font-family=\"Helvetica,sans-Serif\" font-size=\"14.00\">value = [0.265, 0.735]</text>\r\n",
       "</g>\r\n",
       "<!-- 8&#45;&gt;12 -->\r\n",
       "<g id=\"edge12\" class=\"edge\"><title>8&#45;&gt;12</title>\r\n",
       "<path fill=\"none\" stroke=\"black\" d=\"M859.209,-197.316C893.353,-185.822 933.094,-172.444 969.21,-160.286\"/>\r\n",
       "<polygon fill=\"black\" stroke=\"black\" points=\"970.438,-163.565 978.799,-157.058 968.205,-156.931 970.438,-163.565\"/>\r\n",
       "</g>\r\n",
       "<!-- 10 -->\r\n",
       "<g id=\"node11\" class=\"node\"><title>10</title>\r\n",
       "<path fill=\"#fefbf8\" stroke=\"black\" d=\"M798,-53C798,-53 668,-53 668,-53 662,-53 656,-47 656,-41 656,-41 656,-12 656,-12 656,-6 662,-0 668,-0 668,-0 798,-0 798,-0 804,-0 810,-6 810,-12 810,-12 810,-41 810,-41 810,-47 804,-53 798,-53\"/>\r\n",
       "<text text-anchor=\"middle\" x=\"733\" y=\"-37.8\" font-family=\"Helvetica,sans-Serif\" font-size=\"14.00\">gini = 0.5</text>\r\n",
       "<text text-anchor=\"middle\" x=\"733\" y=\"-22.8\" font-family=\"Helvetica,sans-Serif\" font-size=\"14.00\">samples = 15.1%</text>\r\n",
       "<text text-anchor=\"middle\" x=\"733\" y=\"-7.8\" font-family=\"Helvetica,sans-Serif\" font-size=\"14.00\">value = [0.509, 0.491]</text>\r\n",
       "</g>\r\n",
       "<!-- 9&#45;&gt;10 -->\r\n",
       "<g id=\"edge10\" class=\"edge\"><title>9&#45;&gt;10</title>\r\n",
       "<path fill=\"none\" stroke=\"black\" d=\"M759.66,-88.9485C755.969,-80.4408 751.984,-71.2562 748.249,-62.6464\"/>\r\n",
       "<polygon fill=\"black\" stroke=\"black\" points=\"751.357,-61.0174 744.166,-53.2367 744.936,-63.8036 751.357,-61.0174\"/>\r\n",
       "</g>\r\n",
       "<!-- 11 -->\r\n",
       "<g id=\"node12\" class=\"node\"><title>11</title>\r\n",
       "<path fill=\"#a2d1f3\" stroke=\"black\" d=\"M970,-53C970,-53 840,-53 840,-53 834,-53 828,-47 828,-41 828,-41 828,-12 828,-12 828,-6 834,-0 840,-0 840,-0 970,-0 970,-0 976,-0 982,-6 982,-12 982,-12 982,-41 982,-41 982,-47 976,-53 970,-53\"/>\r\n",
       "<text text-anchor=\"middle\" x=\"905\" y=\"-37.8\" font-family=\"Helvetica,sans-Serif\" font-size=\"14.00\">gini = 0.452</text>\r\n",
       "<text text-anchor=\"middle\" x=\"905\" y=\"-22.8\" font-family=\"Helvetica,sans-Serif\" font-size=\"14.00\">samples = 14.2%</text>\r\n",
       "<text text-anchor=\"middle\" x=\"905\" y=\"-7.8\" font-family=\"Helvetica,sans-Serif\" font-size=\"14.00\">value = [0.346, 0.654]</text>\r\n",
       "</g>\r\n",
       "<!-- 9&#45;&gt;11 -->\r\n",
       "<g id=\"edge11\" class=\"edge\"><title>9&#45;&gt;11</title>\r\n",
       "<path fill=\"none\" stroke=\"black\" d=\"M819.817,-88.9485C833.133,-79.3431 847.645,-68.8747 860.855,-59.345\"/>\r\n",
       "<polygon fill=\"black\" stroke=\"black\" points=\"863.26,-61.9257 869.323,-53.2367 859.165,-56.2486 863.26,-61.9257\"/>\r\n",
       "</g>\r\n",
       "<!-- 13 -->\r\n",
       "<g id=\"node14\" class=\"node\"><title>13</title>\r\n",
       "<path fill=\"#96cbf1\" stroke=\"black\" d=\"M1142,-53C1142,-53 1012,-53 1012,-53 1006,-53 1000,-47 1000,-41 1000,-41 1000,-12 1000,-12 1000,-6 1006,-0 1012,-0 1012,-0 1142,-0 1142,-0 1148,-0 1154,-6 1154,-12 1154,-12 1154,-41 1154,-41 1154,-47 1148,-53 1142,-53\"/>\r\n",
       "<text text-anchor=\"middle\" x=\"1077\" y=\"-37.8\" font-family=\"Helvetica,sans-Serif\" font-size=\"14.00\">gini = 0.436</text>\r\n",
       "<text text-anchor=\"middle\" x=\"1077\" y=\"-22.8\" font-family=\"Helvetica,sans-Serif\" font-size=\"14.00\">samples = 17.5%</text>\r\n",
       "<text text-anchor=\"middle\" x=\"1077\" y=\"-7.8\" font-family=\"Helvetica,sans-Serif\" font-size=\"14.00\">value = [0.321, 0.679]</text>\r\n",
       "</g>\r\n",
       "<!-- 12&#45;&gt;13 -->\r\n",
       "<g id=\"edge13\" class=\"edge\"><title>12&#45;&gt;13</title>\r\n",
       "<path fill=\"none\" stroke=\"black\" d=\"M1077,-88.9485C1077,-80.7153 1077,-71.848 1077,-63.4814\"/>\r\n",
       "<polygon fill=\"black\" stroke=\"black\" points=\"1080.5,-63.2367 1077,-53.2367 1073.5,-63.2367 1080.5,-63.2367\"/>\r\n",
       "</g>\r\n",
       "<!-- 14 -->\r\n",
       "<g id=\"node15\" class=\"node\"><title>14</title>\r\n",
       "<path fill=\"#63b2ea\" stroke=\"black\" d=\"M1314,-53C1314,-53 1184,-53 1184,-53 1178,-53 1172,-47 1172,-41 1172,-41 1172,-12 1172,-12 1172,-6 1178,-0 1184,-0 1184,-0 1314,-0 1314,-0 1320,-0 1326,-6 1326,-12 1326,-12 1326,-41 1326,-41 1326,-47 1320,-53 1314,-53\"/>\r\n",
       "<text text-anchor=\"middle\" x=\"1249\" y=\"-37.8\" font-family=\"Helvetica,sans-Serif\" font-size=\"14.00\">gini = 0.287</text>\r\n",
       "<text text-anchor=\"middle\" x=\"1249\" y=\"-22.8\" font-family=\"Helvetica,sans-Serif\" font-size=\"14.00\">samples = 10.7%</text>\r\n",
       "<text text-anchor=\"middle\" x=\"1249\" y=\"-7.8\" font-family=\"Helvetica,sans-Serif\" font-size=\"14.00\">value = [0.174, 0.826]</text>\r\n",
       "</g>\r\n",
       "<!-- 12&#45;&gt;14 -->\r\n",
       "<g id=\"edge14\" class=\"edge\"><title>12&#45;&gt;14</title>\r\n",
       "<path fill=\"none\" stroke=\"black\" d=\"M1137.16,-88.9485C1155.39,-78.9318 1175.33,-67.9767 1193.26,-58.1263\"/>\r\n",
       "<polygon fill=\"black\" stroke=\"black\" points=\"1195.35,-60.9695 1202.43,-53.0867 1191.98,-54.8345 1195.35,-60.9695\"/>\r\n",
       "</g>\r\n",
       "</g>\r\n",
       "</svg>\r\n"
      ],
      "text/plain": [
       "<graphviz.files.Source at 0x20b43f670d0>"
      ]
     },
     "execution_count": 38,
     "metadata": {},
     "output_type": "execute_result"
    }
   ],
   "source": [
    "from sklearn.tree import DecisionTreeClassifier\n",
    "from sklearn.model_selection import GridSearchCV\n",
    "from sklearn import tree\n",
    "\n",
    "clf = tree.DecisionTreeClassifier(max_depth = 3)\n",
    "clf = clf.fit(X_trainOpti, y_trainClassif)\n",
    "\n",
    "dot_data = tree.export_graphviz(clf, out_file=None, \n",
    "                      feature_names=list(X_trainOpti.columns), \n",
    "                      filled=True, \n",
    "                      rounded=True,\n",
    "                      proportion = True)\n",
    "\n",
    "graph = graphviz.Source(dot_data)\n",
    "graph"
   ]
  },
  {
   "cell_type": "markdown",
   "metadata": {},
   "source": [
    "Pour plus de lisibilités, on se limite à un arbre de profondeur 3.\n",
    "\n",
    "La première case nous donne tout d'abord la première question que l'on va se poser, qui est ici \"Est-ce que les rendements du FTSE_100 sont inférieurs à -0.1% ?\".\n",
    "\n",
    "\n",
    "La deuxième ligne nous indique l'indice de Gini. Il est très simple de le retrouver ici, il suffit d'appliquer la formule à l'aide de la 4ème ligne ce qui nous donne : $1 - (0.456^2 + 0.544^2) = 0.496$\n",
    "\n",
    "\n",
    "La troisième ligne la part du data set à qui l'on pose cette question, en l'occurrence vu que c'est la première c'est ici 100%.\n",
    "\n",
    "Enfin, la quatrième ligne nous indique la répartition par classe (le vecteur $p_N$). Ainsi 45,6% du data set est dans la classe 0 et 54,4% dans la classe 1, c'est à dire que 45,6% des jours ont eu des rendements négatifs et 54,4% des jours des rendements positifs.\n",
    "\n",
    "On observe que pour les observations dont la réponse à la première question est fausse, les 54,4% de jours avec rendements positifs passent désormais à 65,1% pour ce sous-ensemble du dataset qui correspond à 57,5% des données totales.\n",
    "\n",
    "Si l'on suit l'ensemble du chemin de droite par exemple, ce qui correspond aux jours de bourses durant lesquels le rendement du FTSE100 est supérieur à -0.1%, celui du N225 supérieur à 0.1% et celui du CAC40 supérieur à 0.4%. Ce qui représente 10,7% des jours. Alors dans cette configuration 82.6% du temps, les rendements futurs du Dow Jones ont été positifs.\n",
    "\n"
   ]
  },
  {
   "cell_type": "markdown",
   "metadata": {},
   "source": [
    "#### Choix de la profondeur optimal de l'arbre <a class=\"anchor\" id=\"3212\"></a>"
   ]
  },
  {
   "cell_type": "code",
   "execution_count": 39,
   "metadata": {},
   "outputs": [
    {
     "data": {
      "text/plain": [
       "<matplotlib.legend.Legend at 0x20b47657f10>"
      ]
     },
     "execution_count": 39,
     "metadata": {},
     "output_type": "execute_result"
    },
    {
     "data": {
      "image/png": "[encoded data removed]",
      "text/plain": [
       "<Figure size 720x360 with 1 Axes>"
      ]
     },
     "metadata": {
      "needs_background": "light"
     },
     "output_type": "display_data"
    }
   ],
   "source": [
    "from sklearn.tree import DecisionTreeClassifier\n",
    "from sklearn.model_selection import train_test_split\n",
    "from sklearn.model_selection import cross_val_score\n",
    "\n",
    "depths = np.arange(1, 30)\n",
    "criteria = [\"gini\", \"entropy\"]\n",
    "\n",
    "train_score = []\n",
    "test_score = []\n",
    "for criterion in criteria:\n",
    "    train_score.append([])  \n",
    "    test_score.append([])\n",
    "    for depth in depths:\n",
    "        clf = DecisionTreeClassifier(criterion=criterion, max_depth=depth)\n",
    "        clf.fit(X_trainOpti, y_trainClassif)\n",
    "        train_score[-1].append(clf.score(X_trainOpti, y_trainClassif))\n",
    "        test_score[-1].append(cross_val_score(clf,X_trainOpti, y_trainClassif, cv=5).mean())\n",
    "\n",
    "        \n",
    "plt.figure(figsize=(10, 5))\n",
    "colors = \"bgrc\"\n",
    "for ic, criterion in enumerate(criteria):\n",
    "    plt.plot(depths, train_score[ic], color=colors[ic], linestyle=':',\n",
    "             label=criterion+\" (train)\")\n",
    "    plt.plot(depths, test_score[ic], color=colors[ic], linestyle='-',\n",
    "             label=criterion+\" (test)\")\n",
    "plt.xlabel(\"Tree depth\")\n",
    "plt.ylabel(\"Score\")\n",
    "plt.grid()\n",
    "plt.legend(loc=\"best\")"
   ]
  },
  {
   "cell_type": "markdown",
   "metadata": {},
   "source": [
    "Plus la profondeur de l'arbre augmente et plus le score sur le data set d'entraînement tend vers 1, tandis que celui sur le test set de test ne fait que baisser, l'écart qui se creuse entre les deux courbes au fur et à mesure est un signe d'overfitting."
   ]
  },
  {
   "cell_type": "code",
   "execution_count": 40,
   "metadata": {},
   "outputs": [
    {
     "name": "stdout",
     "output_type": "stream",
     "text": [
      "Best depth for gini criterion: 1.\n",
      "Val score: 0.6198675496688741\n"
     ]
    }
   ],
   "source": [
    "criterion = \"gini\"\n",
    "ic = np.where([c == criterion for c in criteria])[0][0]  # Index for gini impurity\n",
    "idepth = np.argmax(test_score[ic])  # Index for best depth\n",
    "depth = depths[idepth]  # Best depth\n",
    "print(\"Best depth for {} criterion: {}.\".format(criterion, depth))\n",
    "\n",
    "best_CART_params = {}\n",
    "best_CART_params[\"criterion\"] = criterion\n",
    "best_CART_params[\"max_depth\"] = depth\n",
    "\n",
    "best_CART = DecisionTreeClassifier(criterion=criterion, max_depth=depth)\n",
    "val_score_CART = cross_val_score(best_CART,X_trainOpti, y_trainClassif, cv=5).mean()\n",
    "print(\"Val score:\", val_score_CART)\n",
    "\n"
   ]
  },
  {
   "cell_type": "markdown",
   "metadata": {},
   "source": [
    "L'arbre optimal, c'est à dire l'arbre donnant le meilleur score de validation, est obtenu pour le critère de Gini avec une profondeur d'abre de 1 pour un score de validation de 62%."
   ]
  },
  {
   "cell_type": "markdown",
   "metadata": {},
   "source": [
    "#### Visualisation de l'arbre optimal <a class=\"anchor\" id=\"3213\"></a>"
   ]
  },
  {
   "cell_type": "code",
   "execution_count": 41,
   "metadata": {},
   "outputs": [
    {
     "data": {
      "image/svg+xml": [
       "<?xml version=\"1.0\" encoding=\"UTF-8\" standalone=\"no\"?>\r\n",
       "<!DOCTYPE svg PUBLIC \"-//W3C//DTD SVG 1.1//EN\"\r\n",
       " \"http://www.w3.org/Graphics/SVG/1.1/DTD/svg11.dtd\">\r\n",
       "<!-- Generated by graphviz version 2.38.0 (20140413.2041)\r\n",
       " -->\r\n",
       "<!-- Title: Tree Pages: 1 -->\r\n",
       "<svg width=\"308pt\" height=\"165pt\"\r\n",
       " viewBox=\"0.00 0.00 308.00 165.00\" xmlns=\"http://www.w3.org/2000/svg\" xmlns:xlink=\"http://www.w3.org/1999/xlink\">\r\n",
       "<g id=\"graph0\" class=\"graph\" transform=\"scale(1 1) rotate(0) translate(4 161)\">\r\n",
       "<title>Tree</title>\r\n",
       "<polygon fill=\"white\" stroke=\"none\" points=\"-4,4 -4,-161 304,-161 304,4 -4,4\"/>\r\n",
       "<!-- 0 -->\r\n",
       "<g id=\"node1\" class=\"node\"><title>0</title>\r\n",
       "<path fill=\"#dfeffb\" stroke=\"black\" d=\"M252.5,-157C252.5,-157 33.5,-157 33.5,-157 27.5,-157 21.5,-151 21.5,-145 21.5,-145 21.5,-101 21.5,-101 21.5,-95 27.5,-89 33.5,-89 33.5,-89 252.5,-89 252.5,-89 258.5,-89 264.5,-95 264.5,-101 264.5,-101 264.5,-145 264.5,-145 264.5,-151 258.5,-157 252.5,-157\"/>\r\n",
       "<text text-anchor=\"middle\" x=\"143\" y=\"-141.8\" font-family=\"Helvetica,sans-Serif\" font-size=\"14.00\">Returns_9_15_FTSE100 &lt;= &#45;0.001</text>\r\n",
       "<text text-anchor=\"middle\" x=\"143\" y=\"-126.8\" font-family=\"Helvetica,sans-Serif\" font-size=\"14.00\">gini = 0.496</text>\r\n",
       "<text text-anchor=\"middle\" x=\"143\" y=\"-111.8\" font-family=\"Helvetica,sans-Serif\" font-size=\"14.00\">samples = 100.0%</text>\r\n",
       "<text text-anchor=\"middle\" x=\"143\" y=\"-96.8\" font-family=\"Helvetica,sans-Serif\" font-size=\"14.00\">value = [0.456, 0.544]</text>\r\n",
       "</g>\r\n",
       "<!-- 1 -->\r\n",
       "<g id=\"node2\" class=\"node\"><title>1</title>\r\n",
       "<path fill=\"#f6d5bd\" stroke=\"black\" d=\"M116,-53C116,-53 12,-53 12,-53 6,-53 0,-47 0,-41 0,-41 0,-12 0,-12 0,-6 6,-0 12,-0 12,-0 116,-0 116,-0 122,-0 128,-6 128,-12 128,-12 128,-41 128,-41 128,-47 122,-53 116,-53\"/>\r\n",
       "<text text-anchor=\"middle\" x=\"64\" y=\"-37.8\" font-family=\"Helvetica,sans-Serif\" font-size=\"14.00\">gini = 0.48</text>\r\n",
       "<text text-anchor=\"middle\" x=\"64\" y=\"-22.8\" font-family=\"Helvetica,sans-Serif\" font-size=\"14.00\">samples = 42.5%</text>\r\n",
       "<text text-anchor=\"middle\" x=\"64\" y=\"-7.8\" font-family=\"Helvetica,sans-Serif\" font-size=\"14.00\">value = [0.6, 0.4]</text>\r\n",
       "</g>\r\n",
       "<!-- 0&#45;&gt;1 -->\r\n",
       "<g id=\"edge1\" class=\"edge\"><title>0&#45;&gt;1</title>\r\n",
       "<path fill=\"none\" stroke=\"black\" d=\"M115.37,-88.9485C107.799,-79.892 99.5861,-70.0682 91.9948,-60.9875\"/>\r\n",
       "<polygon fill=\"black\" stroke=\"black\" points=\"94.6145,-58.6641 85.5153,-53.2367 89.2439,-63.1538 94.6145,-58.6641\"/>\r\n",
       "<text text-anchor=\"middle\" x=\"83.2908\" y=\"-74.4375\" font-family=\"Helvetica,sans-Serif\" font-size=\"14.00\">True</text>\r\n",
       "</g>\r\n",
       "<!-- 2 -->\r\n",
       "<g id=\"node3\" class=\"node\"><title>2</title>\r\n",
       "<path fill=\"#a3d2f3\" stroke=\"black\" d=\"M288,-53C288,-53 158,-53 158,-53 152,-53 146,-47 146,-41 146,-41 146,-12 146,-12 146,-6 152,-0 158,-0 158,-0 288,-0 288,-0 294,-0 300,-6 300,-12 300,-12 300,-41 300,-41 300,-47 294,-53 288,-53\"/>\r\n",
       "<text text-anchor=\"middle\" x=\"223\" y=\"-37.8\" font-family=\"Helvetica,sans-Serif\" font-size=\"14.00\">gini = 0.454</text>\r\n",
       "<text text-anchor=\"middle\" x=\"223\" y=\"-22.8\" font-family=\"Helvetica,sans-Serif\" font-size=\"14.00\">samples = 57.5%</text>\r\n",
       "<text text-anchor=\"middle\" x=\"223\" y=\"-7.8\" font-family=\"Helvetica,sans-Serif\" font-size=\"14.00\">value = [0.349, 0.651]</text>\r\n",
       "</g>\r\n",
       "<!-- 0&#45;&gt;2 -->\r\n",
       "<g id=\"edge2\" class=\"edge\"><title>0&#45;&gt;2</title>\r\n",
       "<path fill=\"none\" stroke=\"black\" d=\"M170.98,-88.9485C178.647,-79.892 186.963,-70.0682 194.651,-60.9875\"/>\r\n",
       "<polygon fill=\"black\" stroke=\"black\" points=\"197.422,-63.1305 201.212,-53.2367 192.08,-58.6076 197.422,-63.1305\"/>\r\n",
       "<text text-anchor=\"middle\" x=\"203.283\" y=\"-74.4508\" font-family=\"Helvetica,sans-Serif\" font-size=\"14.00\">False</text>\r\n",
       "</g>\r\n",
       "</g>\r\n",
       "</svg>\r\n"
      ],
      "text/plain": [
       "<graphviz.files.Source at 0x20b476450a0>"
      ]
     },
     "execution_count": 41,
     "metadata": {},
     "output_type": "execute_result"
    }
   ],
   "source": [
    "from sklearn.tree import DecisionTreeClassifier\n",
    "from sklearn.model_selection import GridSearchCV\n",
    "from sklearn import tree\n",
    "import graphviz # conda install python-graphviz\n",
    "\n",
    "clf = best_CART.fit(X_trainOpti, y_trainClassif)\n",
    "\n",
    "dot_data = tree.export_graphviz(clf, out_file=None, \n",
    "                      feature_names=list(X_trainOpti.columns), \n",
    "                      filled=True, \n",
    "                      rounded=True,\n",
    "                      proportion = True)\n",
    "\n",
    "graph = graphviz.Source(dot_data)\n",
    "graph"
   ]
  },
  {
   "cell_type": "markdown",
   "metadata": {},
   "source": [
    "Ici la prédiction est très  simple, on prédit que les rendements du Dow Jones sont positifs lorsque les rendements du FTSE100 de 9h à 15h sont supérieur à -0.1%. Sur l'ensemble du train set, 65,1% des rendements du Dow Jones sont positifs lorsque les rendements du FTSE dépasse ce seuil.\n",
    "\n",
    "Ici -0.1% est arrondi, on peut obtenir le seuil exact de la manière suivante :"
   ]
  },
  {
   "cell_type": "code",
   "execution_count": 42,
   "metadata": {},
   "outputs": [
    {
     "data": {
      "text/plain": [
       "array([-0.00066346])"
      ]
     },
     "execution_count": 42,
     "metadata": {},
     "output_type": "execute_result"
    }
   ],
   "source": [
    "clf.tree_.threshold[clf.tree_.feature == 0]"
   ]
  },
  {
   "cell_type": "markdown",
   "metadata": {},
   "source": [
    "On prédit donc des rendements positifs pour le Dow Jones lorsque les rendements du FTSE100 dépassse les -0.066%"
   ]
  },
  {
   "cell_type": "markdown",
   "metadata": {},
   "source": [
    "#### Résultats sur le test set <a class=\"anchor\" id=\"3214\"></a>"
   ]
  },
  {
   "cell_type": "code",
   "execution_count": 43,
   "metadata": {},
   "outputs": [
    {
     "name": "stdout",
     "output_type": "stream",
     "text": [
      "[[109 104]\n",
      " [101 159]]\n",
      "0.5665961945031712\n"
     ]
    }
   ],
   "source": [
    "from sklearn.metrics import classification_report, confusion_matrix, accuracy_score\n",
    "\n",
    "\n",
    "y_pred_CART = clf.predict(X_testOpti)\n",
    "\n",
    "\n",
    "print(confusion_matrix(y_testClassif,y_pred_CART))\n",
    "print(accuracy_score(y_testClassif, y_pred_CART))"
   ]
  },
  {
   "cell_type": "markdown",
   "metadata": {},
   "source": [
    "On prédit 56,7% du temps la bonne tendance du Dow Jones."
   ]
  },
  {
   "cell_type": "markdown",
   "metadata": {},
   "source": [
    "Remarque : plutôt que d'utiliser la fonction predict, il est facile d'utiliser directement les résultats de l'arbre en appliquant le seuil vu précedemment."
   ]
  },
  {
   "cell_type": "code",
   "execution_count": 44,
   "metadata": {},
   "outputs": [
    {
     "name": "stdout",
     "output_type": "stream",
     "text": [
      "[[109 104]\n",
      " [101 159]]\n",
      "0.5665961945031712\n"
     ]
    }
   ],
   "source": [
    "from sklearn.metrics import  confusion_matrix, accuracy_score\n",
    "\n",
    "\n",
    "y_pred_CART_manual = X_testOpti[\"Returns_9_15_FTSE100\"] > -0.00066346\n",
    "\n",
    "test_score_CART = accuracy_score(y_testClassif, y_pred_CART_manual)\n",
    "\n",
    "print(confusion_matrix(y_testClassif,y_pred_CART_manual))\n",
    "print(test_score_CART)"
   ]
  },
  {
   "cell_type": "markdown",
   "metadata": {},
   "source": [
    "On retombe bien sur les mêmes résultats"
   ]
  },
  {
   "cell_type": "code",
   "execution_count": 45,
   "metadata": {},
   "outputs": [],
   "source": [
    "# Pour effectuer un tableau récapitulatif à la fin\n",
    "\n",
    "Total_models[\"CART\"] = best_CART\n",
    "Total_best_params[\"CART\"] = best_CART_params\n",
    "Total_val_score[\"CART\"] = str(round(val_score_CART*100,2))+ \" %\"\n",
    "Total_test_score[\"CART\"] = str(round(test_score_CART*100,2))+ \" %\""
   ]
  },
  {
   "cell_type": "markdown",
   "metadata": {},
   "source": [
    "### 2ème modèle : Random Forest <a class=\"anchor\" id=\"322\"></a>"
   ]
  },
  {
   "cell_type": "markdown",
   "metadata": {},
   "source": [
    "Le modèle Random forests est une combinaison des ces 3 éléments :\n",
    "\n",
    "* Le modèle CART utilisé précedemment\n",
    "\n",
    "\n",
    "* Le Bagging (contraction de Bootstrap Aggregation). Le principe est de créer un dataset différent pour nos différents classifieurs faibles. Pour ce faire on applique du bootstrap, on échantillone avec replacement notre dataset de taille N afin d'obtenir un nouveau dataset de taille N dans lequel chaque observation a une chance 1/N d'être tirée à chaque itération. Une fois les data set créés on entraîne nos classifieurs faibles sur chacun des datasets, puis on calcul la prédiction moyenne de donnée par nos classifieurs.\n",
    "\n",
    "\n",
    "* Features bagging : lors de la sélection d'un point de division dans le modèle CART on considère uniquement un sous-ensemble aléatoire de nos variables afin d'éviter la corrélation entre les arbres."
   ]
  },
  {
   "cell_type": "markdown",
   "metadata": {},
   "source": [
    "#### Entraînement du modèle <a class=\"anchor\" id=\"3231\"></a>"
   ]
  },
  {
   "cell_type": "markdown",
   "metadata": {},
   "source": [
    "Plutôt que de le faire manuellement comme avec le modèle CART on peut utiliser la fonction **GridSearchCV** qui selectionne directement pour nous les paramètres donnant le meilleur score de validation (parmi l'ensemble de paramètres qu'on lui précise au préalable dans param_grid)"
   ]
  },
  {
   "cell_type": "code",
   "execution_count": 46,
   "metadata": {},
   "outputs": [
    {
     "data": {
      "text/plain": [
       "0.6311258278145695"
      ]
     },
     "execution_count": 46,
     "metadata": {},
     "output_type": "execute_result"
    }
   ],
   "source": [
    "from sklearn.ensemble import RandomForestClassifier\n",
    "\n",
    "VarExpli_RF = [\"Returns_9_15_FTSE100\", \"Returns_9_15_CAC40\", \"Returns_N225\", \"Returns_9_15_DAX\"]\n",
    "X_train_RF = data_train[VarExpli_RF]\n",
    "X_test_RF = data_test[VarExpli_RF]\n",
    "\n",
    "\n",
    "param_grid = { \n",
    "    'n_estimators': [200,500],\n",
    "    'max_depth' : [3,4,5,6],\n",
    "    'criterion' :['gini', 'entropy']\n",
    "}\n",
    "grid = GridSearchCV(RandomForestClassifier(random_state=0), param_grid, cv=5)  #random_state permet d'éviter d'avoir un résultat différent à chaque fois\n",
    "\n",
    "grid.fit(X_train_RF, y_trainClassif)\n",
    "val_score_RF = grid.best_score_\n",
    "val_score_RF"
   ]
  },
  {
   "cell_type": "code",
   "execution_count": 47,
   "metadata": {},
   "outputs": [
    {
     "data": {
      "text/plain": [
       "{'criterion': 'entropy', 'max_depth': 4, 'n_estimators': 200}"
      ]
     },
     "execution_count": 47,
     "metadata": {},
     "output_type": "execute_result"
    }
   ],
   "source": [
    "best_RF = grid.best_estimator_\n",
    "best_RF_params = grid.best_params_\n",
    "best_RF_params"
   ]
  },
  {
   "cell_type": "markdown",
   "metadata": {},
   "source": [
    "Les paramètres ci-dessus permettent d'obtenir le meilleur score de validation qui atteint les 63,11%"
   ]
  },
  {
   "cell_type": "markdown",
   "metadata": {},
   "source": [
    "#### Résultats sur le test set <a class=\"anchor\" id=\"3232\"></a>"
   ]
  },
  {
   "cell_type": "code",
   "execution_count": 48,
   "metadata": {},
   "outputs": [
    {
     "name": "stdout",
     "output_type": "stream",
     "text": [
      "[[111 102]\n",
      " [ 92 168]]\n",
      "              precision    recall  f1-score   support\n",
      "\n",
      "           0       0.55      0.52      0.53       213\n",
      "           1       0.62      0.65      0.63       260\n",
      "\n",
      "    accuracy                           0.59       473\n",
      "   macro avg       0.58      0.58      0.58       473\n",
      "weighted avg       0.59      0.59      0.59       473\n",
      "\n",
      "0.5898520084566596\n"
     ]
    }
   ],
   "source": [
    "\n",
    "y_pred_RF = best_RF.predict(X_test_RF)\n",
    "test_score_RF = accuracy_score(y_testClassif, y_pred_RF)\n",
    "\n",
    "print(confusion_matrix(y_testClassif,y_pred_RF))\n",
    "\n",
    "print(classification_report(y_testClassif,y_pred_RF))\n",
    "print(test_score_RF)"
   ]
  },
  {
   "cell_type": "markdown",
   "metadata": {},
   "source": [
    "On prédit 59% du temps la bonne tendance du Dow Jones"
   ]
  },
  {
   "cell_type": "markdown",
   "metadata": {},
   "source": [
    "Remarque : Random Forest permet d'accéder aux probas de confiances associées à chaque prédiction :"
   ]
  },
  {
   "cell_type": "code",
   "execution_count": 49,
   "metadata": {},
   "outputs": [
    {
     "name": "stdout",
     "output_type": "stream",
     "text": [
      "[[147  66]\n",
      " [133 127]]\n",
      "              precision    recall  f1-score   support\n",
      "\n",
      "           0       0.53      0.69      0.60       213\n",
      "           1       0.66      0.49      0.56       260\n",
      "\n",
      "    accuracy                           0.58       473\n",
      "   macro avg       0.59      0.59      0.58       473\n",
      "weighted avg       0.60      0.58      0.58       473\n",
      "\n",
      "0.5792811839323467\n"
     ]
    }
   ],
   "source": [
    "y_pred_RF_prob = best_RF.predict_proba(X_test_RF)[:,1]\n",
    "y_pred_RF_prob\n",
    "\n",
    "y_pred_RF_opti = y_pred_RF_prob>0.60\n",
    "\n",
    "print(confusion_matrix(y_testClassif,y_pred_RF_opti))\n",
    "\n",
    "print(classification_report(y_testClassif,y_pred_RF_opti))\n",
    "print(accuracy_score(y_testClassif, y_pred_RF_opti))"
   ]
  },
  {
   "cell_type": "markdown",
   "metadata": {},
   "source": [
    "Les probabilités correspondent simplement à la proportion de votes pour chaque arbre. En prenant un seuil de 0.5 on retombe donc sur 59% de score. On aura l'occasion d'utiliser ce seuil dans la partie stratégie d'investissement."
   ]
  },
  {
   "cell_type": "code",
   "execution_count": 50,
   "metadata": {},
   "outputs": [],
   "source": [
    "# Pour effectuer un tableau récapitulatif à la fin\n",
    "\n",
    "Total_models[\"RF\"] = best_RF\n",
    "Total_best_params[\"RF\"] = best_RF_params\n",
    "Total_val_score[\"RF\"] = str(round(val_score_RF*100,2))+ \" %\"\n",
    "Total_test_score[\"RF\"] = str(round(test_score_RF*100,2))+ \" %\""
   ]
  },
  {
   "cell_type": "markdown",
   "metadata": {},
   "source": [
    "### 3ème modèle : Régression logistique pénalisation Lasso <a class=\"anchor\" id=\"323\"></a>"
   ]
  },
  {
   "cell_type": "markdown",
   "metadata": {},
   "source": [
    "La régression logistique est utilisée pour trouver la probabilité d’un événement. On veut determiner le succès ou l’échec d’un événement, ici, l'evolution positive ou negative du Dow Jones.\n",
    "\n",
    "Les avantages de la regression logistique réside dans le fait de ne pas avoir besoin nécessairement de l'existence d'une relation linéaire entre les variables dépendantes et indépendantes. De plus, elle peut gerer différents types de relations.\n",
    "\n",
    "La regression logistique modelise directement le parametre de la distribution Y|X = x. \n",
    "\n",
    "De plus,la logit transformation de la probabilité p(x) = P (Y = 1|X = x) est linéaire :\n",
    "\n",
    "* $logit(p(x)) = log(\\frac{p(x)}{1-p(x)}) = (x^T)*w + b$\n",
    "\n",
    "Ensuite, on estime w et b avec les maximums de vraisemblance.\n",
    "\n",
    "Il apparait que la penalisation Lasso donne des meilleurs resultats.\n"
   ]
  },
  {
   "cell_type": "markdown",
   "metadata": {},
   "source": [
    "#### Entraînement du modèle <a class=\"anchor\" id=\"3241\"></a>"
   ]
  },
  {
   "cell_type": "code",
   "execution_count": 51,
   "metadata": {},
   "outputs": [
    {
     "data": {
      "text/plain": [
       "0.6337748344370862"
      ]
     },
     "execution_count": 51,
     "metadata": {},
     "output_type": "execute_result"
    }
   ],
   "source": [
    "from sklearn.model_selection import GridSearchCV\n",
    "from sklearn.linear_model import LogisticRegression\n",
    "\n",
    "param_grid = {\"C\": np.logspace(-3, 3, num=7), \"penalty\": ['l1','l2']}\n",
    "\n",
    "grid = GridSearchCV(LogisticRegression(solver='liblinear'), param_grid, cv=5)\n",
    "\n",
    "grid.fit(X_trainOpti, y_trainClassif)\n",
    "val_score_lasso = grid.best_score_\n",
    "val_score_lasso"
   ]
  },
  {
   "cell_type": "code",
   "execution_count": 52,
   "metadata": {},
   "outputs": [
    {
     "data": {
      "text/plain": [
       "{'C': 10.0, 'penalty': 'l1'}"
      ]
     },
     "execution_count": 52,
     "metadata": {},
     "output_type": "execute_result"
    }
   ],
   "source": [
    "best_lasso = grid.best_estimator_\n",
    "best_lasso_params = grid.best_params_\n",
    "best_lasso_params"
   ]
  },
  {
   "cell_type": "markdown",
   "metadata": {},
   "source": [
    "Le meilleur  score de cross-validation est de 63,4% et il est obtenu avec les paramètres ci-dessus."
   ]
  },
  {
   "cell_type": "markdown",
   "metadata": {},
   "source": [
    "#### Résultats sur le test set  <a class=\"anchor\" id=\"3242\"></a>"
   ]
  },
  {
   "cell_type": "code",
   "execution_count": 53,
   "metadata": {},
   "outputs": [
    {
     "name": "stdout",
     "output_type": "stream",
     "text": [
      "[[ 89 124]\n",
      " [ 71 189]]\n",
      "0.587737843551797\n"
     ]
    }
   ],
   "source": [
    "y_pred_lasso = best_lasso.predict(X_testOpti)\n",
    "\n",
    "test_score_lasso = accuracy_score(y_testClassif, y_pred_lasso)\n",
    "print(confusion_matrix(y_testClassif,y_pred_lasso))\n",
    "print(test_score_lasso)"
   ]
  },
  {
   "cell_type": "markdown",
   "metadata": {},
   "source": [
    "On obtient un score validation de 58,8% sur le data set de test."
   ]
  },
  {
   "cell_type": "code",
   "execution_count": 54,
   "metadata": {},
   "outputs": [],
   "source": [
    "# Pour effectuer un tableau récapitulatif à la fin\n",
    "\n",
    "Total_models[\"LASSO\"] = best_lasso\n",
    "Total_best_params[\"LASSO\"] = best_lasso_params\n",
    "Total_val_score[\"LASSO\"] = str(round(val_score_lasso*100,2))+ \" %\"\n",
    "Total_test_score[\"LASSO\"] = str(round(test_score_lasso*100,2))+ \" %\""
   ]
  },
  {
   "cell_type": "markdown",
   "metadata": {},
   "source": [
    "### 4ème modèle : KNN <a class=\"anchor\" id=\"324\"></a>"
   ]
  },
  {
   "cell_type": "markdown",
   "metadata": {},
   "source": [
    "La méthode des K plus proche voisins (K nearest neighbours en anglais) est une méthode de classification se déroulant de \n",
    "la manière suivante :\n",
    "\n",
    "* Pour chaque nouvelle observation, on aimerait prédire Y=0 ou Y=1.\n",
    "\n",
    "* On choisit une distance qui nous permet de mesurer la distance entre la nouvelle observation et les points de notre Data Set.\n",
    "\n",
    "* On selectionne les K plus proches voisins (selon la distance choisi) de la nouvelle observation.\n",
    "\n",
    "* On determine la proportion des observation qui donne Y = 1.\n",
    "\n",
    "On predira Y = 1 si cette proportion est superieure a 50%.\n",
    "\n",
    "Un choix d'estimateur classique est le suivant : \n",
    "\n",
    "* $r_n(x) = \\frac{1}{k} \\sum_{i=1}^k Y_i(x)$"
   ]
  },
  {
   "cell_type": "markdown",
   "metadata": {},
   "source": [
    "#### Entraînement du modèle <a class=\"anchor\" id=\"3251\"></a>"
   ]
  },
  {
   "cell_type": "code",
   "execution_count": 55,
   "metadata": {},
   "outputs": [
    {
     "name": "stderr",
     "output_type": "stream",
     "text": [
      "E:\\Users\\coren\\anaconda3\\lib\\site-packages\\sklearn\\utils\\validation.py:67: FutureWarning: Pass param_name=n_neighbors, param_range=[ 1  2  3  4  5  6  7  8  9 10 11 12 13 14 15 16 17 18 19 20 21 22 23 24\n",
      " 25 26 27 28 29 30 31 32 33 34 35 36 37 38 39 40 41 42 43 44 45 46 47 48\n",
      " 49] as keyword args. From version 0.25 passing these as positional arguments will result in an error\n",
      "  warnings.warn(\"Pass {} as keyword args. From version 0.25 \"\n"
     ]
    },
    {
     "data": {
      "text/plain": [
       "<matplotlib.legend.Legend at 0x20b486db0d0>"
      ]
     },
     "execution_count": 55,
     "metadata": {},
     "output_type": "execute_result"
    },
    {
     "data": {
      "image/png": "[encoded data removed]",
      "text/plain": [
       "<Figure size 432x288 with 1 Axes>"
      ]
     },
     "metadata": {
      "needs_background": "light"
     },
     "output_type": "display_data"
    }
   ],
   "source": [
    "from sklearn.neighbors import KNeighborsClassifier\n",
    "from sklearn.model_selection import validation_curve\n",
    "\n",
    "VarExpli_knn = [\"Returns_9_15_FTSE100\", \"Returns_9_15_CAC40\", \"Returns_N225\", \"Returns_9_15_DAX\"]\n",
    "X_train_knn = data_train[VarExpli_knn]\n",
    "X_test_knn = data_test[VarExpli_knn]\n",
    "\n",
    "model = KNeighborsClassifier()\n",
    "k = np.arange(1,50)\n",
    "train_score, val_score = validation_curve(model, X_train_knn, y_trainClassif, 'n_neighbors', k, cv=5)\n",
    "\n",
    "plt.plot(k, val_score.mean(axis=1), label='validation')\n",
    "plt.plot(k, train_score.mean(axis=1), label=\"train\")\n",
    "\n",
    "plt.ylabel(\"score\")\n",
    "plt.xlabel(\"n_neighbors\")\n",
    "plt.legend()"
   ]
  },
  {
   "cell_type": "markdown",
   "metadata": {},
   "source": [
    "L'overfitting est très clair pour les premières valeurs de k pour lesquelles le training score est très elevé comparé au validation score qui est très bas"
   ]
  },
  {
   "cell_type": "code",
   "execution_count": 56,
   "metadata": {},
   "outputs": [
    {
     "data": {
      "text/plain": [
       "0.6370860927152318"
      ]
     },
     "execution_count": 56,
     "metadata": {},
     "output_type": "execute_result"
    }
   ],
   "source": [
    "from sklearn.neighbors import KNeighborsClassifier\n",
    "\n",
    "\n",
    "param_grid = {\"n_neighbors\" : np.arange(20,70),\n",
    "             \"metric\" : [\"euclidean\", \"manhattan\", \"minkowski\"]}\n",
    "\n",
    "grid = GridSearchCV(KNeighborsClassifier(), param_grid, cv=5)\n",
    "\n",
    "grid.fit(X_train_knn, y_trainClassif)\n",
    "val_score_knn = grid.best_score_\n",
    "val_score_knn\n"
   ]
  },
  {
   "cell_type": "code",
   "execution_count": 57,
   "metadata": {},
   "outputs": [
    {
     "data": {
      "text/plain": [
       "{'metric': 'euclidean', 'n_neighbors': 66}"
      ]
     },
     "execution_count": 57,
     "metadata": {},
     "output_type": "execute_result"
    }
   ],
   "source": [
    "best_knn = grid.best_estimator_\n",
    "best_knn_params = grid.best_params_\n",
    "best_knn_params"
   ]
  },
  {
   "cell_type": "markdown",
   "metadata": {},
   "source": [
    "Le score de validation maximal est de 63,7% et est obtenu avec les paramètres ci-dessus"
   ]
  },
  {
   "cell_type": "markdown",
   "metadata": {},
   "source": [
    "#### Bagging avec KNN <a class=\"anchor\" id=\"3252\"></a>"
   ]
  },
  {
   "cell_type": "code",
   "execution_count": 58,
   "metadata": {},
   "outputs": [
    {
     "data": {
      "text/plain": [
       "0.6331125827814569"
      ]
     },
     "execution_count": 58,
     "metadata": {},
     "output_type": "execute_result"
    }
   ],
   "source": [
    "from sklearn.ensemble import BaggingClassifier\n",
    "\n",
    "best_knn_bagging = BaggingClassifier(base_estimator = best_knn, \n",
    "                         n_estimators = 100, \n",
    "                         random_state = 0)\n",
    "\n",
    "\n",
    "best_knn_bagging.fit(X_train_knn, y_trainClassif)\n",
    "cross_val_score(best_knn_bagging, X_train_knn, y_trainClassif, cv=5).mean()"
   ]
  },
  {
   "cell_type": "markdown",
   "metadata": {},
   "source": [
    "Appliquer une méthode de bagging sur notre modèle KNN optimal semble diminuer le score de cross validation, \n",
    "passant en effet de 63,7% à 63.3%, on décide donc de ne pas conserver cette technique."
   ]
  },
  {
   "cell_type": "markdown",
   "metadata": {},
   "source": [
    "#### Résultats sur le test set <a class=\"anchor\" id=\"3253\"></a>"
   ]
  },
  {
   "cell_type": "code",
   "execution_count": 59,
   "metadata": {},
   "outputs": [
    {
     "name": "stdout",
     "output_type": "stream",
     "text": [
      "[[106 107]\n",
      " [ 86 174]]\n",
      "0.5919661733615222\n"
     ]
    }
   ],
   "source": [
    "from sklearn.metrics import classification_report, confusion_matrix, accuracy_score\n",
    "y_pred_knn = best_knn.predict(X_test_knn)\n",
    "\n",
    "test_score_knn = accuracy_score(y_testClassif, y_pred_knn)\n",
    "print(confusion_matrix(y_testClassif,y_pred_knn))\n",
    "print(test_score_knn)"
   ]
  },
  {
   "cell_type": "markdown",
   "metadata": {},
   "source": [
    "On prédit 59,2% du temps la bonne tendance du Dow Jones"
   ]
  },
  {
   "cell_type": "code",
   "execution_count": 60,
   "metadata": {},
   "outputs": [],
   "source": [
    "# Pour effectuer un tableau récapitulatif à la fin\n",
    "\n",
    "Total_models[\"KNN\"] = best_knn\n",
    "Total_best_params[\"KNN\"] = best_knn_params\n",
    "Total_val_score[\"KNN\"] = str(round(val_score_knn*100,2))+ \" %\"\n",
    "Total_test_score[\"KNN\"] = str(round(test_score_knn*100,2))+ \" %\""
   ]
  },
  {
   "cell_type": "markdown",
   "metadata": {},
   "source": [
    "### Choix du meilleur modèle de classification <a class=\"anchor\" id=\"325\"></a>"
   ]
  },
  {
   "cell_type": "markdown",
   "metadata": {},
   "source": [
    "Avec un score de validation de 63,7% on sélection le modèle knn pour la classification."
   ]
  },
  {
   "cell_type": "code",
   "execution_count": 61,
   "metadata": {},
   "outputs": [],
   "source": [
    "BestClassif = max(Total_val_score, key=Total_val_score.get)\n",
    "BestClassifModel = Total_models[BestClassif]"
   ]
  },
  {
   "cell_type": "markdown",
   "metadata": {},
   "source": [
    "## Régression <a class=\"anchor\" id=\"33\"></a>"
   ]
  },
  {
   "cell_type": "markdown",
   "metadata": {},
   "source": [
    "L'idée de cette partie est d'utiliser des modèles de régression pour répondre à notre objectif. Notre but étant toujours de faire de la classification en prédisant \"1\" lorsque l'on veut investir et \"0\" sinon, une partie \"score de classification\" sera effectuée pour chaque modèle. On prédira simplement \"1\" lorsque les rendements de la régression sont positifs et \"0\" sinon."
   ]
  },
  {
   "cell_type": "markdown",
   "metadata": {},
   "source": [
    "### 1er modèle : Modèle linéaire <a class=\"anchor\" id=\"331\"></a>"
   ]
  },
  {
   "cell_type": "markdown",
   "metadata": {},
   "source": [
    "Le but de la régression simple (resp. multiple) est d'expliquer une variable Y à l'aide d'une variable X (resp.\n",
    "plusieurs variables X1, ..., Xq).\n",
    "On suppose l'existence d'une relation linèaire entre notre variable a expliquer et nos variables explicatives.\n",
    "\n",
    "Pour estimer les differents coefficients de chaque variable explicative, on utilise la méthode des moindres carrées.\n"
   ]
  },
  {
   "cell_type": "markdown",
   "metadata": {},
   "source": [
    "#### Entraînement du modèle <a class=\"anchor\" id=\"3311\"></a>"
   ]
  },
  {
   "cell_type": "code",
   "execution_count": 62,
   "metadata": {},
   "outputs": [
    {
     "data": {
      "text/plain": [
       "0.091797934228077"
      ]
     },
     "execution_count": 62,
     "metadata": {},
     "output_type": "execute_result"
    }
   ],
   "source": [
    "from sklearn.linear_model import LinearRegression\n",
    "\n",
    "\n",
    "RegLin = LinearRegression()\n",
    "RegLin.fit(X_trainOpti, y_trainReg)\n",
    "\n",
    "cross_val_score(RegLin, X_trainOpti, y_trainReg, cv=5).mean()"
   ]
  },
  {
   "cell_type": "markdown",
   "metadata": {},
   "source": [
    "Le coefficient de détermination R2 est de 9,2% pour le modèle linéaire"
   ]
  },
  {
   "cell_type": "markdown",
   "metadata": {},
   "source": [
    "#### Résultats sur le test set <a class=\"anchor\" id=\"3312\"></a>"
   ]
  },
  {
   "cell_type": "code",
   "execution_count": 63,
   "metadata": {},
   "outputs": [
    {
     "data": {
      "text/plain": [
       "0.12245125249864075"
      ]
     },
     "execution_count": 63,
     "metadata": {},
     "output_type": "execute_result"
    }
   ],
   "source": [
    "RegLin.score(X_testOpti, y_testReg)"
   ]
  },
  {
   "cell_type": "markdown",
   "metadata": {},
   "source": [
    "Le R2 sur le test set est de 12,2%"
   ]
  },
  {
   "cell_type": "code",
   "execution_count": 64,
   "metadata": {},
   "outputs": [
    {
     "data": {
      "text/plain": [
       "array([0.21136776, 0.10292986, 0.09062216, 0.08502641])"
      ]
     },
     "execution_count": 64,
     "metadata": {},
     "output_type": "execute_result"
    }
   ],
   "source": [
    "RegLin.coef_"
   ]
  },
  {
   "cell_type": "code",
   "execution_count": 65,
   "metadata": {},
   "outputs": [
    {
     "data": {
      "text/plain": [
       "0.0002599360512270663"
      ]
     },
     "execution_count": 65,
     "metadata": {},
     "output_type": "execute_result"
    }
   ],
   "source": [
    "RegLin.intercept_"
   ]
  },
  {
   "cell_type": "markdown",
   "metadata": {},
   "source": [
    "#### Score de classification <a class=\"anchor\" id=\"3313\"></a>"
   ]
  },
  {
   "cell_type": "code",
   "execution_count": 66,
   "metadata": {},
   "outputs": [
    {
     "data": {
      "text/plain": [
       "0.6298013245033113"
      ]
     },
     "execution_count": 66,
     "metadata": {},
     "output_type": "execute_result"
    }
   ],
   "source": [
    "from sklearn.model_selection import KFold\n",
    "\n",
    "def ClassifWithReg_ScoreCV(model, seuil):\n",
    "    kf5 = KFold(n_splits=5, shuffle=False)\n",
    "    val_score=[]\n",
    "    for train_index, valid_index in kf5.split(X_trainOpti): #5 itérations, 1 pour chaque combinaison de split train/validation\n",
    "        \n",
    "        X_trainCV, X_validCV = X_trainOpti.iloc[train_index], X_trainOpti.iloc[valid_index]\n",
    "        y_trainReg_CV, y_validReg_CV = y_trainReg.iloc[train_index], y_trainReg.iloc[valid_index]\n",
    "        y_validClassif_CV = y_trainClassif.iloc[valid_index]\n",
    "        \n",
    "        model.fit(X_trainCV, y_trainReg_CV)\n",
    "        y_pred_reg = model.predict(X_validCV)\n",
    "        y_pred_regClassif = y_pred_reg>seuil\n",
    "        val_score.append(accuracy_score(y_validClassif_CV, y_pred_regClassif))\n",
    "    return(np.mean(val_score))\n",
    "\n",
    "\n",
    "val_score_LinearReg = ClassifWithReg_ScoreCV(RegLin, 0)\n",
    "val_score_LinearReg"
   ]
  },
  {
   "cell_type": "markdown",
   "metadata": {},
   "source": [
    "Le score de classification est de 62.9% lorsque l'on prédit \"1\" quand les rendements de la régression linéaire sont positifs."
   ]
  },
  {
   "cell_type": "code",
   "execution_count": 67,
   "metadata": {},
   "outputs": [],
   "source": [
    "y_pred_reg = RegLin.predict(X_testOpti)\n"
   ]
  },
  {
   "cell_type": "code",
   "execution_count": 68,
   "metadata": {},
   "outputs": [
    {
     "name": "stdout",
     "output_type": "stream",
     "text": [
      "[[113 100]\n",
      " [ 97 163]]\n",
      "0.5835095137420718\n"
     ]
    }
   ],
   "source": [
    "y_pred_regClassif = y_pred_reg>0\n",
    "\n",
    "test_score_LinearReg = accuracy_score(y_testClassif, y_pred_regClassif)\n",
    "\n",
    "print(confusion_matrix(y_testClassif,y_pred_regClassif))\n",
    "print(test_score_LinearReg)\n",
    "\n"
   ]
  },
  {
   "cell_type": "markdown",
   "metadata": {},
   "source": [
    "Le score sur le test set est de 58,3%"
   ]
  },
  {
   "cell_type": "code",
   "execution_count": 69,
   "metadata": {},
   "outputs": [],
   "source": [
    "# Pour effectuer un tableau récapitulatif à la fin\n",
    "\n",
    "Total_models[\"LinearReg>0\"] = LinearRegression()\n",
    "Total_best_params[\"LinearReg>0\"] = \"\"\n",
    "Total_val_score[\"LinearReg>0\"] = str(round(val_score_LinearReg*100,2))+ \" %\"\n",
    "Total_test_score[\"LinearReg>0\"] = str(round(test_score_LinearReg*100,2))+ \" %\""
   ]
  },
  {
   "cell_type": "markdown",
   "metadata": {},
   "source": [
    "### 2ème modèle : SVM <a class=\"anchor\" id=\"332\"></a>"
   ]
  },
  {
   "cell_type": "markdown",
   "metadata": {},
   "source": [
    "La régression par Machines à Vecteurs de Support (SVR) consiste à trouver la fonction f(x) qui a au plus\n",
    "une déviation ε par rapport aux exemples d’apprentissage (xi, yi), pour i = 1, . . . , N , et qui est le plus plate possible. \n",
    "\n",
    "Cela revient à ne pas considérer les erreurs inférieures à ε et à interdire celles supérieures à ε. Maximiser la platitude de la fonction permet de minimiser la complexité du modèle qui influe sur ses performances en généralisation. \n",
    "\n",
    "En effet, la théorie de l’apprentissage permet de borner l’erreur de généralisation par une somme de deux termes : l’un dépendant de la complexité du modèle et l’autre dépendant de l’erreur sur les données d’apprentissage."
   ]
  },
  {
   "cell_type": "markdown",
   "metadata": {},
   "source": [
    "#### Entraînement du modèle <a class=\"anchor\" id=\"3321\"></a>"
   ]
  },
  {
   "cell_type": "code",
   "execution_count": 70,
   "metadata": {},
   "outputs": [
    {
     "data": {
      "text/plain": [
       "0.10290309975681025"
      ]
     },
     "execution_count": 70,
     "metadata": {},
     "output_type": "execute_result"
    }
   ],
   "source": [
    "from sklearn.svm import SVR\n",
    "\n",
    "param_grid = {'kernel' : ['linear', 'rbf'],'C': [1, 10, 100, 1000],'gamma': [0.001, 0.0001]}\n",
    "param_grid={\n",
    "    'kernel' : ['linear', 'rbf'],\n",
    "    'C': [0.1,1,10],\n",
    "    'epsilon': [0.0001, 0.001, 0.01,  0.1, 0.5, 1, 5, 10],\n",
    "    'gamma': [0.001, 0.005, 0.1, 1, 5]\n",
    "}\n",
    "\n",
    "grid = GridSearchCV(SVR(), param_grid, cv=5)\n",
    "\n",
    "grid.fit(X_trainOpti, y_trainReg)\n",
    "grid.best_score_"
   ]
  },
  {
   "cell_type": "code",
   "execution_count": 71,
   "metadata": {},
   "outputs": [
    {
     "data": {
      "text/plain": [
       "{'C': 0.1, 'epsilon': 0.0001, 'gamma': 1, 'kernel': 'rbf'}"
      ]
     },
     "execution_count": 71,
     "metadata": {},
     "output_type": "execute_result"
    }
   ],
   "source": [
    "best_SVR = grid.best_estimator_\n",
    "best_SVR_params = grid.best_params_\n",
    "best_SVR_params"
   ]
  },
  {
   "cell_type": "markdown",
   "metadata": {},
   "source": [
    "Le R2 du modèle est de 10,3 soit un meilleur R2 que celui de la régression linéaire."
   ]
  },
  {
   "cell_type": "markdown",
   "metadata": {},
   "source": [
    "#### Résultats sur le test set <a class=\"anchor\" id=\"3322\"></a>"
   ]
  },
  {
   "cell_type": "code",
   "execution_count": 72,
   "metadata": {},
   "outputs": [
    {
     "data": {
      "text/plain": [
       "0.11453474441602318"
      ]
     },
     "execution_count": 72,
     "metadata": {},
     "output_type": "execute_result"
    }
   ],
   "source": [
    "best_SVR.fit(X_trainOpti, y_trainReg)\n",
    "best_SVR.score(X_testOpti, y_testReg)\n",
    "\n",
    "\n"
   ]
  },
  {
   "cell_type": "markdown",
   "metadata": {},
   "source": [
    "Alors que son R2 de validation est supérieur au modèle linéaire, celui-ci est inférieur sur les données de test. Malheuresement on ne peut utiliser nos résultats de test pour faire la sélection."
   ]
  },
  {
   "cell_type": "markdown",
   "metadata": {},
   "source": [
    "#### Score de classification <a class=\"anchor\" id=\"3323\"></a>"
   ]
  },
  {
   "cell_type": "code",
   "execution_count": 73,
   "metadata": {},
   "outputs": [
    {
     "data": {
      "text/plain": [
       "0.6364238410596027"
      ]
     },
     "execution_count": 73,
     "metadata": {},
     "output_type": "execute_result"
    }
   ],
   "source": [
    "val_score_SVR = ClassifWithReg_ScoreCV(best_SVR, 0)\n",
    "val_score_SVR"
   ]
  },
  {
   "cell_type": "markdown",
   "metadata": {},
   "source": [
    "Le score de validation est de 63,6% soit un score très proche au meilleure score de validation obtenu avec le knn dans la partie classification"
   ]
  },
  {
   "cell_type": "code",
   "execution_count": 74,
   "metadata": {},
   "outputs": [
    {
     "name": "stdout",
     "output_type": "stream",
     "text": [
      "[[107 106]\n",
      " [ 93 167]]\n",
      "0.5792811839323467\n"
     ]
    }
   ],
   "source": [
    "y_pred_SVR = best_SVR.predict(X_testOpti)\n",
    "\n",
    "y_pred_SVR_classif = y_pred_SVR>0\n",
    "\n",
    "test_score_SVR = accuracy_score(y_testClassif, y_pred_SVR_classif)\n",
    "print(confusion_matrix(y_testClassif,y_pred_SVR_classif))\n",
    "print(test_score_SVR)\n"
   ]
  },
  {
   "cell_type": "markdown",
   "metadata": {},
   "source": [
    "Le résultat sur le test set est nettement moins intéressant avec un score de 57,9%"
   ]
  },
  {
   "cell_type": "code",
   "execution_count": 75,
   "metadata": {},
   "outputs": [],
   "source": [
    "# Pour effectuer un tableau récapitulatif à la fin\n",
    "\n",
    "Total_models[\"SVR>0\"] = best_SVR\n",
    "Total_best_params[\"SVR>0\"] = best_SVR_params\n",
    "Total_val_score[\"SVR>0\"] = str(round(val_score_SVR*100,2))+ \" %\"\n",
    "Total_test_score[\"SVR>0\"] = str(round(test_score_SVR*100,2))+ \" %\""
   ]
  },
  {
   "cell_type": "markdown",
   "metadata": {},
   "source": [
    "### 3ème modèle : Ridge <a class=\"anchor\" id=\"333\"></a>"
   ]
  },
  {
   "cell_type": "markdown",
   "metadata": {},
   "source": [
    "Pour la regression de Ridge, on considère le problème d'optimisation suivant :\n",
    "\n",
    "\n",
    "* $ \\min_i{\\sum_{i}^n{l(Y_i,⟨{w},{\\phi(x_i)⟩})} + \\frac{\\lambda}{2} (||w||_2)^2}$\n",
    "\n",
    "avec λ le paramètre de penalisation et l la fonction de perte quadratique.\n",
    "\n",
    "On peut le réecrire de la manière suivante :\n",
    "\n",
    "* $ \\min_i{ (||y - Xw||_2)^2 + \\lambda(||ww||_2)^2}$\n",
    "\n",
    "C'est un problème strictement convexe et d'apres le \"representer theorem\" il existe $\\alpha$ tel qu'on puisse ecrire $ w = X^T * \\alpha$\n",
    "\n",
    "Et enfin : \n",
    "\n",
    "* $ \\alpha = (X^T*X + \\lambda*I)^{-1} *y $"
   ]
  },
  {
   "cell_type": "markdown",
   "metadata": {},
   "source": [
    "#### Entraînement du modèle <a class=\"anchor\" id=\"3331\"></a>"
   ]
  },
  {
   "cell_type": "code",
   "execution_count": 76,
   "metadata": {},
   "outputs": [
    {
     "data": {
      "text/plain": [
       "0.09982096074769735"
      ]
     },
     "execution_count": 76,
     "metadata": {},
     "output_type": "execute_result"
    }
   ],
   "source": [
    "from sklearn.linear_model import Ridge\n",
    "\n",
    "\n",
    "param_grid = {'alpha': np.arange(0, 0.2, 0.01) }\n",
    "\n",
    "\n",
    "grid = GridSearchCV(Ridge(), param_grid, cv=5)\n",
    "\n",
    "grid.fit(X_trainOpti, y_trainReg)\n",
    "grid.best_score_"
   ]
  },
  {
   "cell_type": "code",
   "execution_count": 77,
   "metadata": {},
   "outputs": [
    {
     "data": {
      "text/plain": [
       "{'alpha': 0.03}"
      ]
     },
     "execution_count": 77,
     "metadata": {},
     "output_type": "execute_result"
    }
   ],
   "source": [
    "best_ridge = grid.best_estimator_\n",
    "\n",
    "best_ridge_params = grid.best_params_\n",
    "best_ridge_params"
   ]
  },
  {
   "cell_type": "markdown",
   "metadata": {},
   "source": [
    "Le R2 est de 10% et est obtenu avec les paramètres ci-dessus."
   ]
  },
  {
   "cell_type": "markdown",
   "metadata": {},
   "source": [
    "#### Résultats sur le test set <a class=\"anchor\" id=\"3332\"></a>"
   ]
  },
  {
   "cell_type": "code",
   "execution_count": 78,
   "metadata": {},
   "outputs": [
    {
     "data": {
      "text/plain": [
       "0.12014135624089939"
      ]
     },
     "execution_count": 78,
     "metadata": {},
     "output_type": "execute_result"
    }
   ],
   "source": [
    "best_ridge.fit(X_trainOpti, y_trainReg)\n",
    "best_ridge.score(X_testOpti, y_testReg)\n"
   ]
  },
  {
   "cell_type": "markdown",
   "metadata": {},
   "source": [
    "Le R2 sur le test set est de 12%."
   ]
  },
  {
   "cell_type": "markdown",
   "metadata": {},
   "source": [
    "##### Score de classification <a class=\"anchor\" id=\"3333\"></a>"
   ]
  },
  {
   "cell_type": "code",
   "execution_count": 79,
   "metadata": {},
   "outputs": [
    {
     "data": {
      "text/plain": [
       "0.6337748344370862"
      ]
     },
     "execution_count": 79,
     "metadata": {},
     "output_type": "execute_result"
    }
   ],
   "source": [
    "val_score_ridge = ClassifWithReg_ScoreCV(best_ridge, 0)\n",
    "val_score_ridge"
   ]
  },
  {
   "cell_type": "markdown",
   "metadata": {},
   "source": [
    "Le score de validation est de 63.4%"
   ]
  },
  {
   "cell_type": "code",
   "execution_count": 80,
   "metadata": {},
   "outputs": [
    {
     "name": "stdout",
     "output_type": "stream",
     "text": [
      "[[106 107]\n",
      " [ 92 168]]\n",
      "0.5792811839323467\n"
     ]
    }
   ],
   "source": [
    "y_pred_ridge = best_ridge.predict(X_testOpti)\n",
    "\n",
    "y_pred_ridge_classif = y_pred_ridge>0\n",
    "\n",
    "test_score_ridge = accuracy_score(y_testClassif, y_pred_ridge_classif)\n",
    "print(confusion_matrix(y_testClassif,y_pred_ridge_classif))\n",
    "print(test_score_ridge)"
   ]
  },
  {
   "cell_type": "markdown",
   "metadata": {},
   "source": [
    "Le score sur le test set est de 58%"
   ]
  },
  {
   "cell_type": "code",
   "execution_count": 81,
   "metadata": {},
   "outputs": [],
   "source": [
    "# Pour effectuer un tableau récapitulatif à la fin\n",
    "\n",
    "Total_models[\"ridge>0\"] = best_ridge\n",
    "Total_best_params[\"ridge>0\"] = best_ridge_params\n",
    "Total_val_score[\"ridge>0\"] = str(round(val_score_ridge*100,2))+ \" %\"\n",
    "Total_test_score[\"ridge>0\"] = str(round(test_score_ridge*100,2))+ \" %\""
   ]
  },
  {
   "cell_type": "markdown",
   "metadata": {},
   "source": [
    "### Choix du meilleur modèle de régression  <a class=\"anchor\" id=\"334\"></a>"
   ]
  },
  {
   "cell_type": "markdown",
   "metadata": {},
   "source": [
    "Avec un coefficient de détermination R2 égale à 10,3% sur la cross validation le modèle SVM est le plus performant. Bien que son score sur le set de test est inférieur au modèle linéaire on ne peut pas utiliser le test set pour faire un choix de modèle."
   ]
  },
  {
   "cell_type": "code",
   "execution_count": 82,
   "metadata": {},
   "outputs": [],
   "source": [
    "BestRegModel = best_SVR"
   ]
  },
  {
   "cell_type": "markdown",
   "metadata": {},
   "source": [
    "# Définition des stratégies d'investissement <a class=\"anchor\" id=\"4\"></a>"
   ]
  },
  {
   "cell_type": "markdown",
   "metadata": {},
   "source": [
    "Maintenant que nous avons une vision plus globale sur les différents scores de validation des modèles, l'idée de cette partie est d'estimer également les rendements potentiels que peuvent nous fournir nos modélisations en les comparant aux rendements long-terme. Car rien ne nous garantit pour l'instant que les scores que l'on obtient pourront permettre une superformance des rendements long-terme.\n",
    "\n",
    "De plus, nous souhaitons analyser l'impact du choix des seuils sur les performances des investissements. En effet, nous avons pour l'instant considéré que le seuil optimal était à 0, c'est à dire que nous investissons lorsque l'on prédit des rendements positifs. L'idée est donc de voir l'impact d'un changement de seuil sur nos rendements.\n",
    "\n",
    "Les codes de cette partie sont donc assez lourd, car nous allons programmer manuellement de la cross-validation, afin de calculer une moyenne des indicateurs, sur le même principe que le calcul du score de cross-validation. Par exemple, lorsque l'on va calculer les rendements long terme on ne va pas les calculer sur l'ensemble de la période de notre train set (i.e 2013 à 2018) mais on va les calculer sur 5 divisions équitables du train set, puis faire la moyenne. Afin de pouvoir comparer ces rendements avec les rendements de nos modèles calculer selon le même principe de cross-validation.\n",
    "\n",
    "On va calculer par cross-validation, différents indicateurs :\n",
    "\n",
    "* Accuracy score : déjà calculé via GridSearchCV $= \\frac{Nombre~de~prédictions~correctes}{Nombre~total~de~prédictions} = \\frac{VP + VN}{VP + VN + FP + FN}$ (Rmq : pour éviter la confusion avec la précision définie ci-dessous on ne fait la traduction de l'accuracy).\n",
    "\n",
    "\n",
    "* Precision (ou encore valeur prédictive positive) : taux de réussite des prédictions positives = $\\frac{VP}{VP + FP}$ Cet indicateur sera très important pour nous, car nous investissons lorsque notre prédiction est \"positive\" c'est à dire que lorsque l'on prédit \"1\", il s'agit donc du taux de réussite de nos investissements. Une précision de 70% signifiera que 70% de nos investissements journaliers ont eu des rendements positifs et sont donc rentables.\n",
    "\n",
    "\n",
    "* Proportion des jours investit : part des jours durant lesquels on prédit des rendements positifs. Indicateur également important, car si nous atteignons une précision de 90% mais qu cela implique de devoir prédire 98% de \"0\" et 2% de \"1\" cela impliquera donc de devoir investir seulement 1 jour sur 50 ce qui n'est pas forcément le plus optimal.\n",
    "\n",
    "\n",
    "* Rendements : rendements calculés avec les pertes ou bénéfices composés. Par exemple si on commence le premier jour d'investissement avec 100 euros et qu'on en retire 101 euros. Pour le deuxième jour on n'investit non pas 100 euros mais 101. A partir du premier jour il n'y a donc aucune rentrée ni sortie d'argent. On considèrera donc pour le calcul des rendements sur l'ensemble de la période que l'on a misé uniquement 100 euros.\n",
    "\n",
    "\n",
    "* Rendements moyens sur les jours investit : on calcule les rendements journaliers moyens que l'on obtient lorsque l'on investit."
   ]
  },
  {
   "cell_type": "markdown",
   "metadata": {},
   "source": [
    "## Investissement à partir du meilleur modèle de classification <a class=\"anchor\" id=\"41\"></a>"
   ]
  },
  {
   "cell_type": "code",
   "execution_count": 83,
   "metadata": {},
   "outputs": [],
   "source": [
    "def InvestissementsModelesClassif(model):\n",
    "    kf5 = KFold(n_splits=5, shuffle=False)\n",
    "    \n",
    "    returns_par_cross_set = []\n",
    "    returns_daily_mean = []\n",
    "    part_investing_days = []\n",
    "    precision = []\n",
    "    \n",
    "    for train_index, valid_index in kf5.split(X_trainOpti):\n",
    "        X_trainCV, X_validCV = X_trainOpti.iloc[train_index], X_trainOpti.iloc[valid_index]\n",
    "        y_trainClassif_CV, y_validClassif_CV = y_trainClassif.iloc[train_index], y_trainClassif.iloc[valid_index]\n",
    "        y_validReg_CV = y_trainReg.iloc[valid_index]\n",
    "\n",
    "        model.fit(X_trainCV, y_trainClassif_CV)\n",
    "        y_pred = model.predict(X_validCV)\n",
    "        \n",
    "        cf = confusion_matrix(y_validClassif_CV, y_pred)\n",
    "        precision.append(cf[1,1]/(cf[1,1]+cf[0,1]))\n",
    "        \n",
    "        gain_precedent = 100\n",
    "        for i in range(len(y_pred)):\n",
    "            if (y_pred[i]==1):\n",
    "                gain_cumul = gain_precedent + (gain_precedent * list(y_validReg_CV)[i])\n",
    "                gain_precedent = gain_cumul\n",
    "                \n",
    "        returns_par_cross_set.append(gain_cumul-100)\n",
    "        returns_daily_mean.append(np.mean( y_validReg_CV[y_pred==1] ))\n",
    "        part_investing_days.append(sum(y_pred==1)/len(y_pred))\n",
    "        \n",
    "    return(np.mean(returns_par_cross_set), np.mean(returns_daily_mean), np.mean(part_investing_days), np.mean(precision))"
   ]
  },
  {
   "cell_type": "code",
   "execution_count": 84,
   "metadata": {},
   "outputs": [
    {
     "data": {
      "text/plain": [
       "(45.38863582371241,\n",
       " 0.0020593124951882092,\n",
       " 0.5947019867549669,\n",
       " 0.6544827595814494)"
      ]
     },
     "execution_count": 84,
     "metadata": {},
     "output_type": "execute_result"
    }
   ],
   "source": [
    "InvestissementsModelesClassif(BestClassifModel)"
   ]
  },
  {
   "cell_type": "markdown",
   "metadata": {},
   "source": [
    "Ces résultats seront commentés plus en détail avec le tableau final. On observe tout de même 45,4% de rendements en moyenne sur les 5 splits pour le meilleur modèle de classification (knn). Cela va nous permettre de comparer avec les autres méthodes à venir."
   ]
  },
  {
   "cell_type": "markdown",
   "metadata": {},
   "source": [
    "## Investissement à partir des probabilités de Random Forest - Détermination seuil <a class=\"anchor\" id=\"42\"></a>"
   ]
  },
  {
   "cell_type": "markdown",
   "metadata": {},
   "source": [
    "### Analyse graphique de l'impact du seuil sur les résultats d'investissements <a class=\"anchor\" id=\"421\"></a>"
   ]
  },
  {
   "cell_type": "markdown",
   "metadata": {},
   "source": [
    "Pour rappel, l'attribut predict_proba du modèle RF renvoie la part des arbres de décisions qui ont voté pour la classe \"1\". Le modèle classique prédit alors \"0\" lorsque cette probabilité est inférieure à 0.5 et 1 lorsqu'elle est supérieure. Dans cette partie, nous allons faire bouger ce seuil de 0.5 pour voir l'impact sur nos différents indicateurs."
   ]
  },
  {
   "cell_type": "code",
   "execution_count": 85,
   "metadata": {},
   "outputs": [],
   "source": [
    "model = best_RF\n",
    "\n",
    "kf5 = KFold(n_splits=5, shuffle=False)\n",
    "ensemble_seuils = np.linspace(0.2,0.8,13)\n",
    "\n",
    "#Total_(...) : score pour l'ensemble des seuils (score = moyenne des indicateurs  de chaque découpage de cross val)\n",
    "\n",
    "Total_accuracy = []\n",
    "Total_precision = []\n",
    "Total_prop_invest = []  # Part des jours où l'on investit\n",
    "Total_returns_invest = []  # Rendements moyen journalier de nos investissements\n",
    "Total_gain_cumul_invest = []  # Miser avec les intérêts cumulés (sans rentré ni sortie d'argent)\n",
    "Total_gain_long_terme = []  #Si on investit au début et qu'on se retire à la fin (moyenne des gains long terme sur chaque cross val set)\n",
    "\n",
    "for seuil in ensemble_seuils : #1 itération = 1 seuil\n",
    "    accuracy = []\n",
    "    precision = []\n",
    "    prop_invest = []\n",
    "    returns_invest =[]\n",
    "    gain_cumul_invest = []\n",
    "    gain_long_terme_CV = []\n",
    "    \n",
    "    for train_index, valid_index in kf5.split(X_trainOpti): #5 itérations, 1 pour chaque combinaison de split train/validation\n",
    "        \n",
    "        X_trainCV, X_validCV = X_trainOpti.iloc[train_index], X_trainOpti.iloc[valid_index]\n",
    "        y_trainClassif_CV, y_validClassif_CV = y_trainClassif.iloc[train_index], y_trainClassif.iloc[valid_index]\n",
    "        y_validReg_CV = y_trainReg.iloc[valid_index]\n",
    "        \n",
    "        model.fit(X_trainCV, y_trainClassif_CV)\n",
    "        y_pred_reg = model.predict_proba(X_validCV)[:,1]\n",
    "        y_pred_regClassif = y_pred_reg>seuil\n",
    "        \n",
    "        accuracy.append(accuracy_score(y_validClassif_CV, y_pred_regClassif))\n",
    "\n",
    "        \n",
    "        cf = confusion_matrix(y_validClassif_CV, y_pred_regClassif)\n",
    "        precision.append(cf[1,1]/(cf[1,1]+cf[0,1]))\n",
    "        \n",
    "        prop_invest.append(sum(y_pred_regClassif==1)/len(y_validClassif_CV))\n",
    "        \n",
    "\n",
    "        returns_invest.append(np.mean(y_validReg_CV[y_pred_regClassif==1])*100)   #On fait la moyenne des rendements journaliers \n",
    "                                                                              #lorsque l'on prédit des rendements positifs\n",
    "        gain_precedent = 100\n",
    "        for i in range(len(y_pred_regClassif)):\n",
    "            if (y_pred_regClassif[i]==True): \n",
    "                gain_cumul = gain_precedent * (1 + list(y_validReg_CV)[i])\n",
    "                gain_precedent = gain_cumul\n",
    "                \n",
    "        gain_cumul = gain_cumul  -100    \n",
    "        gain_cumul_invest.append(gain_cumul)\n",
    "        \n",
    "        n = len(y_validClassif_CV)\n",
    "        Open_val = data_train[\"Open_DJ\"].iloc[valid_index]\n",
    "        Close_val = data_train[\"Close_DJ\"].iloc[valid_index]\n",
    "        returns_lt = (list(Close_val)[n-1] - list(Open_val)[0])/list(Open_val)[0]\n",
    "        gain_long_terme_CV.append((returns_lt * 100))\n",
    "        \n",
    "    Total_accuracy.append(np.mean(accuracy))\n",
    "    Total_precision.append(np.mean(precision))\n",
    "    Total_prop_invest.append(np.mean(prop_invest)*100)\n",
    "    Total_returns_invest.append(np.mean(returns_invest))\n",
    "    Total_gain_cumul_invest.append(np.mean(gain_cumul_invest))\n",
    "    Total_gain_long_terme.append(np.mean(gain_long_terme_CV))"
   ]
  },
  {
   "cell_type": "code",
   "execution_count": 86,
   "metadata": {},
   "outputs": [
    {
     "data": {
      "image/png": "[encoded data removed]",
      "text/plain": [
       "<Figure size 432x288 with 2 Axes>"
      ]
     },
     "metadata": {
      "needs_background": "light"
     },
     "output_type": "display_data"
    }
   ],
   "source": [
    "x=ensemble_seuils \n",
    "y1= Total_precision\n",
    "y2 = Total_prop_invest\n",
    "\n",
    "\n",
    "fig, ax1 = plt.subplots()\n",
    "\n",
    "ax2 = ax1.twinx()\n",
    "ax1.plot(x, y1, 'g-')\n",
    "ax2.plot(x, y2, 'b-')\n",
    "\n",
    "ax1.set_xlabel(\"Seuil à partir duquel on décide d'investir\")\n",
    "ax1.set_ylabel(\"Taux de réussite (precision)\"  , color='g')\n",
    "ax2.set_ylabel(\"Part des jours où l'on investit (%)\", color='b')\n",
    "\n",
    "plt.show()"
   ]
  },
  {
   "cell_type": "markdown",
   "metadata": {},
   "source": [
    "Les résultats de ce graphe sont plutôt logiques. Plus on augmente le seuil et plus notre confiance dans la prédiction augmente, ce qui se traduit en pratique dans les résultats par une augmentation de la précision. Cependant plus on augmente l'exigence de confiance et plus la part des jours durant lesquels on investit est faible.\n",
    "\n",
    "Par exemple, si on prend le seuil classique de 0.5, on obtient une précision d'environ 65% et on investit sur environ 55% des jours.\n",
    "\n",
    "En prenant le seuil 0.6, on obtient une précision d'environ 70% mais on n'investit seulement sur 40% des jours.\n",
    "\n",
    "A partir du seuil de 0.6 on peut observer un plateau qui commence à se former, en effet en prenant le seuil de 0.65, la précision semble toujours être d'environ 70% mais on n'investit plus que sur 30% des jours."
   ]
  },
  {
   "cell_type": "code",
   "execution_count": 92,
   "metadata": {},
   "outputs": [
    {
     "data": {
      "image/png": "[encoded data removed]",
      "text/plain": [
       "<Figure size 432x288 with 2 Axes>"
      ]
     },
     "metadata": {
      "needs_background": "light"
     },
     "output_type": "display_data"
    }
   ],
   "source": [
    "x=ensemble_seuils\n",
    "y1 = Total_gain_cumul_invest\n",
    "\n",
    "y2= Total_returns_invest\n",
    "\n",
    "y3 = Total_gain_long_terme\n",
    "\n",
    "fig, ax1 = plt.subplots()\n",
    "\n",
    "ax2 = ax1.twinx()\n",
    "ax1.plot(x, y1, 'g-')\n",
    "ax1.plot(x, y3, 'r-', label = \"long term returns (no model)\")\n",
    "\n",
    "ax2.plot(x, y2, 'b-')\n",
    "\n",
    "ax1.set_xlabel(\"Seuil à partir duquel on décide d'investir\")\n",
    "ax1.set_ylabel(\"Rendements finaux (%)\"  , color='g')\n",
    "ax2.set_ylabel(\"Rendement moyen des jours investit (%)\", color='b')\n",
    "ax1.legend(loc=\"upper left\", title=\"Caption\", frameon=False)\n",
    "\n",
    "plt.show()"
   ]
  },
  {
   "cell_type": "markdown",
   "metadata": {},
   "source": [
    "De manière assez logique, plus on est conservateur et plus les rendements moyens journaliers augmentent. Cependant les rendements globaux diminuent car cela implique de devoir miser sur un plus faible nombre de jours. On observe dans tous les cas que notre modèle offre des rendements clairement supérieur à l'investissement long-terme."
   ]
  },
  {
   "cell_type": "code",
   "execution_count": 88,
   "metadata": {},
   "outputs": [
    {
     "name": "stdout",
     "output_type": "stream",
     "text": [
      "Les rendements obtenus avec un investissement long terme sont de 12.57 %\n"
     ]
    }
   ],
   "source": [
    "print(\"Les rendements obtenus avec un investissement long terme sont de \"+ str(round(Total_gain_long_terme[0],2))+\" %\")"
   ]
  },
  {
   "cell_type": "code",
   "execution_count": 89,
   "metadata": {},
   "outputs": [
    {
     "name": "stdout",
     "output_type": "stream",
     "text": [
      "Le score d'accuracy max est de 63.2 %\n",
      "Il est atteint pour le seuil : 0.5\n"
     ]
    }
   ],
   "source": [
    "print(\"Le score d'accuracy max est de\", round(max(Total_accuracy),3)*100,\"%\")\n",
    "index = Total_accuracy.index(max(Total_accuracy))\n",
    "print(\"Il est atteint pour le seuil :\", ensemble_seuils[index])"
   ]
  },
  {
   "cell_type": "code",
   "execution_count": 90,
   "metadata": {},
   "outputs": [
    {
     "name": "stdout",
     "output_type": "stream",
     "text": [
      "Les rendements maximums sont de : 42.4 %\n",
      "Il sont atteints pour le seuil : 0.5\n"
     ]
    }
   ],
   "source": [
    "print(\"Les rendements maximums sont de :\", round(max(Total_gain_cumul_invest),1), \"%\")\n",
    "index = Total_gain_cumul_invest.index(max(Total_gain_cumul_invest))\n",
    "print(\"Il sont atteints pour le seuil :\", ensemble_seuils[index])"
   ]
  },
  {
   "cell_type": "markdown",
   "metadata": {},
   "source": [
    "Les rendements maximums sont donc bien atteint pour le seuil de 0.5. On observe également que lorsqu"
   ]
  },
  {
   "cell_type": "code",
   "execution_count": 91,
   "metadata": {},
   "outputs": [
    {
     "name": "stdout",
     "output_type": "stream",
     "text": [
      "La precision maximale est de: 0.82 %\n",
      "Elle est atteinte pour le seuil de : 0.8\n",
      "Pour obtenir un tel score l'investissement ne se fait que sur  2.25 % des jours\n",
      "Ainsi les rendements sont relativements faibles ( 2.26 %) car malgré une precision elevée on investit très rarement\n"
     ]
    }
   ],
   "source": [
    "print(\"La precision maximale est de:\", round(max(Total_precision),2), \"%\")\n",
    "index = Total_precision.index(max(Total_precision))\n",
    "print(\"Elle est atteinte pour le seuil de :\", round(ensemble_seuils[index],3))\n",
    "print(\"Pour obtenir un tel score l'investissement ne se fait que sur \", round(Total_prop_invest[index],2), \"% des jours\")\n",
    "print(\"Ainsi les rendements sont relativements faibles (\",round(Total_gain_cumul_invest[index],2) ,\"%) car malgré une precision elevée on investit très rarement\")"
   ]
  },
  {
   "cell_type": "markdown",
   "metadata": {},
   "source": [
    "On décide finalement en plus du seuil de 0.5, de faire une étude supplémentaire sur le seuil de 0.6 qui semble un bon compromis entre une meilleure précision que le modèle basique tout en n'étant pas trop conservateur en misant sur environ 40% des jours."
   ]
  },
  {
   "cell_type": "markdown",
   "metadata": {},
   "source": [
    "### Résultats pour le seuil sélectionné <a class=\"anchor\" id=\"422\"></a>"
   ]
  },
  {
   "cell_type": "code",
   "execution_count": 93,
   "metadata": {},
   "outputs": [
    {
     "name": "stdout",
     "output_type": "stream",
     "text": [
      "0.6152317880794702\n"
     ]
    }
   ],
   "source": [
    "index = np.where(ensemble_seuils==0.6000000000000001)[0][0]\n",
    "val_score_RF60 = Total_accuracy[index]\n",
    "\n",
    "print(val_score_RF60)\n"
   ]
  },
  {
   "cell_type": "markdown",
   "metadata": {},
   "source": [
    "Le score d'accuracy total est plus faible qu'avec le seuil 0.5 car la valeur prédictive négative est beaucoup plus faible ($= \\frac{VN}{VN + FN}$), vu qu'on exclu par précaution beaucoup de jours avec rendements positifs."
   ]
  },
  {
   "cell_type": "code",
   "execution_count": 94,
   "metadata": {},
   "outputs": [
    {
     "name": "stdout",
     "output_type": "stream",
     "text": [
      "0.5792811839323467\n"
     ]
    }
   ],
   "source": [
    "model.fit(X_trainOpti, y_trainClassif)\n",
    "y_pred_reg = model.predict_proba(X_testOpti)[:,1]\n",
    "y_pred_regClassif = y_pred_reg>0.6\n",
    "\n",
    "test_score_RF60 = accuracy_score(y_testClassif, y_pred_regClassif)\n",
    "\n",
    "print(test_score_RF60)"
   ]
  },
  {
   "cell_type": "markdown",
   "metadata": {},
   "source": [
    "Comme attendu le score d'accuracy sur le test set est de 57,9% ce qui est assez faible."
   ]
  },
  {
   "cell_type": "code",
   "execution_count": 95,
   "metadata": {},
   "outputs": [],
   "source": [
    "# Pour effectuer un tableau récapitulatif à la fin\n",
    "\n",
    "Total_models[\"RF60\"] = best_RF\n",
    "Total_best_params[\"RF60\"] = best_RF_params\n",
    "Total_val_score[\"RF60\"] = str(round(val_score_RF60*100,2))+ \" %\"\n",
    "Total_test_score[\"RF60\"] = str(round(test_score_RF60*100,2))+ \" %\""
   ]
  },
  {
   "cell_type": "markdown",
   "metadata": {},
   "source": [
    "## Investissement à partir du meilleur modèle de régression - Détermination seuil <a class=\"anchor\" id=\"43\"></a>"
   ]
  },
  {
   "cell_type": "markdown",
   "metadata": {},
   "source": [
    "### Analyse graphique de l'impact du seuil sur les résultats d'investissements <a class=\"anchor\" id=\"431\"></a>"
   ]
  },
  {
   "cell_type": "markdown",
   "metadata": {},
   "source": [
    "Cette fois-ci on décide de faire varier le seuil associé au score du modèle de régression. Dans la partie \"régression\" nous avions fixé ce seuil à 0, mais l'idée est encore une fois de voir si ce choix est optimal."
   ]
  },
  {
   "cell_type": "code",
   "execution_count": 96,
   "metadata": {},
   "outputs": [],
   "source": [
    "kf5 = KFold(n_splits=5, shuffle=False)\n",
    "\n",
    "ensemble_seuils = np.linspace(-1/100,0.5/100,31)\n",
    "\n",
    "#Total_(...) : score pour l'ensemble des seuils (score = moyenne des indicateurs  de chaque découpage de cross val)\n",
    "\n",
    "Total_accuracy = []\n",
    "Total_precision = []  \n",
    "Total_prop_invest = []  # Part des jours où l'on investit\n",
    "Total_returns_invest = []  # Rendements moyen journalier de nos investissements\n",
    "Total_gain_cumul_invest = []  # Miser avec les intérêts cumulés (sans rentré ni sortie d'argent)\n",
    "Total_gain_long_terme = []  #Si on investit au début et qu'on se retire à la fin (moyenne des gains long terme sur chaque cross val set)\n",
    "\n",
    "for seuil in ensemble_seuils : #1 itération = 1 seuil\n",
    "    accuracy = []\n",
    "    precision = []\n",
    "    prop_invest = []\n",
    "    returns_invest =[]\n",
    "    gain_cumul_invest = []\n",
    "    gain_long_terme_CV = []\n",
    "    \n",
    "    for train_index, valid_index in kf5.split(X_trainOpti): #5 itérations, 1 pour chaque combinaison de split train/validation\n",
    "        \n",
    "        X_trainCV, X_validCV = X_trainOpti.iloc[train_index], X_trainOpti.iloc[valid_index]\n",
    "        y_trainCV, y_validCV = y_trainReg.iloc[train_index], y_trainReg.iloc[valid_index]\n",
    "        y_validClassifCV = y_trainClassif.iloc[valid_index]\n",
    "        \n",
    "        BestRegModel.fit(X_trainCV, y_trainCV)\n",
    "        y_pred_reg = BestRegModel.predict(X_validCV)\n",
    "        y_pred_regClassif = y_pred_reg>seuil\n",
    "        \n",
    "        accuracy.append(accuracy_score(y_validClassifCV, y_pred_regClassif))\n",
    "        \n",
    "        cf = confusion_matrix(y_validClassifCV, y_pred_regClassif)\n",
    "        precision.append(cf[1,1]/(cf[1,1]+cf[0,1]))\n",
    "        \n",
    "        prop_invest.append(sum(y_pred_regClassif==1)/len(y_validClassifCV))\n",
    "        \n",
    "\n",
    "        returns_invest.append(np.mean(y_validCV[y_pred_regClassif==1])*100)   #On fait la moyenne des rendements journaliers \n",
    "                                                                              #lorsque l'on prédit des rendements positifs\n",
    "        gain_precedent = 100\n",
    "        for i in range(len(y_pred_regClassif)):\n",
    "            if (y_pred_regClassif[i]==True): \n",
    "                gain_cumul = gain_precedent * (1 + list(y_validCV)[i])\n",
    "                gain_precedent = gain_cumul\n",
    "                \n",
    "        gain_cumul = gain_cumul  -100    \n",
    "        gain_cumul_invest.append(gain_cumul)\n",
    "        \n",
    "        n = len(y_validCV)\n",
    "        Open_val = data_train[\"Open_DJ\"].iloc[valid_index]\n",
    "        Close_val = data_train[\"Close_DJ\"].iloc[valid_index]\n",
    "        returns_lt = (list(Close_val)[n-1] - list(Open_val)[0])/list(Open_val)[0]\n",
    "        gain_long_terme_CV.append((returns_lt * 100))\n",
    "        \n",
    "    Total_accuracy.append(np.mean(accuracy))\n",
    "    Total_precision.append(np.mean(precision))\n",
    "    Total_prop_invest.append(np.mean(prop_invest)*100)\n",
    "    Total_returns_invest.append(np.mean(returns_invest))\n",
    "    Total_gain_cumul_invest.append(np.mean(gain_cumul_invest))\n",
    "    Total_gain_long_terme.append(np.mean(gain_long_terme_CV))"
   ]
  },
  {
   "cell_type": "code",
   "execution_count": 97,
   "metadata": {},
   "outputs": [
    {
     "data": {
      "image/png": "[encoded data removed]",
      "text/plain": [
       "<Figure size 432x288 with 2 Axes>"
      ]
     },
     "metadata": {
      "needs_background": "light"
     },
     "output_type": "display_data"
    }
   ],
   "source": [
    "x=ensemble_seuils * 100  # *100 pour mettre en pourcentage\n",
    "y1= Total_precision\n",
    "y2 = Total_prop_invest\n",
    "y3 = Total_accuracy\n",
    "\n",
    "fig, ax1 = plt.subplots()\n",
    "\n",
    "ax2 = ax1.twinx()\n",
    "ax1.plot(x, y1, 'g-')\n",
    "\n",
    "ax2.plot(x, y2, 'b-')\n",
    "\n",
    "ax1.set_xlabel(\"Seuil à partir duquel on décide d'investir\")\n",
    "ax1.set_ylabel(\"Taux de réussite (precision)\"  , color='g')\n",
    "ax2.set_ylabel(\"Part des jours où l'on investit (%)\", color='b')\n",
    "\n",
    "plt.show()"
   ]
  },
  {
   "cell_type": "markdown",
   "metadata": {},
   "source": [
    "On fait globalement les mêmes observations qu'avec Random Forest, plus on est conservateur et plus notre précision augmente, au détriment du nombre de jours sur lesquels on investit."
   ]
  },
  {
   "cell_type": "markdown",
   "metadata": {},
   "source": [
    "Par exemple si l'on décide d'investir uniquement lorsque la régression prédit un rendement supérieur à 0.2%, cela représenterait un peu moins de 20% des jours travaillés pour un taux de réussite d'environ 70%."
   ]
  },
  {
   "cell_type": "code",
   "execution_count": 102,
   "metadata": {},
   "outputs": [
    {
     "data": {
      "image/png": "[encoded data removed]",
      "text/plain": [
       "<Figure size 432x288 with 2 Axes>"
      ]
     },
     "metadata": {
      "needs_background": "light"
     },
     "output_type": "display_data"
    }
   ],
   "source": [
    "x=ensemble_seuils * 100\n",
    "y1 = Total_gain_cumul_invest\n",
    "\n",
    "y2= Total_returns_invest\n",
    "\n",
    "y3 = Total_gain_long_terme\n",
    "\n",
    "fig, ax1 = plt.subplots()\n",
    "\n",
    "ax2 = ax1.twinx()\n",
    "ax1.plot(x, y1, 'g-')\n",
    "ax1.plot(x, y3, 'r-', label = \"long term returns (no model)\")\n",
    "\n",
    "ax2.plot(x, y2, 'b-')\n",
    "\n",
    "ax1.set_xlabel(\"Seuil à partir duquel on décide d'investir\")\n",
    "ax1.set_ylabel(\"Rendements finaux (%)\"  , color='g')\n",
    "ax2.set_ylabel(\"Rendement moyen des jours investit (%)\", color='b')\n",
    "ax1.legend(loc=\"upper left\", title=\"Caption\", frameon=False)\n",
    "\n",
    "plt.show()"
   ]
  },
  {
   "cell_type": "markdown",
   "metadata": {},
   "source": [
    "Les rendements moyens journaliers atteignent un maximum local aux alentours des 0.2 puis diminuent jusqu'aux alentours des 0.35."
   ]
  },
  {
   "cell_type": "code",
   "execution_count": 103,
   "metadata": {},
   "outputs": [
    {
     "name": "stdout",
     "output_type": "stream",
     "text": [
      "Le score d'accuracy max est de 63.6 %\n",
      "Il est atteint pour le seuil : 0.0\n"
     ]
    }
   ],
   "source": [
    "print(\"Le score d'accuracy max est de\", round(max(Total_accuracy),3)*100,\"%\")\n",
    "index = Total_accuracy.index(max(Total_accuracy))\n",
    "print(\"Il est atteint pour le seuil :\", ensemble_seuils[index])"
   ]
  },
  {
   "cell_type": "code",
   "execution_count": 104,
   "metadata": {},
   "outputs": [
    {
     "name": "stdout",
     "output_type": "stream",
     "text": [
      "Les rendements maximums sont de : 45.0 %\n",
      "Il sont atteints pour le seuil : 0.0\n"
     ]
    }
   ],
   "source": [
    "print(\"Les rendements maximums sont de :\", round(max(Total_gain_cumul_invest),1), \"%\")\n",
    "index = Total_gain_cumul_invest.index(max(Total_gain_cumul_invest))\n",
    "print(\"Il sont atteints pour le seuil :\", ensemble_seuils[index])"
   ]
  },
  {
   "cell_type": "code",
   "execution_count": 105,
   "metadata": {},
   "outputs": [
    {
     "name": "stdout",
     "output_type": "stream",
     "text": [
      "La precision maximale est de: 0.78 %\n",
      "Elle est atteinte pour le seuil de : 0.4\n",
      "Pour obtenir un tel score l'investissement ne se fait que sur  2.3 % des jours\n",
      "Ainsi les rendements sont relativements faibles ( 4.3 %) car malgré une precision elevée on investit très rarement\n"
     ]
    }
   ],
   "source": [
    "print(\"La precision maximale est de:\", round(max(Total_precision),2), \"%\")\n",
    "index = Total_precision.index(max(Total_precision))\n",
    "print(\"Elle est atteinte pour le seuil de :\", round(ensemble_seuils[index],3)*100)\n",
    "print(\"Pour obtenir un tel score l'investissement ne se fait que sur \", round(Total_prop_invest[index],1), \"% des jours\")\n",
    "print(\"Ainsi les rendements sont relativements faibles (\",round(Total_gain_cumul_invest[index],1) ,\"%) car malgré une precision elevée on investit très rarement\")"
   ]
  },
  {
   "cell_type": "markdown",
   "metadata": {},
   "source": [
    "Encore une fois le seuil optimal semble être celui qu'on avait sélectionné. Cependant on décide de faire une deuxième étude en sélectionnant le seuil de 0.2 qui est encore un peu plus conservateur que celui du Random Forest."
   ]
  },
  {
   "cell_type": "markdown",
   "metadata": {},
   "source": [
    "### Résultats pour le seuil sélectionné <a class=\"anchor\" id=\"432\"></a>"
   ]
  },
  {
   "cell_type": "code",
   "execution_count": 106,
   "metadata": {},
   "outputs": [
    {
     "name": "stdout",
     "output_type": "stream",
     "text": [
      "0.5291390728476821\n"
     ]
    }
   ],
   "source": [
    "index = np.where(ensemble_seuils==0.2/100)[0][0]\n",
    "val_score_SVRSeuil = Total_accuracy[index]\n",
    "print(val_score_SVRSeuil)"
   ]
  },
  {
   "cell_type": "markdown",
   "metadata": {},
   "source": [
    "L'accuracy score est de 52.9%, ce qui est beaucoup plus faible qu'avec les autres modèles. En voulant être trop prudent, on exclu de nombreux jours qui fournissaient des rendements positifs ce qui fait baisser l'accuracy."
   ]
  },
  {
   "cell_type": "code",
   "execution_count": 107,
   "metadata": {},
   "outputs": [
    {
     "name": "stdout",
     "output_type": "stream",
     "text": [
      "0.5496828752642706\n"
     ]
    }
   ],
   "source": [
    "best_SVR.fit(X_trainOpti, y_trainClassif)\n",
    "y_pred_reg = best_SVR.predict(X_testOpti)\n",
    "y_pred_regClassif = y_pred_reg>(0.2/100)\n",
    "\n",
    "test_score_SVRSeuil = accuracy_score(y_testClassif, y_pred_regClassif)\n",
    "\n",
    "print(test_score_SVRSeuil)"
   ]
  },
  {
   "cell_type": "code",
   "execution_count": 108,
   "metadata": {},
   "outputs": [],
   "source": [
    "Total_models[\"SVR>0.2\"] = best_SVR\n",
    "Total_best_params[\"SVR>0.2\"] = best_SVR_params\n",
    "Total_val_score[\"SVR>0.2\"] = str(round(val_score_SVRSeuil*100,2))+ \" %\"\n",
    "Total_test_score[\"SVR>0.2\"] = str(round(test_score_SVRSeuil*100,2))+ \" %\""
   ]
  },
  {
   "cell_type": "markdown",
   "metadata": {},
   "source": [
    "# Récapitulatif des résultats et choix de l'investissement optimal <a class=\"anchor\" id=\"5\"></a>"
   ]
  },
  {
   "cell_type": "markdown",
   "metadata": {},
   "source": [
    "Cette partie a pour but de choisir l'investissement optimal avant de calculer les résultats finaux sur le test set. Pour ce faire on va résumer l'ensemble des indicateurs dans un tableau récapitulatif, les prochaines fonctions vont nous permettent de remplir ce tableau."
   ]
  },
  {
   "cell_type": "markdown",
   "metadata": {},
   "source": [
    "## Fonctions permettant de remplir le tableau récapitulatif <a class=\"anchor\" id=\"51\"></a>"
   ]
  },
  {
   "cell_type": "code",
   "execution_count": 109,
   "metadata": {},
   "outputs": [],
   "source": [
    "def InvestissementsModelesReg(model, seuil, type=\"Reg\"):\n",
    "    kf5 = KFold(n_splits=5, shuffle=False)\n",
    "    \n",
    "    returns_par_cross_set = []\n",
    "    returns_daily_mean = []\n",
    "    part_investing_days = []\n",
    "    precision = []\n",
    "    \n",
    "    for train_index, valid_index in kf5.split(X_trainOpti):\n",
    "        X_trainCV, X_validCV = X_trainOpti.iloc[train_index], X_trainOpti.iloc[valid_index]\n",
    "        y_trainReg_CV, y_validClassif_CV = y_trainReg.iloc[train_index], y_trainClassif.iloc[valid_index]\n",
    "        y_trainClassif_CV, y_validReg_CV = y_trainClassif.iloc[train_index],y_trainReg.iloc[valid_index]\n",
    "        \n",
    "        if type==\"Classif\":\n",
    "            model.fit(X_trainCV, y_trainClassif_CV)\n",
    "            y_pred_reg = model.predict_proba(X_validCV)[:,1]\n",
    "            \n",
    "        else :\n",
    "            model.fit(X_trainCV, y_trainReg_CV)\n",
    "            y_pred_reg = model.predict(X_validCV)\n",
    "            \n",
    "        y_pred = y_pred_reg>seuil\n",
    "        \n",
    "        cf = confusion_matrix(y_validClassif_CV, y_pred)\n",
    "        precision.append(cf[1,1]/(cf[1,1]+cf[0,1]))\n",
    "        \n",
    "        gain_precedent = 100\n",
    "        for i in range(len(y_pred)):\n",
    "            if (y_pred[i]==1):\n",
    "                gain_cumul = gain_precedent + (gain_precedent * list(y_validReg_CV)[i])\n",
    "                gain_precedent = gain_cumul\n",
    "\n",
    "        returns_par_cross_set.append(gain_cumul-100)\n",
    "        returns_daily_mean.append(np.mean( y_validReg_CV[y_pred==1] ))\n",
    "        part_investing_days.append(sum(y_pred==1)/len(y_pred))\n",
    "        \n",
    "\n",
    "    return(np.mean(returns_par_cross_set), np.mean(returns_daily_mean), np.mean(part_investing_days), np.mean(precision))    "
   ]
  },
  {
   "cell_type": "code",
   "execution_count": 110,
   "metadata": {},
   "outputs": [],
   "source": [
    "Modeles = list(Total_models.keys())\n",
    "Classif = Modeles[0:4]\n",
    "Classif_avec_seuil = Modeles[4:]"
   ]
  },
  {
   "cell_type": "code",
   "execution_count": 111,
   "metadata": {},
   "outputs": [],
   "source": [
    "Seuils = [0,0,0,0.6, 0.2/100] \n",
    "Type=[\"Reg\",\"Reg\",\"Reg\",\"Classif\", \"Reg\"]"
   ]
  },
  {
   "cell_type": "code",
   "execution_count": 112,
   "metadata": {},
   "outputs": [],
   "source": [
    "Total_val_returns = []\n",
    "Total_val_daily_returns = []\n",
    "Total_val_investing_days = []\n",
    "Total_val_precision = []\n",
    "\n",
    "i = 0\n",
    "for modele_name in Modeles:\n",
    "    if modele_name in Classif :\n",
    "        Model = Total_models[modele_name]\n",
    "        v = InvestissementsModelesClassif(Model)\n",
    "        \n",
    "    if modele_name in Classif_avec_seuil : \n",
    "        Model = Total_models[modele_name]\n",
    "        v = InvestissementsModelesReg(Model, Seuils[i], Type[i])\n",
    "        i=i+1\n",
    "        \n",
    "    returns = str(round(v[0], 2))+\" %\"\n",
    "    daily_returns = str(round(v[1]*100, 2))+\" %\"\n",
    "    investing_days = str(round(v[2]*100, 2))+\" %\"\n",
    "    precision = str(round(v[3]*100, 2))+\" %\"\n",
    "\n",
    "    Total_val_returns.append(returns)\n",
    "    Total_val_daily_returns.append(daily_returns)\n",
    "    Total_val_investing_days.append(investing_days)\n",
    "    Total_val_precision.append(precision)"
   ]
  },
  {
   "cell_type": "markdown",
   "metadata": {},
   "source": [
    "### Fonction concernant l'investissement long-terme"
   ]
  },
  {
   "cell_type": "code",
   "execution_count": 113,
   "metadata": {},
   "outputs": [],
   "source": [
    "kf5 = KFold(n_splits=5, shuffle=False)\n",
    "\n",
    "val_score = []\n",
    "precision = []\n",
    "returns_par_cross_set = []\n",
    "returns_daily_mean = []\n",
    "    \n",
    "for train_index, valid_index in kf5.split(X_trainOpti):\n",
    "    X_trainCV, X_validCV = X_trainOpti.iloc[train_index], X_trainOpti.iloc[valid_index]\n",
    "    y_trainReg_CV, y_validClassif_CV = y_trainReg.iloc[train_index], y_trainClassif.iloc[valid_index]\n",
    "    y_trainClassif_CV, y_validReg_CV = y_trainClassif.iloc[train_index],y_trainReg.iloc[valid_index]\n",
    "    \n",
    "    y_pred = [1]*len(y_validClassif_CV)\n",
    "    \n",
    "    val_score.append(accuracy_score(y_validClassif_CV, y_pred))\n",
    "    \n",
    "    cf = confusion_matrix(y_validClassif_CV, y_pred)\n",
    "    precision.append(cf[1,1]/(cf[1,1]+cf[0,1]))\n",
    "        \n",
    "    returns_daily_mean.append(np.mean(y_validReg_CV))\n",
    "\n",
    "val_score_longCV = np.mean(val_score)    \n",
    "precision_longCV =  str(round(np.mean(precision)*100,2))+ \" %\"\n",
    "returns_longCV = str(round(Total_gain_long_terme[0],2))+\" %\"\n",
    "returns_daily_mean_longCV = str(round(np.mean(returns_daily_mean)*100,2))+\" %\""
   ]
  },
  {
   "cell_type": "code",
   "execution_count": 114,
   "metadata": {},
   "outputs": [],
   "source": [
    "Total_val_returns.append(returns_longCV)\n",
    "Total_val_daily_returns.append(returns_daily_mean_longCV)\n",
    "Total_val_investing_days.append(\"100 %\")\n",
    "Total_val_precision.append(precision_longCV)"
   ]
  },
  {
   "cell_type": "code",
   "execution_count": 115,
   "metadata": {},
   "outputs": [],
   "source": [
    "Total_models[\"No models - long term\"] = \"\"\n",
    "Total_best_params[\"No models - long term\"] = \"\"\n",
    "Total_val_score[\"No models - long term\"] = str(round(val_score_longCV*100,2))+ \" %\"\n"
   ]
  },
  {
   "cell_type": "markdown",
   "metadata": {},
   "source": [
    "## Tableau récapitulatif <a class=\"anchor\" id=\"52\"></a>"
   ]
  },
  {
   "cell_type": "code",
   "execution_count": 116,
   "metadata": {
    "scrolled": true
   },
   "outputs": [
    {
     "data": {
      "text/html": [
       "<div>\n",
       "<style scoped>\n",
       "    .dataframe tbody tr th:only-of-type {\n",
       "        vertical-align: middle;\n",
       "    }\n",
       "\n",
       "    .dataframe tbody tr th {\n",
       "        vertical-align: top;\n",
       "    }\n",
       "\n",
       "    .dataframe thead th {\n",
       "        text-align: right;\n",
       "    }\n",
       "</style>\n",
       "<table border=\"1\" class=\"dataframe\">\n",
       "  <thead>\n",
       "    <tr style=\"text-align: right;\">\n",
       "      <th></th>\n",
       "      <th>Best parameters</th>\n",
       "      <th>Val - Score</th>\n",
       "      <th>Val - Precision</th>\n",
       "      <th>Val - Total returns</th>\n",
       "      <th>Val - Daily mean returns</th>\n",
       "      <th>Val - Part of investing days</th>\n",
       "    </tr>\n",
       "  </thead>\n",
       "  <tbody>\n",
       "    <tr>\n",
       "      <th>CART</th>\n",
       "      <td>{'criterion': 'gini', 'max_depth': 1}</td>\n",
       "      <td>61.99 %</td>\n",
       "      <td>64.57 %</td>\n",
       "      <td>39.68 %</td>\n",
       "      <td>0.19 %</td>\n",
       "      <td>56.75 %</td>\n",
       "    </tr>\n",
       "    <tr>\n",
       "      <th>RF</th>\n",
       "      <td>{'criterion': 'entropy', 'max_depth': 4, 'n_es...</td>\n",
       "      <td>63.11 %</td>\n",
       "      <td>65.17 %</td>\n",
       "      <td>42.4 %</td>\n",
       "      <td>0.2 %</td>\n",
       "      <td>58.61 %</td>\n",
       "    </tr>\n",
       "    <tr>\n",
       "      <th>LASSO</th>\n",
       "      <td>{'C': 10.0, 'penalty': 'l1'}</td>\n",
       "      <td>63.38 %</td>\n",
       "      <td>62.92 %</td>\n",
       "      <td>42.67 %</td>\n",
       "      <td>0.17 %</td>\n",
       "      <td>68.81 %</td>\n",
       "    </tr>\n",
       "    <tr>\n",
       "      <th>KNN</th>\n",
       "      <td>{'metric': 'euclidean', 'n_neighbors': 66}</td>\n",
       "      <td>63.71 %</td>\n",
       "      <td>65.45 %</td>\n",
       "      <td>45.39 %</td>\n",
       "      <td>0.21 %</td>\n",
       "      <td>59.47 %</td>\n",
       "    </tr>\n",
       "    <tr>\n",
       "      <th>LinearReg&gt;0</th>\n",
       "      <td></td>\n",
       "      <td>62.98 %</td>\n",
       "      <td>65.29 %</td>\n",
       "      <td>42.13 %</td>\n",
       "      <td>0.2 %</td>\n",
       "      <td>57.55 %</td>\n",
       "    </tr>\n",
       "    <tr>\n",
       "      <th>SVR&gt;0</th>\n",
       "      <td>{'C': 0.1, 'epsilon': 0.0001, 'gamma': 1, 'ker...</td>\n",
       "      <td>63.64 %</td>\n",
       "      <td>64.58 %</td>\n",
       "      <td>45.04 %</td>\n",
       "      <td>0.19 %</td>\n",
       "      <td>62.45 %</td>\n",
       "    </tr>\n",
       "    <tr>\n",
       "      <th>ridge&gt;0</th>\n",
       "      <td>{'alpha': 0.03}</td>\n",
       "      <td>63.38 %</td>\n",
       "      <td>65.49 %</td>\n",
       "      <td>42.88 %</td>\n",
       "      <td>0.2 %</td>\n",
       "      <td>58.08 %</td>\n",
       "    </tr>\n",
       "    <tr>\n",
       "      <th>RF60</th>\n",
       "      <td>{'criterion': 'entropy', 'max_depth': 4, 'n_es...</td>\n",
       "      <td>61.52 %</td>\n",
       "      <td>69.7 %</td>\n",
       "      <td>38.24 %</td>\n",
       "      <td>0.26 %</td>\n",
       "      <td>39.8 %</td>\n",
       "    </tr>\n",
       "    <tr>\n",
       "      <th>SVR&gt;0.2</th>\n",
       "      <td>{'C': 0.1, 'epsilon': 0.0001, 'gamma': 1, 'ker...</td>\n",
       "      <td>52.91 %</td>\n",
       "      <td>69.51 %</td>\n",
       "      <td>24.04 %</td>\n",
       "      <td>0.35 %</td>\n",
       "      <td>16.49 %</td>\n",
       "    </tr>\n",
       "    <tr>\n",
       "      <th>No models - long term</th>\n",
       "      <td></td>\n",
       "      <td>54.44 %</td>\n",
       "      <td>54.44 %</td>\n",
       "      <td>12.57 %</td>\n",
       "      <td>0.03 %</td>\n",
       "      <td>100 %</td>\n",
       "    </tr>\n",
       "  </tbody>\n",
       "</table>\n",
       "</div>"
      ],
      "text/plain": [
       "                                                         Best parameters  \\\n",
       "CART                               {'criterion': 'gini', 'max_depth': 1}   \n",
       "RF                     {'criterion': 'entropy', 'max_depth': 4, 'n_es...   \n",
       "LASSO                                       {'C': 10.0, 'penalty': 'l1'}   \n",
       "KNN                           {'metric': 'euclidean', 'n_neighbors': 66}   \n",
       "LinearReg>0                                                                \n",
       "SVR>0                  {'C': 0.1, 'epsilon': 0.0001, 'gamma': 1, 'ker...   \n",
       "ridge>0                                                  {'alpha': 0.03}   \n",
       "RF60                   {'criterion': 'entropy', 'max_depth': 4, 'n_es...   \n",
       "SVR>0.2                {'C': 0.1, 'epsilon': 0.0001, 'gamma': 1, 'ker...   \n",
       "No models - long term                                                      \n",
       "\n",
       "                      Val - Score Val - Precision Val - Total returns  \\\n",
       "CART                      61.99 %         64.57 %             39.68 %   \n",
       "RF                        63.11 %         65.17 %              42.4 %   \n",
       "LASSO                     63.38 %         62.92 %             42.67 %   \n",
       "KNN                       63.71 %         65.45 %             45.39 %   \n",
       "LinearReg>0               62.98 %         65.29 %             42.13 %   \n",
       "SVR>0                     63.64 %         64.58 %             45.04 %   \n",
       "ridge>0                   63.38 %         65.49 %             42.88 %   \n",
       "RF60                      61.52 %          69.7 %             38.24 %   \n",
       "SVR>0.2                   52.91 %         69.51 %             24.04 %   \n",
       "No models - long term     54.44 %         54.44 %             12.57 %   \n",
       "\n",
       "                      Val - Daily mean returns Val - Part of investing days  \n",
       "CART                                    0.19 %                      56.75 %  \n",
       "RF                                       0.2 %                      58.61 %  \n",
       "LASSO                                   0.17 %                      68.81 %  \n",
       "KNN                                     0.21 %                      59.47 %  \n",
       "LinearReg>0                              0.2 %                      57.55 %  \n",
       "SVR>0                                   0.19 %                      62.45 %  \n",
       "ridge>0                                  0.2 %                      58.08 %  \n",
       "RF60                                    0.26 %                       39.8 %  \n",
       "SVR>0.2                                 0.35 %                      16.49 %  \n",
       "No models - long term                   0.03 %                        100 %  "
      ]
     },
     "execution_count": 116,
     "metadata": {},
     "output_type": "execute_result"
    }
   ],
   "source": [
    "Summary_Validation = pd.DataFrame({'Best parameters': list(Total_best_params.values()), 'Val - Score': list(Total_val_score.values()),  'Val - Precision': Total_val_precision,'Val - Total returns': Total_val_returns, 'Val - Daily mean returns': Total_val_daily_returns,'Val - Part of investing days': Total_val_investing_days},\n",
    "                      index = list(Total_models.keys()))\n",
    "Summary_Validation"
   ]
  },
  {
   "cell_type": "markdown",
   "metadata": {},
   "source": [
    "Précisions sur les champs renseignées pour la ligne \"No  models - long term\" : \n",
    "\n",
    "* \"Val - Score\" et \"Val - Precision\" : part des jours durant lesquels les rendements du Dow Jones sont positifs\n",
    "\n",
    "* \"Val - Total returns\" : Rendements long terme, sans toucher à son investissement sur la période. On investit au début et on revend en fin de période.\n",
    "\n",
    "* \"Val - Daily means returns\" : Rendements moyen journaliers sur l'ensemble des jours travaillés\n",
    "\n",
    "* \"Val - Part of investing days\" : 100% est ici renseigné, mais attention cela ne signifie pas que l'on investit tous les jours, mais bien que l'on garde notre investissement sur l'ensemble de la période. Cela n'est pas équivalent au fait d'investir tous les jours travaillés en achetant à l'ouverture et en revendant à la fermeture. (car la valeur de fermeture du jour n-1 n'est pas forcément égale à la valeur d'ouverture du jour n)"
   ]
  },
  {
   "cell_type": "markdown",
   "metadata": {},
   "source": [
    "Observations et remarques sur le tableau :\n",
    "\n",
    "* Le modèle KNN semble être le meilleur modèle, avec un accuracy score de 63.71% et des rendements de 45.39%. Par comparaison les rendements avec un investissement long-terme sont de 12.57%, soit une performance 3.6 fois supérieur.\n",
    "\n",
    "\n",
    "    \n",
    "* Le modèle CART qui est très basique (surtout vu le fait qu'il ne se base que sur une seule variable dans notre cas), obtient des résultats plutôt convaincants et rivalise avec les autres modèles plus complexes et qui utilisent plus de variables. On voit donc qu'il est très compliqué d'améliorer nos résultats dans cette analyse.\n",
    "\n",
    "\n",
    "* Les modèles \"RF60\" et \"SVR>0.2\" dont on a parlé dans la partie précédente offrent des rendements inférieurs aux autres modèles, notamment à cause du fait que le nombre de jours sur lesquels un investissement est fait est plus faible. Cependant on observe que lorsqu'on investit les rendements journaliers sont en moyenne plus elevés. Ce sont donc des stratégies qui peuvent convenir à des investisseurs plus prudents. De plus ces rendements par jour plus elevés peuvent permettre d'amortir d'avantages les frais de courtage sur les investissements que l'on a pas encore évoqués mais qui sont en pratique bien présents."
   ]
  },
  {
   "cell_type": "markdown",
   "metadata": {},
   "source": [
    "Au final si l'on avait du choisir un modèle d'investissement pour prévoir les rendements des années 2019-2020 nous aurions choisis le modèle KNN qui semble donner les meilleurs performances. \n",
    "\n",
    "De plus, si l'on devait choisir un modèle plus prudent, on choisirait le modèle \"SVR>0.2\" qui permet de réaliser des investissements journaliers de rendements moyens de 0.35%, soit beaucoup plus que le modèle KNN qui est à 0.21%."
   ]
  },
  {
   "cell_type": "markdown",
   "metadata": {},
   "source": [
    "# Résultats sur le test set <a class=\"anchor\" id=\"6\"></a>"
   ]
  },
  {
   "cell_type": "markdown",
   "metadata": {},
   "source": [
    "## Résultats finaux sur le test set (du 02/01/2019 aux 13/11/2020) <a class=\"anchor\" id=\"61\"></a>"
   ]
  },
  {
   "cell_type": "markdown",
   "metadata": {},
   "source": [
    "On peut désormais enrichir notre tableau final avec le résultat sur le test set, qui nous permettra de vérifier la cohérence entre les résultats de validation et les résultats de test."
   ]
  },
  {
   "cell_type": "code",
   "execution_count": 117,
   "metadata": {},
   "outputs": [
    {
     "name": "stdout",
     "output_type": "stream",
     "text": [
      "27.84730452549246\n"
     ]
    }
   ],
   "source": [
    "mise_initiale = 100\n",
    "\n",
    "n=len(data_test[\"Close_DJ\"])\n",
    "returns_total = (data_test[\"Close_DJ\"].iloc[n-1]-data_test[\"Open_DJ\"].iloc[0])/data_test[\"Open_DJ\"].iloc[0]\n",
    "gain_strat_long_terme = mise_initiale * (1+ returns_total)\n",
    "\n",
    "print(gain_strat_long_terme-100)\n",
    "\n",
    "LongTermReturns = str(round((gain_strat_long_terme-100),2))+ \" %\""
   ]
  },
  {
   "cell_type": "markdown",
   "metadata": {},
   "source": [
    "28% de rendements moyen avec un investissement long terme sans utiliser de modèle entre le 2 janvier 2019 et le 13 novembre 2020"
   ]
  },
  {
   "cell_type": "code",
   "execution_count": 118,
   "metadata": {},
   "outputs": [],
   "source": [
    "Total_test_returns = []\n",
    "Total_test_daily_returns = []\n",
    "Total_test_investing_days = []\n",
    "Total_test_precision = []\n",
    "\n",
    "j = 0\n",
    "for modele_name in Modeles:\n",
    "    Model = Total_models[modele_name]\n",
    "    if modele_name in Classif :\n",
    "        \n",
    "        Model.fit(X_trainOpti, y_trainClassif)\n",
    "        y_pred = Model.predict(X_testOpti)\n",
    "        \n",
    "    if modele_name in Classif_avec_seuil :\n",
    "        \n",
    "        if Type[j]==\"Classif\":\n",
    "            Model.fit(X_trainOpti, y_trainClassif)\n",
    "            y_pred_reg = Model.predict_proba(X_testOpti)[:,1]\n",
    "            \n",
    "        else :\n",
    "            Model.fit(X_trainOpti, y_trainReg)\n",
    "            y_pred_reg = Model.predict(X_testOpti)\n",
    "            \n",
    "        y_pred = y_pred_reg>Seuils[j]\n",
    "        j= j+1\n",
    "\n",
    "        \n",
    "    cf = confusion_matrix(y_testClassif, y_pred)\n",
    "    Total_test_precision.append(str(round(cf[1,1]/(cf[1,1]+cf[0,1])*100,2) )+\" %\")\n",
    "        \n",
    "    gain_precedent = 100\n",
    "    for i in range(len(y_pred)):\n",
    "        if (y_pred[i]==1):\n",
    "            gain_cumul = gain_precedent + (gain_precedent * list(y_testReg)[i])\n",
    "            gain_precedent = gain_cumul\n",
    "\n",
    "    Total_test_returns.append(str(round(gain_cumul-100,2))+\" %\")\n",
    "    Total_test_daily_returns.append(str(round(np.mean(y_testReg[y_pred==1])*100,2))+\" %\")\n",
    "    Total_test_investing_days.append(str(round(sum(y_pred==1)*100/len(y_pred),2))+\" %\")"
   ]
  },
  {
   "cell_type": "code",
   "execution_count": 119,
   "metadata": {},
   "outputs": [],
   "source": [
    "Total_test_score[\"No models - long term\"]=str(round(np.mean(y_testClassif==1)*100,2))+\" %\"\n",
    "Total_test_precision.append(Total_test_score[\"No models - long term\"])\n",
    "Total_test_returns.append(LongTermReturns)\n",
    "Total_test_daily_returns.append(str(round(np.mean(y_testReg)*100,2))+\" %\")\n",
    "Total_test_investing_days.append(\"100 %\")"
   ]
  },
  {
   "cell_type": "code",
   "execution_count": 120,
   "metadata": {},
   "outputs": [],
   "source": [
    "Summary_Test = pd.DataFrame({'Best parameters': list(Total_best_params.values()), 'Val - Score': list(Total_val_score.values()),  'Val - precision': Total_val_precision,'Val - Total returns': Total_val_returns, 'Val - Daily mean returns': Total_val_daily_returns,'Val - Part of investing days': Total_val_investing_days, 'Test - score' : list(Total_test_score.values()), 'Test - precision': Total_test_precision, \"Test - returns\" : Total_test_returns, \"Test - daily mean returns\" : Total_test_daily_returns, \"Test - Part of investing days\": Total_test_investing_days },\n",
    "                      index = list(Total_models.keys()))\n"
   ]
  },
  {
   "cell_type": "code",
   "execution_count": 121,
   "metadata": {},
   "outputs": [
    {
     "data": {
      "text/html": [
       "<div>\n",
       "<style scoped>\n",
       "    .dataframe tbody tr th:only-of-type {\n",
       "        vertical-align: middle;\n",
       "    }\n",
       "\n",
       "    .dataframe tbody tr th {\n",
       "        vertical-align: top;\n",
       "    }\n",
       "\n",
       "    .dataframe thead th {\n",
       "        text-align: right;\n",
       "    }\n",
       "</style>\n",
       "<table border=\"1\" class=\"dataframe\">\n",
       "  <thead>\n",
       "    <tr style=\"text-align: right;\">\n",
       "      <th></th>\n",
       "      <th>Best parameters</th>\n",
       "      <th>Val - Score</th>\n",
       "      <th>Val - precision</th>\n",
       "      <th>Val - Total returns</th>\n",
       "      <th>Val - Daily mean returns</th>\n",
       "      <th>Val - Part of investing days</th>\n",
       "      <th>Test - score</th>\n",
       "      <th>Test - precision</th>\n",
       "      <th>Test - returns</th>\n",
       "      <th>Test - daily mean returns</th>\n",
       "      <th>Test - Part of investing days</th>\n",
       "    </tr>\n",
       "  </thead>\n",
       "  <tbody>\n",
       "    <tr>\n",
       "      <th>CART</th>\n",
       "      <td>{'criterion': 'gini', 'max_depth': 1}</td>\n",
       "      <td>61.99 %</td>\n",
       "      <td>64.57 %</td>\n",
       "      <td>39.68 %</td>\n",
       "      <td>0.19 %</td>\n",
       "      <td>56.75 %</td>\n",
       "      <td>56.66 %</td>\n",
       "      <td>60.46 %</td>\n",
       "      <td>61.57 %</td>\n",
       "      <td>0.19 %</td>\n",
       "      <td>55.6 %</td>\n",
       "    </tr>\n",
       "    <tr>\n",
       "      <th>RF</th>\n",
       "      <td>{'criterion': 'entropy', 'max_depth': 4, 'n_es...</td>\n",
       "      <td>63.11 %</td>\n",
       "      <td>65.17 %</td>\n",
       "      <td>42.4 %</td>\n",
       "      <td>0.2 %</td>\n",
       "      <td>58.61 %</td>\n",
       "      <td>58.99 %</td>\n",
       "      <td>62.22 %</td>\n",
       "      <td>85.39 %</td>\n",
       "      <td>0.24 %</td>\n",
       "      <td>57.08 %</td>\n",
       "    </tr>\n",
       "    <tr>\n",
       "      <th>LASSO</th>\n",
       "      <td>{'C': 10.0, 'penalty': 'l1'}</td>\n",
       "      <td>63.38 %</td>\n",
       "      <td>62.92 %</td>\n",
       "      <td>42.67 %</td>\n",
       "      <td>0.17 %</td>\n",
       "      <td>68.81 %</td>\n",
       "      <td>58.77 %</td>\n",
       "      <td>60.38 %</td>\n",
       "      <td>84.98 %</td>\n",
       "      <td>0.2 %</td>\n",
       "      <td>66.17 %</td>\n",
       "    </tr>\n",
       "    <tr>\n",
       "      <th>KNN</th>\n",
       "      <td>{'metric': 'euclidean', 'n_neighbors': 66}</td>\n",
       "      <td>63.71 %</td>\n",
       "      <td>65.45 %</td>\n",
       "      <td>45.39 %</td>\n",
       "      <td>0.21 %</td>\n",
       "      <td>59.47 %</td>\n",
       "      <td>59.2 %</td>\n",
       "      <td>61.92 %</td>\n",
       "      <td>78.31 %</td>\n",
       "      <td>0.21 %</td>\n",
       "      <td>59.41 %</td>\n",
       "    </tr>\n",
       "    <tr>\n",
       "      <th>LinearReg&gt;0</th>\n",
       "      <td></td>\n",
       "      <td>62.98 %</td>\n",
       "      <td>65.29 %</td>\n",
       "      <td>42.13 %</td>\n",
       "      <td>0.2 %</td>\n",
       "      <td>57.55 %</td>\n",
       "      <td>58.35 %</td>\n",
       "      <td>61.65 %</td>\n",
       "      <td>77.33 %</td>\n",
       "      <td>0.22 %</td>\n",
       "      <td>56.24 %</td>\n",
       "    </tr>\n",
       "    <tr>\n",
       "      <th>SVR&gt;0</th>\n",
       "      <td>{'C': 0.1, 'epsilon': 0.0001, 'gamma': 1, 'ker...</td>\n",
       "      <td>63.64 %</td>\n",
       "      <td>64.58 %</td>\n",
       "      <td>45.04 %</td>\n",
       "      <td>0.19 %</td>\n",
       "      <td>62.45 %</td>\n",
       "      <td>57.93 %</td>\n",
       "      <td>61.62 %</td>\n",
       "      <td>81.45 %</td>\n",
       "      <td>0.22 %</td>\n",
       "      <td>60.04 %</td>\n",
       "    </tr>\n",
       "    <tr>\n",
       "      <th>ridge&gt;0</th>\n",
       "      <td>{'alpha': 0.03}</td>\n",
       "      <td>63.38 %</td>\n",
       "      <td>65.49 %</td>\n",
       "      <td>42.88 %</td>\n",
       "      <td>0.2 %</td>\n",
       "      <td>58.08 %</td>\n",
       "      <td>57.93 %</td>\n",
       "      <td>60.59 %</td>\n",
       "      <td>67.54 %</td>\n",
       "      <td>0.2 %</td>\n",
       "      <td>56.87 %</td>\n",
       "    </tr>\n",
       "    <tr>\n",
       "      <th>RF60</th>\n",
       "      <td>{'criterion': 'entropy', 'max_depth': 4, 'n_es...</td>\n",
       "      <td>61.52 %</td>\n",
       "      <td>69.7 %</td>\n",
       "      <td>38.24 %</td>\n",
       "      <td>0.26 %</td>\n",
       "      <td>39.8 %</td>\n",
       "      <td>57.93 %</td>\n",
       "      <td>65.8 %</td>\n",
       "      <td>62.91 %</td>\n",
       "      <td>0.26 %</td>\n",
       "      <td>40.8 %</td>\n",
       "    </tr>\n",
       "    <tr>\n",
       "      <th>SVR&gt;0.2</th>\n",
       "      <td>{'C': 0.1, 'epsilon': 0.0001, 'gamma': 1, 'ker...</td>\n",
       "      <td>52.91 %</td>\n",
       "      <td>69.51 %</td>\n",
       "      <td>24.04 %</td>\n",
       "      <td>0.35 %</td>\n",
       "      <td>16.49 %</td>\n",
       "      <td>54.97 %</td>\n",
       "      <td>69.7 %</td>\n",
       "      <td>46.29 %</td>\n",
       "      <td>0.39 %</td>\n",
       "      <td>20.93 %</td>\n",
       "    </tr>\n",
       "    <tr>\n",
       "      <th>No models - long term</th>\n",
       "      <td></td>\n",
       "      <td>54.44 %</td>\n",
       "      <td>54.44 %</td>\n",
       "      <td>12.57 %</td>\n",
       "      <td>0.03 %</td>\n",
       "      <td>100 %</td>\n",
       "      <td>54.97 %</td>\n",
       "      <td>54.97 %</td>\n",
       "      <td>27.85 %</td>\n",
       "      <td>0.02 %</td>\n",
       "      <td>100 %</td>\n",
       "    </tr>\n",
       "  </tbody>\n",
       "</table>\n",
       "</div>"
      ],
      "text/plain": [
       "                                                         Best parameters  \\\n",
       "CART                               {'criterion': 'gini', 'max_depth': 1}   \n",
       "RF                     {'criterion': 'entropy', 'max_depth': 4, 'n_es...   \n",
       "LASSO                                       {'C': 10.0, 'penalty': 'l1'}   \n",
       "KNN                           {'metric': 'euclidean', 'n_neighbors': 66}   \n",
       "LinearReg>0                                                                \n",
       "SVR>0                  {'C': 0.1, 'epsilon': 0.0001, 'gamma': 1, 'ker...   \n",
       "ridge>0                                                  {'alpha': 0.03}   \n",
       "RF60                   {'criterion': 'entropy', 'max_depth': 4, 'n_es...   \n",
       "SVR>0.2                {'C': 0.1, 'epsilon': 0.0001, 'gamma': 1, 'ker...   \n",
       "No models - long term                                                      \n",
       "\n",
       "                      Val - Score Val - precision Val - Total returns  \\\n",
       "CART                      61.99 %         64.57 %             39.68 %   \n",
       "RF                        63.11 %         65.17 %              42.4 %   \n",
       "LASSO                     63.38 %         62.92 %             42.67 %   \n",
       "KNN                       63.71 %         65.45 %             45.39 %   \n",
       "LinearReg>0               62.98 %         65.29 %             42.13 %   \n",
       "SVR>0                     63.64 %         64.58 %             45.04 %   \n",
       "ridge>0                   63.38 %         65.49 %             42.88 %   \n",
       "RF60                      61.52 %          69.7 %             38.24 %   \n",
       "SVR>0.2                   52.91 %         69.51 %             24.04 %   \n",
       "No models - long term     54.44 %         54.44 %             12.57 %   \n",
       "\n",
       "                      Val - Daily mean returns Val - Part of investing days  \\\n",
       "CART                                    0.19 %                      56.75 %   \n",
       "RF                                       0.2 %                      58.61 %   \n",
       "LASSO                                   0.17 %                      68.81 %   \n",
       "KNN                                     0.21 %                      59.47 %   \n",
       "LinearReg>0                              0.2 %                      57.55 %   \n",
       "SVR>0                                   0.19 %                      62.45 %   \n",
       "ridge>0                                  0.2 %                      58.08 %   \n",
       "RF60                                    0.26 %                       39.8 %   \n",
       "SVR>0.2                                 0.35 %                      16.49 %   \n",
       "No models - long term                   0.03 %                        100 %   \n",
       "\n",
       "                      Test - score Test - precision Test - returns  \\\n",
       "CART                       56.66 %          60.46 %        61.57 %   \n",
       "RF                         58.99 %          62.22 %        85.39 %   \n",
       "LASSO                      58.77 %          60.38 %        84.98 %   \n",
       "KNN                         59.2 %          61.92 %        78.31 %   \n",
       "LinearReg>0                58.35 %          61.65 %        77.33 %   \n",
       "SVR>0                      57.93 %          61.62 %        81.45 %   \n",
       "ridge>0                    57.93 %          60.59 %        67.54 %   \n",
       "RF60                       57.93 %           65.8 %        62.91 %   \n",
       "SVR>0.2                    54.97 %           69.7 %        46.29 %   \n",
       "No models - long term      54.97 %          54.97 %        27.85 %   \n",
       "\n",
       "                      Test - daily mean returns Test - Part of investing days  \n",
       "CART                                     0.19 %                        55.6 %  \n",
       "RF                                       0.24 %                       57.08 %  \n",
       "LASSO                                     0.2 %                       66.17 %  \n",
       "KNN                                      0.21 %                       59.41 %  \n",
       "LinearReg>0                              0.22 %                       56.24 %  \n",
       "SVR>0                                    0.22 %                       60.04 %  \n",
       "ridge>0                                   0.2 %                       56.87 %  \n",
       "RF60                                     0.26 %                        40.8 %  \n",
       "SVR>0.2                                  0.39 %                       20.93 %  \n",
       "No models - long term                    0.02 %                         100 %  "
      ]
     },
     "execution_count": 121,
     "metadata": {},
     "output_type": "execute_result"
    }
   ],
   "source": [
    "Summary_Test"
   ]
  },
  {
   "cell_type": "markdown",
   "metadata": {},
   "source": [
    "Observations et remarques sur le tableau :\n",
    "\n",
    "* Le modèle KNN que nous avons sélectionné est également le modèle avec le meilleure score d'accuracy de test vu qu'il est en effet de 59.2%. Cependant niveau rendements, ce n'est pas le meilleure, le modèle de Random Forest le devance avec des rendements de 85,39% sur les 2 ans contre 78,31% pour KNN. Ces rendements restent tout de même très satisfaisants vu qu'ils sont 3 fois supérieurs aux rendements sur le long terme.\n",
    "\n",
    "\n",
    "* Le modèle CART, malgré sa simplicité, obtient des rendements presque 2 fois supérieurs aux rendements long terme\n",
    "\n",
    "\n",
    "* Le modèle \"SVR>0.2\" plus prudent que nous avons choisis, obtient des rendements journaliers moyen de pratiquement 0.4%, avec un rendement total sur la période de 46.29% en ayant investi durant 20.93% des jours."
   ]
  },
  {
   "cell_type": "markdown",
   "metadata": {},
   "source": [
    "## Résultats en période de crise (du 12/02/2020 au 23/03/2020) <a class=\"anchor\" id=\"62\"></a>"
   ]
  },
  {
   "cell_type": "markdown",
   "metadata": {},
   "source": [
    "L'idée de cette partie est de tester les résultats de nos modèles en période de crise. Nous avons sélectionné la période allant du 12 février 2020 au 23 mars 2020, période pendant laquelle l'indice du Dow Jones a chuté de 36.78%."
   ]
  },
  {
   "cell_type": "code",
   "execution_count": 122,
   "metadata": {},
   "outputs": [
    {
     "name": "stdout",
     "output_type": "stream",
     "text": [
      "-36.77665948124156\n"
     ]
    }
   ],
   "source": [
    "data_test_crisis = data_test.iloc[280:308].reset_index(drop=True)\n",
    "y_testReg_crisis = data_test_crisis[\"Returns_DJ\"]\n",
    "y_testClassif_crisis = data_test_crisis[\"Returns_DJ_positive\"]\n",
    "X_testOpti_crisis = data_test_crisis[VarExpli]\n",
    "\n",
    "\n",
    "mise_initiale = 100\n",
    "\n",
    "n=len(data_test_crisis[\"Close_DJ\"])\n",
    "returns_total = (data_test_crisis[\"Close_DJ\"].iloc[n-1]-data_test_crisis[\"Open_DJ\"].iloc[0])/data_test_crisis[\"Open_DJ\"].iloc[0]\n",
    "gain_strat_long_terme = mise_initiale * (1+ returns_total)\n",
    "\n",
    "print(gain_strat_long_terme-100)\n",
    "\n",
    "LongTermReturns = str(round((gain_strat_long_terme-100),2))+ \" %\""
   ]
  },
  {
   "cell_type": "code",
   "execution_count": 123,
   "metadata": {},
   "outputs": [],
   "source": [
    "Total_test_returns = []\n",
    "Total_test_daily_returns = []\n",
    "Total_test_investing_days = []\n",
    "Total_test_precision = []\n",
    "Total_test_accuracy = []\n",
    "\n",
    "j = 0\n",
    "for modele_name in Modeles:\n",
    "    Model = Total_models[modele_name]\n",
    "    if modele_name in Classif :\n",
    "        \n",
    "        Model.fit(X_trainOpti, y_trainClassif)\n",
    "        y_pred = Model.predict(X_testOpti_crisis)\n",
    "        \n",
    "    if modele_name in Classif_avec_seuil :\n",
    "        \n",
    "        if Type[j]==\"Classif\":\n",
    "            Model.fit(X_trainOpti, y_trainClassif)\n",
    "            y_pred_reg = Model.predict_proba(X_testOpti_crisis)[:,1]\n",
    "            \n",
    "        else :\n",
    "            Model.fit(X_trainOpti, y_trainReg)\n",
    "            y_pred_reg = Model.predict(X_testOpti_crisis)\n",
    "            \n",
    "        y_pred = y_pred_reg>Seuils[j]\n",
    "        j= j+1\n",
    "\n",
    "    acc = accuracy_score(y_testClassif_crisis, y_pred)*100  \n",
    "    Total_test_accuracy.append(str(round(acc,2))+\" %\")   \n",
    "    \n",
    "    cf = confusion_matrix(y_testClassif_crisis, y_pred)\n",
    "    Total_test_precision.append(str(round(cf[1,1]/(cf[1,1]+cf[0,1])*100,2) )+\" %\")\n",
    "        \n",
    "    gain_precedent = 100\n",
    "    for i in range(len(y_pred)):\n",
    "        if (y_pred[i]==1):\n",
    "            gain_cumul = gain_precedent + (gain_precedent * list(y_testReg_crisis)[i])\n",
    "            gain_precedent = gain_cumul\n",
    "\n",
    "    Total_test_returns.append(str(round(gain_cumul-100,2))+\" %\")\n",
    "    Total_test_daily_returns.append(str(round(np.mean(y_testReg_crisis[y_pred==1])*100,2))+\" %\")\n",
    "    Total_test_investing_days.append(str(round(sum(y_pred==1)*100/len(y_pred),2))+\" %\")\n"
   ]
  },
  {
   "cell_type": "code",
   "execution_count": 124,
   "metadata": {},
   "outputs": [],
   "source": [
    "Total_test_accuracy.append(str(round(np.mean(y_testClassif_crisis==1)*100,2))+\" %\")\n",
    "Total_test_precision.append(str(round(np.mean(y_testClassif_crisis==1)*100,2))+\" %\")\n",
    "Total_test_returns.append(LongTermReturns)\n",
    "Total_test_daily_returns.append(str(round(np.mean(y_testReg_crisis)*100,2))+\" %\")\n",
    "Total_test_investing_days.append(\"100 %\")"
   ]
  },
  {
   "cell_type": "code",
   "execution_count": 125,
   "metadata": {},
   "outputs": [],
   "source": [
    "Summary_test_crisis = pd.DataFrame({'Best parameters': list(Total_best_params.values()), 'Val - Score': list(Total_val_score.values()),  'Val - precision': Total_val_precision,'Val - Total returns': Total_val_returns, 'Val - Daily mean returns': Total_val_daily_returns,'Val - Part of investing days': Total_val_investing_days, 'Test - score' : Total_test_accuracy, 'Test - precision': Total_test_precision, \"Test - returns\" : Total_test_returns, \"Test - daily mean returns\" : Total_test_daily_returns, \"Test - Part of investing days\": Total_test_investing_days },\n",
    "                      index = list(Total_models.keys()))\n"
   ]
  },
  {
   "cell_type": "code",
   "execution_count": 126,
   "metadata": {},
   "outputs": [
    {
     "data": {
      "text/html": [
       "<div>\n",
       "<style scoped>\n",
       "    .dataframe tbody tr th:only-of-type {\n",
       "        vertical-align: middle;\n",
       "    }\n",
       "\n",
       "    .dataframe tbody tr th {\n",
       "        vertical-align: top;\n",
       "    }\n",
       "\n",
       "    .dataframe thead th {\n",
       "        text-align: right;\n",
       "    }\n",
       "</style>\n",
       "<table border=\"1\" class=\"dataframe\">\n",
       "  <thead>\n",
       "    <tr style=\"text-align: right;\">\n",
       "      <th></th>\n",
       "      <th>Best parameters</th>\n",
       "      <th>Val - Score</th>\n",
       "      <th>Val - precision</th>\n",
       "      <th>Val - Total returns</th>\n",
       "      <th>Val - Daily mean returns</th>\n",
       "      <th>Val - Part of investing days</th>\n",
       "      <th>Test - score</th>\n",
       "      <th>Test - precision</th>\n",
       "      <th>Test - returns</th>\n",
       "      <th>Test - daily mean returns</th>\n",
       "      <th>Test - Part of investing days</th>\n",
       "    </tr>\n",
       "  </thead>\n",
       "  <tbody>\n",
       "    <tr>\n",
       "      <th>CART</th>\n",
       "      <td>{'criterion': 'gini', 'max_depth': 1}</td>\n",
       "      <td>61.99 %</td>\n",
       "      <td>64.57 %</td>\n",
       "      <td>39.68 %</td>\n",
       "      <td>0.19 %</td>\n",
       "      <td>56.75 %</td>\n",
       "      <td>75.0 %</td>\n",
       "      <td>66.67 %</td>\n",
       "      <td>6.42 %</td>\n",
       "      <td>0.75 %</td>\n",
       "      <td>32.14 %</td>\n",
       "    </tr>\n",
       "    <tr>\n",
       "      <th>RF</th>\n",
       "      <td>{'criterion': 'entropy', 'max_depth': 4, 'n_es...</td>\n",
       "      <td>63.11 %</td>\n",
       "      <td>65.17 %</td>\n",
       "      <td>42.4 %</td>\n",
       "      <td>0.2 %</td>\n",
       "      <td>58.61 %</td>\n",
       "      <td>71.43 %</td>\n",
       "      <td>60.0 %</td>\n",
       "      <td>3.47 %</td>\n",
       "      <td>0.39 %</td>\n",
       "      <td>35.71 %</td>\n",
       "    </tr>\n",
       "    <tr>\n",
       "      <th>LASSO</th>\n",
       "      <td>{'C': 10.0, 'penalty': 'l1'}</td>\n",
       "      <td>63.38 %</td>\n",
       "      <td>62.92 %</td>\n",
       "      <td>42.67 %</td>\n",
       "      <td>0.17 %</td>\n",
       "      <td>68.81 %</td>\n",
       "      <td>67.86 %</td>\n",
       "      <td>54.55 %</td>\n",
       "      <td>8.56 %</td>\n",
       "      <td>0.78 %</td>\n",
       "      <td>39.29 %</td>\n",
       "    </tr>\n",
       "    <tr>\n",
       "      <th>KNN</th>\n",
       "      <td>{'metric': 'euclidean', 'n_neighbors': 66}</td>\n",
       "      <td>63.71 %</td>\n",
       "      <td>65.45 %</td>\n",
       "      <td>45.39 %</td>\n",
       "      <td>0.21 %</td>\n",
       "      <td>59.47 %</td>\n",
       "      <td>67.86 %</td>\n",
       "      <td>55.56 %</td>\n",
       "      <td>4.47 %</td>\n",
       "      <td>0.52 %</td>\n",
       "      <td>32.14 %</td>\n",
       "    </tr>\n",
       "    <tr>\n",
       "      <th>LinearReg&gt;0</th>\n",
       "      <td></td>\n",
       "      <td>62.98 %</td>\n",
       "      <td>65.29 %</td>\n",
       "      <td>42.13 %</td>\n",
       "      <td>0.2 %</td>\n",
       "      <td>57.55 %</td>\n",
       "      <td>71.43 %</td>\n",
       "      <td>62.5 %</td>\n",
       "      <td>4.97 %</td>\n",
       "      <td>0.64 %</td>\n",
       "      <td>28.57 %</td>\n",
       "    </tr>\n",
       "    <tr>\n",
       "      <th>SVR&gt;0</th>\n",
       "      <td>{'C': 0.1, 'epsilon': 0.0001, 'gamma': 1, 'ker...</td>\n",
       "      <td>63.64 %</td>\n",
       "      <td>64.58 %</td>\n",
       "      <td>45.04 %</td>\n",
       "      <td>0.19 %</td>\n",
       "      <td>62.45 %</td>\n",
       "      <td>67.86 %</td>\n",
       "      <td>55.56 %</td>\n",
       "      <td>4.19 %</td>\n",
       "      <td>0.49 %</td>\n",
       "      <td>32.14 %</td>\n",
       "    </tr>\n",
       "    <tr>\n",
       "      <th>ridge&gt;0</th>\n",
       "      <td>{'alpha': 0.03}</td>\n",
       "      <td>63.38 %</td>\n",
       "      <td>65.49 %</td>\n",
       "      <td>42.88 %</td>\n",
       "      <td>0.2 %</td>\n",
       "      <td>58.08 %</td>\n",
       "      <td>67.86 %</td>\n",
       "      <td>55.56 %</td>\n",
       "      <td>4.19 %</td>\n",
       "      <td>0.49 %</td>\n",
       "      <td>32.14 %</td>\n",
       "    </tr>\n",
       "    <tr>\n",
       "      <th>RF60</th>\n",
       "      <td>{'criterion': 'entropy', 'max_depth': 4, 'n_es...</td>\n",
       "      <td>61.52 %</td>\n",
       "      <td>69.7 %</td>\n",
       "      <td>38.24 %</td>\n",
       "      <td>0.26 %</td>\n",
       "      <td>39.8 %</td>\n",
       "      <td>71.43 %</td>\n",
       "      <td>66.67 %</td>\n",
       "      <td>0.01 %</td>\n",
       "      <td>0.03 %</td>\n",
       "      <td>21.43 %</td>\n",
       "    </tr>\n",
       "    <tr>\n",
       "      <th>SVR&gt;0.2</th>\n",
       "      <td>{'C': 0.1, 'epsilon': 0.0001, 'gamma': 1, 'ker...</td>\n",
       "      <td>52.91 %</td>\n",
       "      <td>69.51 %</td>\n",
       "      <td>24.04 %</td>\n",
       "      <td>0.35 %</td>\n",
       "      <td>16.49 %</td>\n",
       "      <td>71.43 %</td>\n",
       "      <td>75.0 %</td>\n",
       "      <td>8.3 %</td>\n",
       "      <td>2.05 %</td>\n",
       "      <td>14.29 %</td>\n",
       "    </tr>\n",
       "    <tr>\n",
       "      <th>No models - long term</th>\n",
       "      <td></td>\n",
       "      <td>54.44 %</td>\n",
       "      <td>54.44 %</td>\n",
       "      <td>12.57 %</td>\n",
       "      <td>0.03 %</td>\n",
       "      <td>100 %</td>\n",
       "      <td>35.71 %</td>\n",
       "      <td>35.71 %</td>\n",
       "      <td>-36.78 %</td>\n",
       "      <td>-0.65 %</td>\n",
       "      <td>100 %</td>\n",
       "    </tr>\n",
       "  </tbody>\n",
       "</table>\n",
       "</div>"
      ],
      "text/plain": [
       "                                                         Best parameters  \\\n",
       "CART                               {'criterion': 'gini', 'max_depth': 1}   \n",
       "RF                     {'criterion': 'entropy', 'max_depth': 4, 'n_es...   \n",
       "LASSO                                       {'C': 10.0, 'penalty': 'l1'}   \n",
       "KNN                           {'metric': 'euclidean', 'n_neighbors': 66}   \n",
       "LinearReg>0                                                                \n",
       "SVR>0                  {'C': 0.1, 'epsilon': 0.0001, 'gamma': 1, 'ker...   \n",
       "ridge>0                                                  {'alpha': 0.03}   \n",
       "RF60                   {'criterion': 'entropy', 'max_depth': 4, 'n_es...   \n",
       "SVR>0.2                {'C': 0.1, 'epsilon': 0.0001, 'gamma': 1, 'ker...   \n",
       "No models - long term                                                      \n",
       "\n",
       "                      Val - Score Val - precision Val - Total returns  \\\n",
       "CART                      61.99 %         64.57 %             39.68 %   \n",
       "RF                        63.11 %         65.17 %              42.4 %   \n",
       "LASSO                     63.38 %         62.92 %             42.67 %   \n",
       "KNN                       63.71 %         65.45 %             45.39 %   \n",
       "LinearReg>0               62.98 %         65.29 %             42.13 %   \n",
       "SVR>0                     63.64 %         64.58 %             45.04 %   \n",
       "ridge>0                   63.38 %         65.49 %             42.88 %   \n",
       "RF60                      61.52 %          69.7 %             38.24 %   \n",
       "SVR>0.2                   52.91 %         69.51 %             24.04 %   \n",
       "No models - long term     54.44 %         54.44 %             12.57 %   \n",
       "\n",
       "                      Val - Daily mean returns Val - Part of investing days  \\\n",
       "CART                                    0.19 %                      56.75 %   \n",
       "RF                                       0.2 %                      58.61 %   \n",
       "LASSO                                   0.17 %                      68.81 %   \n",
       "KNN                                     0.21 %                      59.47 %   \n",
       "LinearReg>0                              0.2 %                      57.55 %   \n",
       "SVR>0                                   0.19 %                      62.45 %   \n",
       "ridge>0                                  0.2 %                      58.08 %   \n",
       "RF60                                    0.26 %                       39.8 %   \n",
       "SVR>0.2                                 0.35 %                      16.49 %   \n",
       "No models - long term                   0.03 %                        100 %   \n",
       "\n",
       "                      Test - score Test - precision Test - returns  \\\n",
       "CART                        75.0 %          66.67 %         6.42 %   \n",
       "RF                         71.43 %           60.0 %         3.47 %   \n",
       "LASSO                      67.86 %          54.55 %         8.56 %   \n",
       "KNN                        67.86 %          55.56 %         4.47 %   \n",
       "LinearReg>0                71.43 %           62.5 %         4.97 %   \n",
       "SVR>0                      67.86 %          55.56 %         4.19 %   \n",
       "ridge>0                    67.86 %          55.56 %         4.19 %   \n",
       "RF60                       71.43 %          66.67 %         0.01 %   \n",
       "SVR>0.2                    71.43 %           75.0 %          8.3 %   \n",
       "No models - long term      35.71 %          35.71 %       -36.78 %   \n",
       "\n",
       "                      Test - daily mean returns Test - Part of investing days  \n",
       "CART                                     0.75 %                       32.14 %  \n",
       "RF                                       0.39 %                       35.71 %  \n",
       "LASSO                                    0.78 %                       39.29 %  \n",
       "KNN                                      0.52 %                       32.14 %  \n",
       "LinearReg>0                              0.64 %                       28.57 %  \n",
       "SVR>0                                    0.49 %                       32.14 %  \n",
       "ridge>0                                  0.49 %                       32.14 %  \n",
       "RF60                                     0.03 %                       21.43 %  \n",
       "SVR>0.2                                  2.05 %                       14.29 %  \n",
       "No models - long term                   -0.65 %                         100 %  "
      ]
     },
     "execution_count": 126,
     "metadata": {},
     "output_type": "execute_result"
    }
   ],
   "source": [
    "Summary_test_crisis"
   ]
  },
  {
   "cell_type": "markdown",
   "metadata": {},
   "source": [
    "Observations et remarques sur le tableau :\n",
    "\n",
    "* L'ensemble de nos modèles retournent des rendements positifs sur la période ce qui est une plutôt bonne performance étant donné la situation.\n",
    "\n",
    "\n",
    "* Les modèles investissent ici en moyenne 30% des jours contre 60%  des jours dans le tableau précédent, les modèles ont donc bien évalué cette situation de crise.\n",
    "\n",
    "\n",
    "* Le modèle plus prudent \"RF>0.2\" qu'on avait selectionné a investit seulement 4 jours sur les 28 constituant la période, avec des rendements moyen sur ces 4 jours de l'ordre des 2% avec un rendement total de 8%"
   ]
  },
  {
   "cell_type": "markdown",
   "metadata": {},
   "source": [
    "# Prochaines étapes et limites de l'étude <a class=\"anchor\" id=\"7\"></a>"
   ]
  },
  {
   "cell_type": "markdown",
   "metadata": {},
   "source": [
    "## Learning Curve - Besoin de données supplémentaires ? <a class=\"anchor\" id=\"71\"></a>"
   ]
  },
  {
   "cell_type": "code",
   "execution_count": 127,
   "metadata": {},
   "outputs": [
    {
     "name": "stdout",
     "output_type": "stream",
     "text": [
      "[ 120  392  664  936 1208]\n"
     ]
    },
    {
     "data": {
      "text/plain": [
       "<matplotlib.legend.Legend at 0x20b4af4b610>"
      ]
     },
     "execution_count": 127,
     "metadata": {},
     "output_type": "execute_result"
    },
    {
     "data": {
      "image/png": "[encoded data removed]",
      "text/plain": [
       "<Figure size 432x288 with 1 Axes>"
      ]
     },
     "metadata": {
      "needs_background": "light"
     },
     "output_type": "display_data"
    }
   ],
   "source": [
    "from sklearn.model_selection import learning_curve\n",
    "\n",
    "N, train_score, val_score = learning_curve(best_RF, X_trainOpti, y_trainClassif, train_sizes = np.linspace(0.1, 1, 5), cv=5)\n",
    "\n",
    "print(N)\n",
    "plt.plot(N, val_score.mean(axis=1), label=\"validation score\")\n",
    "plt.title(\"Courbe de validation\")\n",
    "plt.xlabel(\"Taille du dataset d'entraînement\")\n",
    "plt.legend()"
   ]
  },
  {
   "cell_type": "markdown",
   "metadata": {},
   "source": [
    "L'idée de cette courbe est de représenter l'évolution du score de validation en fonction de la taille du dataset sur lequel on s'entraîne.\n",
    "\n",
    "Ici, on observe que la courbe ne semble pas clairement stagner, il pourra donc éventuellement être utile de disposer de d'avantages de données sur la période avant 2013. D'un point de vue opérationnel cela impliquera de devoir acheter ces données étant donné qu'elles ne sont pas trouvables gratuitement en ligne."
   ]
  },
  {
   "cell_type": "markdown",
   "metadata": {},
   "source": [
    "## Limites et améliorations possibles <a class=\"anchor\" id=\"72\"></a>"
   ]
  },
  {
   "cell_type": "markdown",
   "metadata": {},
   "source": [
    "Limites :\n",
    "    \n",
    "   * **Stratégie d'investissement difficilement réalisable en pratique**\n",
    "\n",
    "1- Impossible d'acheter  exactement au prix d'ouverture et de vendre exactement au prix de fermeture\n",
    "    \n",
    "    \n",
    "2- Les fonds indexés sur les indices boursiers ne suivent pas exactement les rendements du Dow Jones, il faudrait donc quantifier cet écart et ses conséquences.\n",
    "    \n",
    "    \n",
    "3- Cette étude ne prend en compte à aucun moment les frais de courtage sur les actions qui peuvent s'appliquer par exemple lorsqu'on un passe un ordre de vente et un ordre d'achat. Dans le cas ou ces frais seraient trop élevées cela pourrait rendre totalement obsolète la stratégie.\n",
    "    \n",
    "    \n",
    "  * **Les données concernant les rendements à 15h ont été extraites d'une base de données gratuite. Cette donnée étant habituellement payante, un travail de fiabilisation supplémentaire de ces données serait préférable. De plus il serait intéressant d'enrichir la base avec les données avant 2013 pour éventuellement améliorer la phase d'apprentissage de nos modèles.**\n",
    "  \n",
    "  \n",
    "  * **Les rendements passés du Dow Jones n'ont pas été pris en compte dans l'étude. Un travail plus profond sur des problématiques de séries temporelles pourrait être intéréssant pour améliorer nos scores et nos rendements (Modèle ARIMA, LSTM etc...)**\n",
    "  \n",
    "  \n",
    "  * **Une étude plus précise des corrélations pourrait être intégré, avec l'introduction de copules par exemple**"
   ]
  },
  {
   "cell_type": "markdown",
   "metadata": {},
   "source": [
    "# Conclusion <a class=\"anchor\" id=\"8\"></a>"
   ]
  },
  {
   "cell_type": "markdown",
   "metadata": {},
   "source": [
    "Pour conclure, il apparaît très clairement dans cette étude que les rendements des indices internationaux avant ouverture de Wall Street peuvent aider à prédire la tendance du jour du Dow Jones avec une précision aux alentours de 59% sur la période de test 2019-2020. Un score d'autant plus satisfaisant qu'uniquement les données du jour J sont utilisées pour prédire les rendements du jour J.\n",
    "\n",
    "De plus, malgré la complexité de l'interprétation de certains algorithmes, l'idée derrière est assez claire, plus les rendements des indices internationaux sont positifs et plus ceux du Dow Jones le seront aussi selon les modélisations.\n",
    "\n",
    "Il apparaît également que la complexité des modèles n'apporte pas une plus-value flagrante, à l'image du modèle CART dont le score de précision atteint pratiquement les 57% malgré sa simplicité.\n",
    "\n",
    "Par la suite, en considérant une stratégie d'investissement journalière sur les jours dont la tendance prédite est positive, on peut obtenir des rendements théoriques environ 3 fois supérieures aux rendements long-terme sur la même période. Cependant, en pratique, cette stratégie est loin d'être facilement réalisable.\n",
    "\n",
    "Enfin, que la stratégie d'investissement soit fiable ou non, cette analyse nous apporte quand même un certain point de vue sur les liens qu'il peut y avoir entre les différentes bourses. Si le marché américain est certes très influent, entre la fermeture de Wall Street du jour n-1 et l'ouverture du jour n, il peut se passer de nombreuses choses dans le monde et n'importe quelle évènement  ayant lieu dans cet intervalle peut d'abord se faire ressentir sur les bourses non américaines puis dans un deuxième temps sur les bourses américaines."
   ]
  }
 ],
 "metadata": {
  "kernelspec": {
   "display_name": "Python 3",
   "language": "python",
   "name": "python3"
  },
  "language_info": {
   "codemirror_mode": {
    "name": "ipython",
    "version": 3
   },
   "file_extension": ".py",
   "mimetype": "text/x-python",
   "name": "python",
   "nbconvert_exporter": "python",
   "pygments_lexer": "ipython3",
   "version": "3.8.5"
  }
 },
 "nbformat": 4,
 "nbformat_minor": 2
}
